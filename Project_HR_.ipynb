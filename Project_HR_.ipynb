{
  "nbformat": 4,
  "nbformat_minor": 0,
  "metadata": {
    "colab": {
      "name": "Project HR .ipynb",
      "provenance": [],
      "collapsed_sections": [],
      "toc_visible": true
    },
    "kernelspec": {
      "name": "python3",
      "display_name": "Python 3"
    }
  },
  "cells": [
    {
      "cell_type": "code",
      "metadata": {
        "id": "Ndq4PqDBqopV"
      },
      "source": [
        ""
      ],
      "execution_count": null,
      "outputs": []
    },
    {
      "cell_type": "markdown",
      "metadata": {
        "id": "4R4DvK92q8qx"
      },
      "source": [
        "## **Employee Attrition & Performance**\n",
        "\n",
        "---\n",
        "\n",
        "This project is part of Udacity's Data Scientist Nanodegree program In this project, I am asked to pick a dataset and answer any 3 questions from the data. The project will follow CRISP-DM process (Cross Industry Process for Data Mining):\n",
        "* Business understanding\n",
        "* Data understanding\n",
        "* Data preparation\n",
        "* Modeling\n",
        "* Evaluation\n",
        "* Deployment\n",
        "\n",
        "\n",
        "\n",
        "\n"
      ]
    },
    {
      "cell_type": "markdown",
      "metadata": {
        "id": "1aGEVtd7vwUG"
      },
      "source": [
        "**Business understanding**\n",
        "\n"
      ]
    },
    {
      "cell_type": "markdown",
      "metadata": {
        "id": "LHya6W3B89jy"
      },
      "source": [
        "What are the reasons that make the employee resign?\n",
        "\n",
        "The question is very important and important for the owners of companies and organizations, and there are many reasons\n",
        "In the notebook I will discuss three main factors (non-competitive salary, relationship with manager, relationship with co-workers)."
      ]
    },
    {
      "cell_type": "markdown",
      "metadata": {
        "id": "Ng4hmKB0yOFe"
      },
      "source": [
        "**Data understanding**\n",
        "\n",
        "My data source is kaggle.com , it is 1 dataset.In the next step, I'll explain what columns are used in my analysis and modelling phase. \n",
        "\n"
      ]
    },
    {
      "cell_type": "markdown",
      "metadata": {
        "id": "JKXb80y9zfcs"
      },
      "source": [
        "**Data preparation**\n",
        "\n",
        "At this stage, the data will be processed and the type of data will be displayed, and if there are missing values, it will be processed. "
      ]
    },
    {
      "cell_type": "code",
      "metadata": {
        "id": "U4EposyI0qO5"
      },
      "source": [
        "import pandas as pd\n",
        "import numpy as np\n",
        "import matplotlib.pyplot as plt\n",
        "import plotly.express as px\n",
        "from sklearn.model_selection import train_test_split\n",
        "from sklearn.preprocessing import MinMaxScaler\n",
        "from sklearn.ensemble import RandomForestClassifier\n",
        "from sklearn.metrics import accuracy_score\n",
        "from sklearn.metrics import confusion_matrix, classification_report"
      ],
      "execution_count": 5,
      "outputs": []
    },
    {
      "cell_type": "code",
      "metadata": {
        "id": "puAjlP330s50"
      },
      "source": [
        "HrData = pd.read_csv(\"WA_Fn-UseC_-HR-Employee-Attrition.csv\")"
      ],
      "execution_count": 6,
      "outputs": []
    },
    {
      "cell_type": "code",
      "metadata": {
        "colab": {
          "base_uri": "https://localhost:8080/",
          "height": 609
        },
        "id": "g3wYs8Tm0yWR",
        "outputId": "613526d9-0f52-4d1b-e3fa-6a5981452e18"
      },
      "source": [
        "HrData"
      ],
      "execution_count": 7,
      "outputs": [
        {
          "output_type": "execute_result",
          "data": {
            "text/html": [
              "<div>\n",
              "<style scoped>\n",
              "    .dataframe tbody tr th:only-of-type {\n",
              "        vertical-align: middle;\n",
              "    }\n",
              "\n",
              "    .dataframe tbody tr th {\n",
              "        vertical-align: top;\n",
              "    }\n",
              "\n",
              "    .dataframe thead th {\n",
              "        text-align: right;\n",
              "    }\n",
              "</style>\n",
              "<table border=\"1\" class=\"dataframe\">\n",
              "  <thead>\n",
              "    <tr style=\"text-align: right;\">\n",
              "      <th></th>\n",
              "      <th>Age</th>\n",
              "      <th>Attrition</th>\n",
              "      <th>BusinessTravel</th>\n",
              "      <th>DailyRate</th>\n",
              "      <th>Department</th>\n",
              "      <th>DistanceFromHome</th>\n",
              "      <th>Education</th>\n",
              "      <th>EducationField</th>\n",
              "      <th>EmployeeCount</th>\n",
              "      <th>EmployeeNumber</th>\n",
              "      <th>EnvironmentSatisfaction</th>\n",
              "      <th>Gender</th>\n",
              "      <th>HourlyRate</th>\n",
              "      <th>JobInvolvement</th>\n",
              "      <th>JobLevel</th>\n",
              "      <th>JobRole</th>\n",
              "      <th>JobSatisfaction</th>\n",
              "      <th>MaritalStatus</th>\n",
              "      <th>MonthlyIncome</th>\n",
              "      <th>MonthlyRate</th>\n",
              "      <th>NumCompaniesWorked</th>\n",
              "      <th>Over18</th>\n",
              "      <th>OverTime</th>\n",
              "      <th>PercentSalaryHike</th>\n",
              "      <th>PerformanceRating</th>\n",
              "      <th>RelationshipSatisfaction</th>\n",
              "      <th>StandardHours</th>\n",
              "      <th>StockOptionLevel</th>\n",
              "      <th>TotalWorkingYears</th>\n",
              "      <th>TrainingTimesLastYear</th>\n",
              "      <th>WorkLifeBalance</th>\n",
              "      <th>YearsAtCompany</th>\n",
              "      <th>YearsInCurrentRole</th>\n",
              "      <th>YearsSinceLastPromotion</th>\n",
              "      <th>YearsWithCurrManager</th>\n",
              "    </tr>\n",
              "  </thead>\n",
              "  <tbody>\n",
              "    <tr>\n",
              "      <th>0</th>\n",
              "      <td>41</td>\n",
              "      <td>Yes</td>\n",
              "      <td>Travel_Rarely</td>\n",
              "      <td>1102</td>\n",
              "      <td>Sales</td>\n",
              "      <td>1</td>\n",
              "      <td>2</td>\n",
              "      <td>Life Sciences</td>\n",
              "      <td>1</td>\n",
              "      <td>1</td>\n",
              "      <td>2</td>\n",
              "      <td>Female</td>\n",
              "      <td>94</td>\n",
              "      <td>3</td>\n",
              "      <td>2</td>\n",
              "      <td>Sales Executive</td>\n",
              "      <td>4</td>\n",
              "      <td>Single</td>\n",
              "      <td>5993</td>\n",
              "      <td>19479</td>\n",
              "      <td>8</td>\n",
              "      <td>Y</td>\n",
              "      <td>Yes</td>\n",
              "      <td>11</td>\n",
              "      <td>3</td>\n",
              "      <td>1</td>\n",
              "      <td>80</td>\n",
              "      <td>0</td>\n",
              "      <td>8</td>\n",
              "      <td>0</td>\n",
              "      <td>1</td>\n",
              "      <td>6</td>\n",
              "      <td>4</td>\n",
              "      <td>0</td>\n",
              "      <td>5</td>\n",
              "    </tr>\n",
              "    <tr>\n",
              "      <th>1</th>\n",
              "      <td>49</td>\n",
              "      <td>No</td>\n",
              "      <td>Travel_Frequently</td>\n",
              "      <td>279</td>\n",
              "      <td>Research &amp; Development</td>\n",
              "      <td>8</td>\n",
              "      <td>1</td>\n",
              "      <td>Life Sciences</td>\n",
              "      <td>1</td>\n",
              "      <td>2</td>\n",
              "      <td>3</td>\n",
              "      <td>Male</td>\n",
              "      <td>61</td>\n",
              "      <td>2</td>\n",
              "      <td>2</td>\n",
              "      <td>Research Scientist</td>\n",
              "      <td>2</td>\n",
              "      <td>Married</td>\n",
              "      <td>5130</td>\n",
              "      <td>24907</td>\n",
              "      <td>1</td>\n",
              "      <td>Y</td>\n",
              "      <td>No</td>\n",
              "      <td>23</td>\n",
              "      <td>4</td>\n",
              "      <td>4</td>\n",
              "      <td>80</td>\n",
              "      <td>1</td>\n",
              "      <td>10</td>\n",
              "      <td>3</td>\n",
              "      <td>3</td>\n",
              "      <td>10</td>\n",
              "      <td>7</td>\n",
              "      <td>1</td>\n",
              "      <td>7</td>\n",
              "    </tr>\n",
              "    <tr>\n",
              "      <th>2</th>\n",
              "      <td>37</td>\n",
              "      <td>Yes</td>\n",
              "      <td>Travel_Rarely</td>\n",
              "      <td>1373</td>\n",
              "      <td>Research &amp; Development</td>\n",
              "      <td>2</td>\n",
              "      <td>2</td>\n",
              "      <td>Other</td>\n",
              "      <td>1</td>\n",
              "      <td>4</td>\n",
              "      <td>4</td>\n",
              "      <td>Male</td>\n",
              "      <td>92</td>\n",
              "      <td>2</td>\n",
              "      <td>1</td>\n",
              "      <td>Laboratory Technician</td>\n",
              "      <td>3</td>\n",
              "      <td>Single</td>\n",
              "      <td>2090</td>\n",
              "      <td>2396</td>\n",
              "      <td>6</td>\n",
              "      <td>Y</td>\n",
              "      <td>Yes</td>\n",
              "      <td>15</td>\n",
              "      <td>3</td>\n",
              "      <td>2</td>\n",
              "      <td>80</td>\n",
              "      <td>0</td>\n",
              "      <td>7</td>\n",
              "      <td>3</td>\n",
              "      <td>3</td>\n",
              "      <td>0</td>\n",
              "      <td>0</td>\n",
              "      <td>0</td>\n",
              "      <td>0</td>\n",
              "    </tr>\n",
              "    <tr>\n",
              "      <th>3</th>\n",
              "      <td>33</td>\n",
              "      <td>No</td>\n",
              "      <td>Travel_Frequently</td>\n",
              "      <td>1392</td>\n",
              "      <td>Research &amp; Development</td>\n",
              "      <td>3</td>\n",
              "      <td>4</td>\n",
              "      <td>Life Sciences</td>\n",
              "      <td>1</td>\n",
              "      <td>5</td>\n",
              "      <td>4</td>\n",
              "      <td>Female</td>\n",
              "      <td>56</td>\n",
              "      <td>3</td>\n",
              "      <td>1</td>\n",
              "      <td>Research Scientist</td>\n",
              "      <td>3</td>\n",
              "      <td>Married</td>\n",
              "      <td>2909</td>\n",
              "      <td>23159</td>\n",
              "      <td>1</td>\n",
              "      <td>Y</td>\n",
              "      <td>Yes</td>\n",
              "      <td>11</td>\n",
              "      <td>3</td>\n",
              "      <td>3</td>\n",
              "      <td>80</td>\n",
              "      <td>0</td>\n",
              "      <td>8</td>\n",
              "      <td>3</td>\n",
              "      <td>3</td>\n",
              "      <td>8</td>\n",
              "      <td>7</td>\n",
              "      <td>3</td>\n",
              "      <td>0</td>\n",
              "    </tr>\n",
              "    <tr>\n",
              "      <th>4</th>\n",
              "      <td>27</td>\n",
              "      <td>No</td>\n",
              "      <td>Travel_Rarely</td>\n",
              "      <td>591</td>\n",
              "      <td>Research &amp; Development</td>\n",
              "      <td>2</td>\n",
              "      <td>1</td>\n",
              "      <td>Medical</td>\n",
              "      <td>1</td>\n",
              "      <td>7</td>\n",
              "      <td>1</td>\n",
              "      <td>Male</td>\n",
              "      <td>40</td>\n",
              "      <td>3</td>\n",
              "      <td>1</td>\n",
              "      <td>Laboratory Technician</td>\n",
              "      <td>2</td>\n",
              "      <td>Married</td>\n",
              "      <td>3468</td>\n",
              "      <td>16632</td>\n",
              "      <td>9</td>\n",
              "      <td>Y</td>\n",
              "      <td>No</td>\n",
              "      <td>12</td>\n",
              "      <td>3</td>\n",
              "      <td>4</td>\n",
              "      <td>80</td>\n",
              "      <td>1</td>\n",
              "      <td>6</td>\n",
              "      <td>3</td>\n",
              "      <td>3</td>\n",
              "      <td>2</td>\n",
              "      <td>2</td>\n",
              "      <td>2</td>\n",
              "      <td>2</td>\n",
              "    </tr>\n",
              "    <tr>\n",
              "      <th>...</th>\n",
              "      <td>...</td>\n",
              "      <td>...</td>\n",
              "      <td>...</td>\n",
              "      <td>...</td>\n",
              "      <td>...</td>\n",
              "      <td>...</td>\n",
              "      <td>...</td>\n",
              "      <td>...</td>\n",
              "      <td>...</td>\n",
              "      <td>...</td>\n",
              "      <td>...</td>\n",
              "      <td>...</td>\n",
              "      <td>...</td>\n",
              "      <td>...</td>\n",
              "      <td>...</td>\n",
              "      <td>...</td>\n",
              "      <td>...</td>\n",
              "      <td>...</td>\n",
              "      <td>...</td>\n",
              "      <td>...</td>\n",
              "      <td>...</td>\n",
              "      <td>...</td>\n",
              "      <td>...</td>\n",
              "      <td>...</td>\n",
              "      <td>...</td>\n",
              "      <td>...</td>\n",
              "      <td>...</td>\n",
              "      <td>...</td>\n",
              "      <td>...</td>\n",
              "      <td>...</td>\n",
              "      <td>...</td>\n",
              "      <td>...</td>\n",
              "      <td>...</td>\n",
              "      <td>...</td>\n",
              "      <td>...</td>\n",
              "    </tr>\n",
              "    <tr>\n",
              "      <th>1465</th>\n",
              "      <td>36</td>\n",
              "      <td>No</td>\n",
              "      <td>Travel_Frequently</td>\n",
              "      <td>884</td>\n",
              "      <td>Research &amp; Development</td>\n",
              "      <td>23</td>\n",
              "      <td>2</td>\n",
              "      <td>Medical</td>\n",
              "      <td>1</td>\n",
              "      <td>2061</td>\n",
              "      <td>3</td>\n",
              "      <td>Male</td>\n",
              "      <td>41</td>\n",
              "      <td>4</td>\n",
              "      <td>2</td>\n",
              "      <td>Laboratory Technician</td>\n",
              "      <td>4</td>\n",
              "      <td>Married</td>\n",
              "      <td>2571</td>\n",
              "      <td>12290</td>\n",
              "      <td>4</td>\n",
              "      <td>Y</td>\n",
              "      <td>No</td>\n",
              "      <td>17</td>\n",
              "      <td>3</td>\n",
              "      <td>3</td>\n",
              "      <td>80</td>\n",
              "      <td>1</td>\n",
              "      <td>17</td>\n",
              "      <td>3</td>\n",
              "      <td>3</td>\n",
              "      <td>5</td>\n",
              "      <td>2</td>\n",
              "      <td>0</td>\n",
              "      <td>3</td>\n",
              "    </tr>\n",
              "    <tr>\n",
              "      <th>1466</th>\n",
              "      <td>39</td>\n",
              "      <td>No</td>\n",
              "      <td>Travel_Rarely</td>\n",
              "      <td>613</td>\n",
              "      <td>Research &amp; Development</td>\n",
              "      <td>6</td>\n",
              "      <td>1</td>\n",
              "      <td>Medical</td>\n",
              "      <td>1</td>\n",
              "      <td>2062</td>\n",
              "      <td>4</td>\n",
              "      <td>Male</td>\n",
              "      <td>42</td>\n",
              "      <td>2</td>\n",
              "      <td>3</td>\n",
              "      <td>Healthcare Representative</td>\n",
              "      <td>1</td>\n",
              "      <td>Married</td>\n",
              "      <td>9991</td>\n",
              "      <td>21457</td>\n",
              "      <td>4</td>\n",
              "      <td>Y</td>\n",
              "      <td>No</td>\n",
              "      <td>15</td>\n",
              "      <td>3</td>\n",
              "      <td>1</td>\n",
              "      <td>80</td>\n",
              "      <td>1</td>\n",
              "      <td>9</td>\n",
              "      <td>5</td>\n",
              "      <td>3</td>\n",
              "      <td>7</td>\n",
              "      <td>7</td>\n",
              "      <td>1</td>\n",
              "      <td>7</td>\n",
              "    </tr>\n",
              "    <tr>\n",
              "      <th>1467</th>\n",
              "      <td>27</td>\n",
              "      <td>No</td>\n",
              "      <td>Travel_Rarely</td>\n",
              "      <td>155</td>\n",
              "      <td>Research &amp; Development</td>\n",
              "      <td>4</td>\n",
              "      <td>3</td>\n",
              "      <td>Life Sciences</td>\n",
              "      <td>1</td>\n",
              "      <td>2064</td>\n",
              "      <td>2</td>\n",
              "      <td>Male</td>\n",
              "      <td>87</td>\n",
              "      <td>4</td>\n",
              "      <td>2</td>\n",
              "      <td>Manufacturing Director</td>\n",
              "      <td>2</td>\n",
              "      <td>Married</td>\n",
              "      <td>6142</td>\n",
              "      <td>5174</td>\n",
              "      <td>1</td>\n",
              "      <td>Y</td>\n",
              "      <td>Yes</td>\n",
              "      <td>20</td>\n",
              "      <td>4</td>\n",
              "      <td>2</td>\n",
              "      <td>80</td>\n",
              "      <td>1</td>\n",
              "      <td>6</td>\n",
              "      <td>0</td>\n",
              "      <td>3</td>\n",
              "      <td>6</td>\n",
              "      <td>2</td>\n",
              "      <td>0</td>\n",
              "      <td>3</td>\n",
              "    </tr>\n",
              "    <tr>\n",
              "      <th>1468</th>\n",
              "      <td>49</td>\n",
              "      <td>No</td>\n",
              "      <td>Travel_Frequently</td>\n",
              "      <td>1023</td>\n",
              "      <td>Sales</td>\n",
              "      <td>2</td>\n",
              "      <td>3</td>\n",
              "      <td>Medical</td>\n",
              "      <td>1</td>\n",
              "      <td>2065</td>\n",
              "      <td>4</td>\n",
              "      <td>Male</td>\n",
              "      <td>63</td>\n",
              "      <td>2</td>\n",
              "      <td>2</td>\n",
              "      <td>Sales Executive</td>\n",
              "      <td>2</td>\n",
              "      <td>Married</td>\n",
              "      <td>5390</td>\n",
              "      <td>13243</td>\n",
              "      <td>2</td>\n",
              "      <td>Y</td>\n",
              "      <td>No</td>\n",
              "      <td>14</td>\n",
              "      <td>3</td>\n",
              "      <td>4</td>\n",
              "      <td>80</td>\n",
              "      <td>0</td>\n",
              "      <td>17</td>\n",
              "      <td>3</td>\n",
              "      <td>2</td>\n",
              "      <td>9</td>\n",
              "      <td>6</td>\n",
              "      <td>0</td>\n",
              "      <td>8</td>\n",
              "    </tr>\n",
              "    <tr>\n",
              "      <th>1469</th>\n",
              "      <td>34</td>\n",
              "      <td>No</td>\n",
              "      <td>Travel_Rarely</td>\n",
              "      <td>628</td>\n",
              "      <td>Research &amp; Development</td>\n",
              "      <td>8</td>\n",
              "      <td>3</td>\n",
              "      <td>Medical</td>\n",
              "      <td>1</td>\n",
              "      <td>2068</td>\n",
              "      <td>2</td>\n",
              "      <td>Male</td>\n",
              "      <td>82</td>\n",
              "      <td>4</td>\n",
              "      <td>2</td>\n",
              "      <td>Laboratory Technician</td>\n",
              "      <td>3</td>\n",
              "      <td>Married</td>\n",
              "      <td>4404</td>\n",
              "      <td>10228</td>\n",
              "      <td>2</td>\n",
              "      <td>Y</td>\n",
              "      <td>No</td>\n",
              "      <td>12</td>\n",
              "      <td>3</td>\n",
              "      <td>1</td>\n",
              "      <td>80</td>\n",
              "      <td>0</td>\n",
              "      <td>6</td>\n",
              "      <td>3</td>\n",
              "      <td>4</td>\n",
              "      <td>4</td>\n",
              "      <td>3</td>\n",
              "      <td>1</td>\n",
              "      <td>2</td>\n",
              "    </tr>\n",
              "  </tbody>\n",
              "</table>\n",
              "<p>1470 rows × 35 columns</p>\n",
              "</div>"
            ],
            "text/plain": [
              "      Age Attrition  ... YearsSinceLastPromotion  YearsWithCurrManager\n",
              "0      41       Yes  ...                       0                     5\n",
              "1      49        No  ...                       1                     7\n",
              "2      37       Yes  ...                       0                     0\n",
              "3      33        No  ...                       3                     0\n",
              "4      27        No  ...                       2                     2\n",
              "...   ...       ...  ...                     ...                   ...\n",
              "1465   36        No  ...                       0                     3\n",
              "1466   39        No  ...                       1                     7\n",
              "1467   27        No  ...                       0                     3\n",
              "1468   49        No  ...                       0                     8\n",
              "1469   34        No  ...                       1                     2\n",
              "\n",
              "[1470 rows x 35 columns]"
            ]
          },
          "metadata": {
            "tags": []
          },
          "execution_count": 7
        }
      ]
    },
    {
      "cell_type": "code",
      "metadata": {
        "colab": {
          "base_uri": "https://localhost:8080/"
        },
        "id": "I1a1U5P400qv",
        "outputId": "8e5df97e-8595-49c7-f95d-05a6ee1ba02f"
      },
      "source": [
        "HrData.info()"
      ],
      "execution_count": 8,
      "outputs": [
        {
          "output_type": "stream",
          "text": [
            "<class 'pandas.core.frame.DataFrame'>\n",
            "RangeIndex: 1470 entries, 0 to 1469\n",
            "Data columns (total 35 columns):\n",
            " #   Column                    Non-Null Count  Dtype \n",
            "---  ------                    --------------  ----- \n",
            " 0   Age                       1470 non-null   int64 \n",
            " 1   Attrition                 1470 non-null   object\n",
            " 2   BusinessTravel            1470 non-null   object\n",
            " 3   DailyRate                 1470 non-null   int64 \n",
            " 4   Department                1470 non-null   object\n",
            " 5   DistanceFromHome          1470 non-null   int64 \n",
            " 6   Education                 1470 non-null   int64 \n",
            " 7   EducationField            1470 non-null   object\n",
            " 8   EmployeeCount             1470 non-null   int64 \n",
            " 9   EmployeeNumber            1470 non-null   int64 \n",
            " 10  EnvironmentSatisfaction   1470 non-null   int64 \n",
            " 11  Gender                    1470 non-null   object\n",
            " 12  HourlyRate                1470 non-null   int64 \n",
            " 13  JobInvolvement            1470 non-null   int64 \n",
            " 14  JobLevel                  1470 non-null   int64 \n",
            " 15  JobRole                   1470 non-null   object\n",
            " 16  JobSatisfaction           1470 non-null   int64 \n",
            " 17  MaritalStatus             1470 non-null   object\n",
            " 18  MonthlyIncome             1470 non-null   int64 \n",
            " 19  MonthlyRate               1470 non-null   int64 \n",
            " 20  NumCompaniesWorked        1470 non-null   int64 \n",
            " 21  Over18                    1470 non-null   object\n",
            " 22  OverTime                  1470 non-null   object\n",
            " 23  PercentSalaryHike         1470 non-null   int64 \n",
            " 24  PerformanceRating         1470 non-null   int64 \n",
            " 25  RelationshipSatisfaction  1470 non-null   int64 \n",
            " 26  StandardHours             1470 non-null   int64 \n",
            " 27  StockOptionLevel          1470 non-null   int64 \n",
            " 28  TotalWorkingYears         1470 non-null   int64 \n",
            " 29  TrainingTimesLastYear     1470 non-null   int64 \n",
            " 30  WorkLifeBalance           1470 non-null   int64 \n",
            " 31  YearsAtCompany            1470 non-null   int64 \n",
            " 32  YearsInCurrentRole        1470 non-null   int64 \n",
            " 33  YearsSinceLastPromotion   1470 non-null   int64 \n",
            " 34  YearsWithCurrManager      1470 non-null   int64 \n",
            "dtypes: int64(26), object(9)\n",
            "memory usage: 402.1+ KB\n"
          ],
          "name": "stdout"
        }
      ]
    },
    {
      "cell_type": "code",
      "metadata": {
        "colab": {
          "base_uri": "https://localhost:8080/"
        },
        "id": "cZKwyXPn039r",
        "outputId": "bd0bb419-31dc-4ac4-c8d0-222021821124"
      },
      "source": [
        "print(HrData.isnull().sum())"
      ],
      "execution_count": 9,
      "outputs": [
        {
          "output_type": "stream",
          "text": [
            "Age                         0\n",
            "Attrition                   0\n",
            "BusinessTravel              0\n",
            "DailyRate                   0\n",
            "Department                  0\n",
            "DistanceFromHome            0\n",
            "Education                   0\n",
            "EducationField              0\n",
            "EmployeeCount               0\n",
            "EmployeeNumber              0\n",
            "EnvironmentSatisfaction     0\n",
            "Gender                      0\n",
            "HourlyRate                  0\n",
            "JobInvolvement              0\n",
            "JobLevel                    0\n",
            "JobRole                     0\n",
            "JobSatisfaction             0\n",
            "MaritalStatus               0\n",
            "MonthlyIncome               0\n",
            "MonthlyRate                 0\n",
            "NumCompaniesWorked          0\n",
            "Over18                      0\n",
            "OverTime                    0\n",
            "PercentSalaryHike           0\n",
            "PerformanceRating           0\n",
            "RelationshipSatisfaction    0\n",
            "StandardHours               0\n",
            "StockOptionLevel            0\n",
            "TotalWorkingYears           0\n",
            "TrainingTimesLastYear       0\n",
            "WorkLifeBalance             0\n",
            "YearsAtCompany              0\n",
            "YearsInCurrentRole          0\n",
            "YearsSinceLastPromotion     0\n",
            "YearsWithCurrManager        0\n",
            "dtype: int64\n"
          ],
          "name": "stdout"
        }
      ]
    },
    {
      "cell_type": "markdown",
      "metadata": {
        "id": "U9lLbYJS03jt"
      },
      "source": [
        "\n",
        "\n",
        "\n",
        " There are no missing values in the data set.\n",
        "\n",
        "\n",
        "\n"
      ]
    },
    {
      "cell_type": "markdown",
      "metadata": {
        "id": "r2RmJXd519JH"
      },
      "source": [
        "Next step Convert text categories into digital values "
      ]
    },
    {
      "cell_type": "code",
      "metadata": {
        "colab": {
          "base_uri": "https://localhost:8080/"
        },
        "id": "4gBhNzqg07jb",
        "outputId": "65d9e6a6-ee46-4381-bd23-e5fb0165eb66"
      },
      "source": [
        "h = (HrData.dtypes == 'object')\n",
        "object_cols = list(h[h].index)\n",
        "print('Categories:')\n",
        "print(object_cols)"
      ],
      "execution_count": 10,
      "outputs": [
        {
          "output_type": "stream",
          "text": [
            "Categories:\n",
            "['Attrition', 'BusinessTravel', 'Department', 'EducationField', 'Gender', 'JobRole', 'MaritalStatus', 'Over18', 'OverTime']\n"
          ],
          "name": "stdout"
        }
      ]
    },
    {
      "cell_type": "code",
      "metadata": {
        "colab": {
          "base_uri": "https://localhost:8080/"
        },
        "id": "NxC8zwGf1A2U",
        "outputId": "1b4b2db1-af0e-4ec3-a086-a5d4025512b6"
      },
      "source": [
        "HrData.Gender.unique()"
      ],
      "execution_count": 11,
      "outputs": [
        {
          "output_type": "execute_result",
          "data": {
            "text/plain": [
              "array(['Female', 'Male'], dtype=object)"
            ]
          },
          "metadata": {
            "tags": []
          },
          "execution_count": 11
        }
      ]
    },
    {
      "cell_type": "code",
      "metadata": {
        "colab": {
          "base_uri": "https://localhost:8080/"
        },
        "id": "M7ugZ9Pn1Chv",
        "outputId": "83fd4d50-2638-4865-83fa-8b1575f2cc96"
      },
      "source": [
        "HrData.Attrition.unique()"
      ],
      "execution_count": 12,
      "outputs": [
        {
          "output_type": "execute_result",
          "data": {
            "text/plain": [
              "array(['Yes', 'No'], dtype=object)"
            ]
          },
          "metadata": {
            "tags": []
          },
          "execution_count": 12
        }
      ]
    },
    {
      "cell_type": "code",
      "metadata": {
        "colab": {
          "base_uri": "https://localhost:8080/"
        },
        "id": "jyaAlE5D1EM3",
        "outputId": "3b19da4a-60cd-4017-db9d-9581c842b201"
      },
      "source": [
        "HrData.Over18.unique()"
      ],
      "execution_count": 13,
      "outputs": [
        {
          "output_type": "execute_result",
          "data": {
            "text/plain": [
              "array(['Y'], dtype=object)"
            ]
          },
          "metadata": {
            "tags": []
          },
          "execution_count": 13
        }
      ]
    },
    {
      "cell_type": "code",
      "metadata": {
        "colab": {
          "base_uri": "https://localhost:8080/"
        },
        "id": "qzcDi8Zr1GIf",
        "outputId": "d0d445d0-6e9d-40da-b444-fb0d68c8aaf9"
      },
      "source": [
        "HrData.OverTime.unique()"
      ],
      "execution_count": 14,
      "outputs": [
        {
          "output_type": "execute_result",
          "data": {
            "text/plain": [
              "array(['Yes', 'No'], dtype=object)"
            ]
          },
          "metadata": {
            "tags": []
          },
          "execution_count": 14
        }
      ]
    },
    {
      "cell_type": "code",
      "metadata": {
        "id": "k-0umZJC1H2-"
      },
      "source": [
        "HrData['Gender']=HrData['Gender'].map({'Female':0, 'Male':1})"
      ],
      "execution_count": 15,
      "outputs": []
    },
    {
      "cell_type": "code",
      "metadata": {
        "id": "_UE95Pvl1J7h"
      },
      "source": [
        "HrData['Attrition']=HrData['Attrition'].map({'Yes':1, 'No':0})"
      ],
      "execution_count": 16,
      "outputs": []
    },
    {
      "cell_type": "code",
      "metadata": {
        "id": "Pob-eW3p1MxE"
      },
      "source": [
        "HrData['Over18']= HrData['Over18'].map({'Y':1})"
      ],
      "execution_count": 17,
      "outputs": []
    },
    {
      "cell_type": "code",
      "metadata": {
        "id": "I6dPOWzZ1S0C"
      },
      "source": [
        "HrData ['OverTime']=HrData ['OverTime'].map({'Yes':1, 'No':0})"
      ],
      "execution_count": 18,
      "outputs": []
    },
    {
      "cell_type": "code",
      "metadata": {
        "colab": {
          "base_uri": "https://localhost:8080/",
          "height": 309
        },
        "id": "HnXZjjRK1VO9",
        "outputId": "e36a3af7-2efc-43b7-e081-74805c18616d"
      },
      "source": [
        "HrData.head()"
      ],
      "execution_count": 19,
      "outputs": [
        {
          "output_type": "execute_result",
          "data": {
            "text/html": [
              "<div>\n",
              "<style scoped>\n",
              "    .dataframe tbody tr th:only-of-type {\n",
              "        vertical-align: middle;\n",
              "    }\n",
              "\n",
              "    .dataframe tbody tr th {\n",
              "        vertical-align: top;\n",
              "    }\n",
              "\n",
              "    .dataframe thead th {\n",
              "        text-align: right;\n",
              "    }\n",
              "</style>\n",
              "<table border=\"1\" class=\"dataframe\">\n",
              "  <thead>\n",
              "    <tr style=\"text-align: right;\">\n",
              "      <th></th>\n",
              "      <th>Age</th>\n",
              "      <th>Attrition</th>\n",
              "      <th>BusinessTravel</th>\n",
              "      <th>DailyRate</th>\n",
              "      <th>Department</th>\n",
              "      <th>DistanceFromHome</th>\n",
              "      <th>Education</th>\n",
              "      <th>EducationField</th>\n",
              "      <th>EmployeeCount</th>\n",
              "      <th>EmployeeNumber</th>\n",
              "      <th>EnvironmentSatisfaction</th>\n",
              "      <th>Gender</th>\n",
              "      <th>HourlyRate</th>\n",
              "      <th>JobInvolvement</th>\n",
              "      <th>JobLevel</th>\n",
              "      <th>JobRole</th>\n",
              "      <th>JobSatisfaction</th>\n",
              "      <th>MaritalStatus</th>\n",
              "      <th>MonthlyIncome</th>\n",
              "      <th>MonthlyRate</th>\n",
              "      <th>NumCompaniesWorked</th>\n",
              "      <th>Over18</th>\n",
              "      <th>OverTime</th>\n",
              "      <th>PercentSalaryHike</th>\n",
              "      <th>PerformanceRating</th>\n",
              "      <th>RelationshipSatisfaction</th>\n",
              "      <th>StandardHours</th>\n",
              "      <th>StockOptionLevel</th>\n",
              "      <th>TotalWorkingYears</th>\n",
              "      <th>TrainingTimesLastYear</th>\n",
              "      <th>WorkLifeBalance</th>\n",
              "      <th>YearsAtCompany</th>\n",
              "      <th>YearsInCurrentRole</th>\n",
              "      <th>YearsSinceLastPromotion</th>\n",
              "      <th>YearsWithCurrManager</th>\n",
              "    </tr>\n",
              "  </thead>\n",
              "  <tbody>\n",
              "    <tr>\n",
              "      <th>0</th>\n",
              "      <td>41</td>\n",
              "      <td>1</td>\n",
              "      <td>Travel_Rarely</td>\n",
              "      <td>1102</td>\n",
              "      <td>Sales</td>\n",
              "      <td>1</td>\n",
              "      <td>2</td>\n",
              "      <td>Life Sciences</td>\n",
              "      <td>1</td>\n",
              "      <td>1</td>\n",
              "      <td>2</td>\n",
              "      <td>0</td>\n",
              "      <td>94</td>\n",
              "      <td>3</td>\n",
              "      <td>2</td>\n",
              "      <td>Sales Executive</td>\n",
              "      <td>4</td>\n",
              "      <td>Single</td>\n",
              "      <td>5993</td>\n",
              "      <td>19479</td>\n",
              "      <td>8</td>\n",
              "      <td>1</td>\n",
              "      <td>1</td>\n",
              "      <td>11</td>\n",
              "      <td>3</td>\n",
              "      <td>1</td>\n",
              "      <td>80</td>\n",
              "      <td>0</td>\n",
              "      <td>8</td>\n",
              "      <td>0</td>\n",
              "      <td>1</td>\n",
              "      <td>6</td>\n",
              "      <td>4</td>\n",
              "      <td>0</td>\n",
              "      <td>5</td>\n",
              "    </tr>\n",
              "    <tr>\n",
              "      <th>1</th>\n",
              "      <td>49</td>\n",
              "      <td>0</td>\n",
              "      <td>Travel_Frequently</td>\n",
              "      <td>279</td>\n",
              "      <td>Research &amp; Development</td>\n",
              "      <td>8</td>\n",
              "      <td>1</td>\n",
              "      <td>Life Sciences</td>\n",
              "      <td>1</td>\n",
              "      <td>2</td>\n",
              "      <td>3</td>\n",
              "      <td>1</td>\n",
              "      <td>61</td>\n",
              "      <td>2</td>\n",
              "      <td>2</td>\n",
              "      <td>Research Scientist</td>\n",
              "      <td>2</td>\n",
              "      <td>Married</td>\n",
              "      <td>5130</td>\n",
              "      <td>24907</td>\n",
              "      <td>1</td>\n",
              "      <td>1</td>\n",
              "      <td>0</td>\n",
              "      <td>23</td>\n",
              "      <td>4</td>\n",
              "      <td>4</td>\n",
              "      <td>80</td>\n",
              "      <td>1</td>\n",
              "      <td>10</td>\n",
              "      <td>3</td>\n",
              "      <td>3</td>\n",
              "      <td>10</td>\n",
              "      <td>7</td>\n",
              "      <td>1</td>\n",
              "      <td>7</td>\n",
              "    </tr>\n",
              "    <tr>\n",
              "      <th>2</th>\n",
              "      <td>37</td>\n",
              "      <td>1</td>\n",
              "      <td>Travel_Rarely</td>\n",
              "      <td>1373</td>\n",
              "      <td>Research &amp; Development</td>\n",
              "      <td>2</td>\n",
              "      <td>2</td>\n",
              "      <td>Other</td>\n",
              "      <td>1</td>\n",
              "      <td>4</td>\n",
              "      <td>4</td>\n",
              "      <td>1</td>\n",
              "      <td>92</td>\n",
              "      <td>2</td>\n",
              "      <td>1</td>\n",
              "      <td>Laboratory Technician</td>\n",
              "      <td>3</td>\n",
              "      <td>Single</td>\n",
              "      <td>2090</td>\n",
              "      <td>2396</td>\n",
              "      <td>6</td>\n",
              "      <td>1</td>\n",
              "      <td>1</td>\n",
              "      <td>15</td>\n",
              "      <td>3</td>\n",
              "      <td>2</td>\n",
              "      <td>80</td>\n",
              "      <td>0</td>\n",
              "      <td>7</td>\n",
              "      <td>3</td>\n",
              "      <td>3</td>\n",
              "      <td>0</td>\n",
              "      <td>0</td>\n",
              "      <td>0</td>\n",
              "      <td>0</td>\n",
              "    </tr>\n",
              "    <tr>\n",
              "      <th>3</th>\n",
              "      <td>33</td>\n",
              "      <td>0</td>\n",
              "      <td>Travel_Frequently</td>\n",
              "      <td>1392</td>\n",
              "      <td>Research &amp; Development</td>\n",
              "      <td>3</td>\n",
              "      <td>4</td>\n",
              "      <td>Life Sciences</td>\n",
              "      <td>1</td>\n",
              "      <td>5</td>\n",
              "      <td>4</td>\n",
              "      <td>0</td>\n",
              "      <td>56</td>\n",
              "      <td>3</td>\n",
              "      <td>1</td>\n",
              "      <td>Research Scientist</td>\n",
              "      <td>3</td>\n",
              "      <td>Married</td>\n",
              "      <td>2909</td>\n",
              "      <td>23159</td>\n",
              "      <td>1</td>\n",
              "      <td>1</td>\n",
              "      <td>1</td>\n",
              "      <td>11</td>\n",
              "      <td>3</td>\n",
              "      <td>3</td>\n",
              "      <td>80</td>\n",
              "      <td>0</td>\n",
              "      <td>8</td>\n",
              "      <td>3</td>\n",
              "      <td>3</td>\n",
              "      <td>8</td>\n",
              "      <td>7</td>\n",
              "      <td>3</td>\n",
              "      <td>0</td>\n",
              "    </tr>\n",
              "    <tr>\n",
              "      <th>4</th>\n",
              "      <td>27</td>\n",
              "      <td>0</td>\n",
              "      <td>Travel_Rarely</td>\n",
              "      <td>591</td>\n",
              "      <td>Research &amp; Development</td>\n",
              "      <td>2</td>\n",
              "      <td>1</td>\n",
              "      <td>Medical</td>\n",
              "      <td>1</td>\n",
              "      <td>7</td>\n",
              "      <td>1</td>\n",
              "      <td>1</td>\n",
              "      <td>40</td>\n",
              "      <td>3</td>\n",
              "      <td>1</td>\n",
              "      <td>Laboratory Technician</td>\n",
              "      <td>2</td>\n",
              "      <td>Married</td>\n",
              "      <td>3468</td>\n",
              "      <td>16632</td>\n",
              "      <td>9</td>\n",
              "      <td>1</td>\n",
              "      <td>0</td>\n",
              "      <td>12</td>\n",
              "      <td>3</td>\n",
              "      <td>4</td>\n",
              "      <td>80</td>\n",
              "      <td>1</td>\n",
              "      <td>6</td>\n",
              "      <td>3</td>\n",
              "      <td>3</td>\n",
              "      <td>2</td>\n",
              "      <td>2</td>\n",
              "      <td>2</td>\n",
              "      <td>2</td>\n",
              "    </tr>\n",
              "  </tbody>\n",
              "</table>\n",
              "</div>"
            ],
            "text/plain": [
              "   Age  Attrition  ... YearsSinceLastPromotion  YearsWithCurrManager\n",
              "0   41          1  ...                       0                     5\n",
              "1   49          0  ...                       1                     7\n",
              "2   37          1  ...                       0                     0\n",
              "3   33          0  ...                       3                     0\n",
              "4   27          0  ...                       2                     2\n",
              "\n",
              "[5 rows x 35 columns]"
            ]
          },
          "metadata": {
            "tags": []
          },
          "execution_count": 19
        }
      ]
    },
    {
      "cell_type": "code",
      "metadata": {
        "colab": {
          "base_uri": "https://localhost:8080/",
          "height": 317
        },
        "id": "0T-ymsDZ2Nhc",
        "outputId": "0aa993ab-406d-4df4-c6fd-4ec8d245880c"
      },
      "source": [
        "HrData[HrData['Attrition'] == 1].describe()"
      ],
      "execution_count": 20,
      "outputs": [
        {
          "output_type": "execute_result",
          "data": {
            "text/html": [
              "<div>\n",
              "<style scoped>\n",
              "    .dataframe tbody tr th:only-of-type {\n",
              "        vertical-align: middle;\n",
              "    }\n",
              "\n",
              "    .dataframe tbody tr th {\n",
              "        vertical-align: top;\n",
              "    }\n",
              "\n",
              "    .dataframe thead th {\n",
              "        text-align: right;\n",
              "    }\n",
              "</style>\n",
              "<table border=\"1\" class=\"dataframe\">\n",
              "  <thead>\n",
              "    <tr style=\"text-align: right;\">\n",
              "      <th></th>\n",
              "      <th>Age</th>\n",
              "      <th>Attrition</th>\n",
              "      <th>DailyRate</th>\n",
              "      <th>DistanceFromHome</th>\n",
              "      <th>Education</th>\n",
              "      <th>EmployeeCount</th>\n",
              "      <th>EmployeeNumber</th>\n",
              "      <th>EnvironmentSatisfaction</th>\n",
              "      <th>Gender</th>\n",
              "      <th>HourlyRate</th>\n",
              "      <th>JobInvolvement</th>\n",
              "      <th>JobLevel</th>\n",
              "      <th>JobSatisfaction</th>\n",
              "      <th>MonthlyIncome</th>\n",
              "      <th>MonthlyRate</th>\n",
              "      <th>NumCompaniesWorked</th>\n",
              "      <th>Over18</th>\n",
              "      <th>OverTime</th>\n",
              "      <th>PercentSalaryHike</th>\n",
              "      <th>PerformanceRating</th>\n",
              "      <th>RelationshipSatisfaction</th>\n",
              "      <th>StandardHours</th>\n",
              "      <th>StockOptionLevel</th>\n",
              "      <th>TotalWorkingYears</th>\n",
              "      <th>TrainingTimesLastYear</th>\n",
              "      <th>WorkLifeBalance</th>\n",
              "      <th>YearsAtCompany</th>\n",
              "      <th>YearsInCurrentRole</th>\n",
              "      <th>YearsSinceLastPromotion</th>\n",
              "      <th>YearsWithCurrManager</th>\n",
              "    </tr>\n",
              "  </thead>\n",
              "  <tbody>\n",
              "    <tr>\n",
              "      <th>count</th>\n",
              "      <td>237.000000</td>\n",
              "      <td>237.0</td>\n",
              "      <td>237.000000</td>\n",
              "      <td>237.000000</td>\n",
              "      <td>237.000000</td>\n",
              "      <td>237.0</td>\n",
              "      <td>237.000000</td>\n",
              "      <td>237.000000</td>\n",
              "      <td>237.000000</td>\n",
              "      <td>237.000000</td>\n",
              "      <td>237.000000</td>\n",
              "      <td>237.000000</td>\n",
              "      <td>237.000000</td>\n",
              "      <td>237.000000</td>\n",
              "      <td>237.000000</td>\n",
              "      <td>237.000000</td>\n",
              "      <td>237.0</td>\n",
              "      <td>237.000000</td>\n",
              "      <td>237.000000</td>\n",
              "      <td>237.000000</td>\n",
              "      <td>237.000000</td>\n",
              "      <td>237.0</td>\n",
              "      <td>237.000000</td>\n",
              "      <td>237.000000</td>\n",
              "      <td>237.000000</td>\n",
              "      <td>237.000000</td>\n",
              "      <td>237.000000</td>\n",
              "      <td>237.000000</td>\n",
              "      <td>237.000000</td>\n",
              "      <td>237.000000</td>\n",
              "    </tr>\n",
              "    <tr>\n",
              "      <th>mean</th>\n",
              "      <td>33.607595</td>\n",
              "      <td>1.0</td>\n",
              "      <td>750.362869</td>\n",
              "      <td>10.632911</td>\n",
              "      <td>2.839662</td>\n",
              "      <td>1.0</td>\n",
              "      <td>1010.345992</td>\n",
              "      <td>2.464135</td>\n",
              "      <td>0.632911</td>\n",
              "      <td>65.573840</td>\n",
              "      <td>2.518987</td>\n",
              "      <td>1.637131</td>\n",
              "      <td>2.468354</td>\n",
              "      <td>4787.092827</td>\n",
              "      <td>14559.308017</td>\n",
              "      <td>2.940928</td>\n",
              "      <td>1.0</td>\n",
              "      <td>0.535865</td>\n",
              "      <td>15.097046</td>\n",
              "      <td>3.156118</td>\n",
              "      <td>2.599156</td>\n",
              "      <td>80.0</td>\n",
              "      <td>0.527426</td>\n",
              "      <td>8.244726</td>\n",
              "      <td>2.624473</td>\n",
              "      <td>2.658228</td>\n",
              "      <td>5.130802</td>\n",
              "      <td>2.902954</td>\n",
              "      <td>1.945148</td>\n",
              "      <td>2.852321</td>\n",
              "    </tr>\n",
              "    <tr>\n",
              "      <th>std</th>\n",
              "      <td>9.689350</td>\n",
              "      <td>0.0</td>\n",
              "      <td>401.899519</td>\n",
              "      <td>8.452525</td>\n",
              "      <td>1.008244</td>\n",
              "      <td>0.0</td>\n",
              "      <td>580.750572</td>\n",
              "      <td>1.169791</td>\n",
              "      <td>0.483031</td>\n",
              "      <td>20.099958</td>\n",
              "      <td>0.773405</td>\n",
              "      <td>0.940594</td>\n",
              "      <td>1.118058</td>\n",
              "      <td>3640.210367</td>\n",
              "      <td>7208.153264</td>\n",
              "      <td>2.678519</td>\n",
              "      <td>0.0</td>\n",
              "      <td>0.499768</td>\n",
              "      <td>3.770294</td>\n",
              "      <td>0.363735</td>\n",
              "      <td>1.125437</td>\n",
              "      <td>0.0</td>\n",
              "      <td>0.856361</td>\n",
              "      <td>7.169204</td>\n",
              "      <td>1.254784</td>\n",
              "      <td>0.816453</td>\n",
              "      <td>5.949984</td>\n",
              "      <td>3.174827</td>\n",
              "      <td>3.153077</td>\n",
              "      <td>3.143349</td>\n",
              "    </tr>\n",
              "    <tr>\n",
              "      <th>min</th>\n",
              "      <td>18.000000</td>\n",
              "      <td>1.0</td>\n",
              "      <td>103.000000</td>\n",
              "      <td>1.000000</td>\n",
              "      <td>1.000000</td>\n",
              "      <td>1.0</td>\n",
              "      <td>1.000000</td>\n",
              "      <td>1.000000</td>\n",
              "      <td>0.000000</td>\n",
              "      <td>31.000000</td>\n",
              "      <td>1.000000</td>\n",
              "      <td>1.000000</td>\n",
              "      <td>1.000000</td>\n",
              "      <td>1009.000000</td>\n",
              "      <td>2326.000000</td>\n",
              "      <td>0.000000</td>\n",
              "      <td>1.0</td>\n",
              "      <td>0.000000</td>\n",
              "      <td>11.000000</td>\n",
              "      <td>3.000000</td>\n",
              "      <td>1.000000</td>\n",
              "      <td>80.0</td>\n",
              "      <td>0.000000</td>\n",
              "      <td>0.000000</td>\n",
              "      <td>0.000000</td>\n",
              "      <td>1.000000</td>\n",
              "      <td>0.000000</td>\n",
              "      <td>0.000000</td>\n",
              "      <td>0.000000</td>\n",
              "      <td>0.000000</td>\n",
              "    </tr>\n",
              "    <tr>\n",
              "      <th>25%</th>\n",
              "      <td>28.000000</td>\n",
              "      <td>1.0</td>\n",
              "      <td>408.000000</td>\n",
              "      <td>3.000000</td>\n",
              "      <td>2.000000</td>\n",
              "      <td>1.0</td>\n",
              "      <td>514.000000</td>\n",
              "      <td>1.000000</td>\n",
              "      <td>0.000000</td>\n",
              "      <td>50.000000</td>\n",
              "      <td>2.000000</td>\n",
              "      <td>1.000000</td>\n",
              "      <td>1.000000</td>\n",
              "      <td>2373.000000</td>\n",
              "      <td>8870.000000</td>\n",
              "      <td>1.000000</td>\n",
              "      <td>1.0</td>\n",
              "      <td>0.000000</td>\n",
              "      <td>12.000000</td>\n",
              "      <td>3.000000</td>\n",
              "      <td>2.000000</td>\n",
              "      <td>80.0</td>\n",
              "      <td>0.000000</td>\n",
              "      <td>3.000000</td>\n",
              "      <td>2.000000</td>\n",
              "      <td>2.000000</td>\n",
              "      <td>1.000000</td>\n",
              "      <td>0.000000</td>\n",
              "      <td>0.000000</td>\n",
              "      <td>0.000000</td>\n",
              "    </tr>\n",
              "    <tr>\n",
              "      <th>50%</th>\n",
              "      <td>32.000000</td>\n",
              "      <td>1.0</td>\n",
              "      <td>699.000000</td>\n",
              "      <td>9.000000</td>\n",
              "      <td>3.000000</td>\n",
              "      <td>1.0</td>\n",
              "      <td>1017.000000</td>\n",
              "      <td>3.000000</td>\n",
              "      <td>1.000000</td>\n",
              "      <td>66.000000</td>\n",
              "      <td>3.000000</td>\n",
              "      <td>1.000000</td>\n",
              "      <td>3.000000</td>\n",
              "      <td>3202.000000</td>\n",
              "      <td>14618.000000</td>\n",
              "      <td>1.000000</td>\n",
              "      <td>1.0</td>\n",
              "      <td>1.000000</td>\n",
              "      <td>14.000000</td>\n",
              "      <td>3.000000</td>\n",
              "      <td>3.000000</td>\n",
              "      <td>80.0</td>\n",
              "      <td>0.000000</td>\n",
              "      <td>7.000000</td>\n",
              "      <td>2.000000</td>\n",
              "      <td>3.000000</td>\n",
              "      <td>3.000000</td>\n",
              "      <td>2.000000</td>\n",
              "      <td>1.000000</td>\n",
              "      <td>2.000000</td>\n",
              "    </tr>\n",
              "    <tr>\n",
              "      <th>75%</th>\n",
              "      <td>39.000000</td>\n",
              "      <td>1.0</td>\n",
              "      <td>1092.000000</td>\n",
              "      <td>17.000000</td>\n",
              "      <td>4.000000</td>\n",
              "      <td>1.0</td>\n",
              "      <td>1486.000000</td>\n",
              "      <td>4.000000</td>\n",
              "      <td>1.000000</td>\n",
              "      <td>84.000000</td>\n",
              "      <td>3.000000</td>\n",
              "      <td>2.000000</td>\n",
              "      <td>3.000000</td>\n",
              "      <td>5916.000000</td>\n",
              "      <td>21081.000000</td>\n",
              "      <td>5.000000</td>\n",
              "      <td>1.0</td>\n",
              "      <td>1.000000</td>\n",
              "      <td>17.000000</td>\n",
              "      <td>3.000000</td>\n",
              "      <td>4.000000</td>\n",
              "      <td>80.0</td>\n",
              "      <td>1.000000</td>\n",
              "      <td>10.000000</td>\n",
              "      <td>3.000000</td>\n",
              "      <td>3.000000</td>\n",
              "      <td>7.000000</td>\n",
              "      <td>4.000000</td>\n",
              "      <td>2.000000</td>\n",
              "      <td>5.000000</td>\n",
              "    </tr>\n",
              "    <tr>\n",
              "      <th>max</th>\n",
              "      <td>58.000000</td>\n",
              "      <td>1.0</td>\n",
              "      <td>1496.000000</td>\n",
              "      <td>29.000000</td>\n",
              "      <td>5.000000</td>\n",
              "      <td>1.0</td>\n",
              "      <td>2055.000000</td>\n",
              "      <td>4.000000</td>\n",
              "      <td>1.000000</td>\n",
              "      <td>100.000000</td>\n",
              "      <td>4.000000</td>\n",
              "      <td>5.000000</td>\n",
              "      <td>4.000000</td>\n",
              "      <td>19859.000000</td>\n",
              "      <td>26999.000000</td>\n",
              "      <td>9.000000</td>\n",
              "      <td>1.0</td>\n",
              "      <td>1.000000</td>\n",
              "      <td>25.000000</td>\n",
              "      <td>4.000000</td>\n",
              "      <td>4.000000</td>\n",
              "      <td>80.0</td>\n",
              "      <td>3.000000</td>\n",
              "      <td>40.000000</td>\n",
              "      <td>6.000000</td>\n",
              "      <td>4.000000</td>\n",
              "      <td>40.000000</td>\n",
              "      <td>15.000000</td>\n",
              "      <td>15.000000</td>\n",
              "      <td>14.000000</td>\n",
              "    </tr>\n",
              "  </tbody>\n",
              "</table>\n",
              "</div>"
            ],
            "text/plain": [
              "              Age  Attrition  ...  YearsSinceLastPromotion  YearsWithCurrManager\n",
              "count  237.000000      237.0  ...               237.000000            237.000000\n",
              "mean    33.607595        1.0  ...                 1.945148              2.852321\n",
              "std      9.689350        0.0  ...                 3.153077              3.143349\n",
              "min     18.000000        1.0  ...                 0.000000              0.000000\n",
              "25%     28.000000        1.0  ...                 0.000000              0.000000\n",
              "50%     32.000000        1.0  ...                 1.000000              2.000000\n",
              "75%     39.000000        1.0  ...                 2.000000              5.000000\n",
              "max     58.000000        1.0  ...                15.000000             14.000000\n",
              "\n",
              "[8 rows x 30 columns]"
            ]
          },
          "metadata": {
            "tags": []
          },
          "execution_count": 20
        }
      ]
    },
    {
      "cell_type": "markdown",
      "metadata": {
        "id": "d7HOBjCo206X"
      },
      "source": [
        "The employee's relationship with the manager in the following diagram shows the number of years with the current manager"
      ]
    },
    {
      "cell_type": "code",
      "metadata": {
        "colab": {
          "base_uri": "https://localhost:8080/",
          "height": 542
        },
        "id": "bGCPz5gZ2lsE",
        "outputId": "bece479d-212f-4821-96b4-402b6c7e0eda"
      },
      "source": [
        "figuer = px.histogram(HrData, x=\"YearsWithCurrManager\", color=\"Attrition\", marginal=\"box\")\n",
        "figuer.show()"
      ],
      "execution_count": 21,
      "outputs": [
        {
          "output_type": "display_data",
          "data": {
            "text/html": [
              "<html>\n",
              "<head><meta charset=\"utf-8\" /></head>\n",
              "<body>\n",
              "    <div>\n",
              "            <script src=\"https://cdnjs.cloudflare.com/ajax/libs/mathjax/2.7.5/MathJax.js?config=TeX-AMS-MML_SVG\"></script><script type=\"text/javascript\">if (window.MathJax) {MathJax.Hub.Config({SVG: {font: \"STIX-Web\"}});}</script>\n",
              "                <script type=\"text/javascript\">window.PlotlyConfig = {MathJaxConfig: 'local'};</script>\n",
              "        <script src=\"https://cdn.plot.ly/plotly-latest.min.js\"></script>    \n",
              "            <div id=\"93cc4e1c-a569-48d2-b164-7d27b6b8990a\" class=\"plotly-graph-div\" style=\"height:525px; width:100%;\"></div>\n",
              "            <script type=\"text/javascript\">\n",
              "                \n",
              "                    window.PLOTLYENV=window.PLOTLYENV || {};\n",
              "                    \n",
              "                if (document.getElementById(\"93cc4e1c-a569-48d2-b164-7d27b6b8990a\")) {\n",
              "                    Plotly.newPlot(\n",
              "                        '93cc4e1c-a569-48d2-b164-7d27b6b8990a',\n",
              "                        [{\"alignmentgroup\": \"True\", \"bingroup\": \"x\", \"hoverlabel\": {\"namelength\": 0}, \"hovertemplate\": \"Attrition=1<br>YearsWithCurrManager=%{x}<br>count=%{y}\", \"legendgroup\": \"Attrition=1\", \"marker\": {\"color\": \"#636efa\"}, \"name\": \"Attrition=1\", \"offsetgroup\": \"Attrition=1\", \"orientation\": \"v\", \"showlegend\": true, \"type\": \"histogram\", \"x\": [5, 0, 3, 3, 3, 7, 0, 0, 2, 1, 8, 0, 2, 0, 7, 2, 0, 3, 6, 3, 7, 6, 0, 2, 3, 4, 0, 0, 2, 1, 0, 9, 8, 4, 1, 5, 1, 4, 7, 2, 0, 4, 0, 9, 0, 2, 4, 0, 7, 2, 0, 7, 2, 0, 7, 0, 0, 4, 4, 0, 2, 4, 0, 1, 0, 7, 3, 0, 2, 2, 0, 0, 0, 2, 2, 0, 2, 2, 0, 1, 7, 0, 3, 7, 2, 8, 3, 4, 2, 0, 0, 2, 8, 1, 7, 3, 7, 8, 2, 1, 0, 2, 0, 2, 0, 2, 0, 0, 0, 7, 7, 0, 0, 2, 0, 1, 2, 0, 2, 0, 2, 9, 14, 0, 2, 2, 0, 7, 9, 6, 7, 8, 6, 0, 2, 0, 0, 5, 0, 3, 2, 10, 14, 0, 3, 2, 0, 0, 0, 0, 0, 11, 2, 5, 7, 1, 3, 0, 7, 2, 2, 9, 8, 0, 2, 7, 7, 3, 7, 0, 0, 2, 3, 0, 7, 2, 2, 2, 0, 10, 0, 0, 7, 0, 7, 7, 0, 9, 4, 0, 0, 0, 2, 3, 7, 2, 7, 0, 2, 0, 10, 2, 0, 2, 2, 0, 0, 0, 0, 0, 3, 7, 7, 8, 4, 7, 0, 0, 2, 0, 7, 0, 0, 0, 0, 0, 2, 3, 0, 3, 8, 2, 0, 2, 8, 1, 0], \"xaxis\": \"x\", \"yaxis\": \"y\"}, {\"alignmentgroup\": \"True\", \"hoverlabel\": {\"namelength\": 0}, \"hovertemplate\": \"Attrition=1<br>YearsWithCurrManager=%{x}\", \"legendgroup\": \"Attrition=1\", \"marker\": {\"color\": \"#636efa\"}, \"name\": \"Attrition=1\", \"notched\": true, \"offsetgroup\": \"Attrition=1\", \"showlegend\": false, \"type\": \"box\", \"x\": [5, 0, 3, 3, 3, 7, 0, 0, 2, 1, 8, 0, 2, 0, 7, 2, 0, 3, 6, 3, 7, 6, 0, 2, 3, 4, 0, 0, 2, 1, 0, 9, 8, 4, 1, 5, 1, 4, 7, 2, 0, 4, 0, 9, 0, 2, 4, 0, 7, 2, 0, 7, 2, 0, 7, 0, 0, 4, 4, 0, 2, 4, 0, 1, 0, 7, 3, 0, 2, 2, 0, 0, 0, 2, 2, 0, 2, 2, 0, 1, 7, 0, 3, 7, 2, 8, 3, 4, 2, 0, 0, 2, 8, 1, 7, 3, 7, 8, 2, 1, 0, 2, 0, 2, 0, 2, 0, 0, 0, 7, 7, 0, 0, 2, 0, 1, 2, 0, 2, 0, 2, 9, 14, 0, 2, 2, 0, 7, 9, 6, 7, 8, 6, 0, 2, 0, 0, 5, 0, 3, 2, 10, 14, 0, 3, 2, 0, 0, 0, 0, 0, 11, 2, 5, 7, 1, 3, 0, 7, 2, 2, 9, 8, 0, 2, 7, 7, 3, 7, 0, 0, 2, 3, 0, 7, 2, 2, 2, 0, 10, 0, 0, 7, 0, 7, 7, 0, 9, 4, 0, 0, 0, 2, 3, 7, 2, 7, 0, 2, 0, 10, 2, 0, 2, 2, 0, 0, 0, 0, 0, 3, 7, 7, 8, 4, 7, 0, 0, 2, 0, 7, 0, 0, 0, 0, 0, 2, 3, 0, 3, 8, 2, 0, 2, 8, 1, 0], \"xaxis\": \"x2\", \"yaxis\": \"y2\"}, {\"alignmentgroup\": \"True\", \"bingroup\": \"x\", \"hoverlabel\": {\"namelength\": 0}, \"hovertemplate\": \"Attrition=0<br>YearsWithCurrManager=%{x}<br>count=%{y}\", \"legendgroup\": \"Attrition=0\", \"marker\": {\"color\": \"#EF553B\"}, \"name\": \"Attrition=0\", \"offsetgroup\": \"Attrition=0\", \"orientation\": \"v\", \"showlegend\": true, \"type\": \"histogram\", \"x\": [7, 0, 2, 6, 0, 0, 8, 7, 3, 8, 3, 2, 8, 5, 0, 7, 2, 3, 11, 0, 8, 2, 17, 1, 0, 3, 8, 4, 2, 0, 3, 0, 0, 7, 7, 7, 0, 8, 1, 3, 3, 0, 12, 8, 2, 7, 7, 8, 9, 8, 9, 8, 2, 3, 0, 2, 3, 4, 0, 9, 0, 8, 8, 0, 2, 2, 0, 4, 0, 9, 3, 2, 0, 3, 8, 11, 0, 7, 5, 7, 3, 2, 4, 8, 2, 0, 10, 0, 2, 7, 1, 0, 8, 4, 2, 0, 3, 8, 8, 0, 12, 9, 7, 15, 3, 1, 11, 2, 1, 7, 7, 1, 9, 2, 7, 3, 2, 4, 7, 2, 2, 7, 4, 0, 13, 6, 5, 15, 7, 9, 0, 0, 11, 2, 2, 2, 2, 4, 1, 4, 8, 4, 7, 4, 1, 2, 10, 3, 2, 2, 7, 1, 2, 2, 2, 3, 6, 9, 15, 9, 0, 9, 3, 2, 8, 7, 2, 2, 0, 7, 0, 7, 0, 7, 2, 7, 2, 3, 8, 7, 7, 0, 8, 5, 7, 1, 7, 13, 4, 0, 8, 1, 8, 2, 15, 2, 6, 9, 12, 2, 2, 2, 0, 7, 7, 2, 2, 9, 2, 2, 8, 5, 2, 2, 2, 8, 9, 0, 3, 5, 4, 7, 0, 8, 5, 10, 11, 13, 4, 1, 0, 2, 2, 7, 4, 6, 3, 6, 9, 8, 3, 7, 2, 2, 2, 7, 2, 2, 8, 9, 0, 2, 4, 0, 7, 7, 7, 8, 8, 1, 2, 3, 0, 11, 2, 8, 10, 7, 7, 2, 9, 4, 7, 7, 9, 9, 3, 1, 1, 0, 4, 3, 0, 8, 2, 2, 2, 7, 4, 9, 10, 7, 13, 2, 2, 0, 0, 2, 0, 7, 0, 7, 2, 7, 0, 0, 12, 2, 7, 2, 3, 0, 3, 2, 2, 0, 4, 7, 0, 7, 2, 2, 3, 0, 2, 0, 17, 3, 2, 1, 9, 0, 2, 2, 12, 2, 2, 3, 7, 2, 6, 7, 4, 7, 8, 4, 2, 4, 2, 2, 10, 8, 4, 0, 12, 2, 4, 7, 8, 0, 7, 7, 11, 4, 1, 3, 0, 7, 2, 8, 2, 0, 0, 7, 7, 7, 10, 9, 13, 7, 5, 8, 7, 2, 5, 1, 1, 7, 0, 3, 7, 2, 2, 8, 7, 9, 1, 0, 3, 9, 4, 4, 0, 7, 6, 3, 2, 7, 3, 0, 0, 2, 0, 0, 7, 2, 2, 6, 2, 1, 2, 2, 5, 0, 10, 8, 2, 8, 2, 8, 7, 1, 2, 1, 0, 2, 2, 5, 8, 2, 4, 0, 8, 7, 10, 8, 8, 7, 7, 7, 12, 3, 6, 2, 7, 10, 2, 5, 0, 4, 13, 7, 0, 2, 3, 2, 6, 1, 3, 7, 2, 2, 0, 7, 1, 0, 16, 4, 1, 2, 4, 9, 2, 0, 1, 3, 4, 1, 3, 12, 3, 2, 2, 7, 2, 9, 0, 4, 3, 7, 0, 5, 7, 2, 2, 4, 8, 0, 0, 0, 8, 2, 3, 0, 8, 6, 5, 2, 0, 17, 3, 1, 8, 1, 11, 3, 3, 4, 2, 3, 0, 0, 4, 2, 2, 2, 3, 3, 15, 2, 3, 2, 4, 3, 2, 3, 2, 2, 8, 0, 8, 2, 7, 9, 7, 4, 3, 3, 1, 2, 0, 11, 2, 2, 0, 0, 3, 2, 4, 2, 7, 7, 0, 0, 1, 11, 2, 0, 7, 17, 9, 5, 0, 3, 4, 8, 2, 0, 8, 2, 7, 3, 8, 7, 7, 7, 0, 2, 2, 3, 2, 11, 2, 8, 7, 5, 2, 7, 2, 3, 0, 8, 1, 7, 3, 1, 2, 8, 1, 8, 2, 2, 0, 0, 3, 7, 10, 0, 11, 13, 8, 2, 1, 7, 9, 4, 4, 12, 0, 0, 2, 7, 1, 5, 3, 2, 0, 3, 8, 2, 0, 7, 3, 2, 8, 9, 1, 2, 2, 7, 2, 2, 4, 0, 7, 2, 0, 1, 12, 0, 7, 7, 7, 9, 0, 1, 9, 2, 3, 9, 2, 4, 2, 3, 2, 1, 0, 2, 0, 2, 0, 3, 2, 3, 4, 13, 5, 7, 2, 7, 4, 0, 4, 9, 2, 0, 2, 8, 0, 2, 11, 2, 7, 3, 9, 0, 4, 3, 0, 2, 3, 3, 7, 1, 7, 9, 17, 2, 4, 3, 9, 2, 7, 7, 10, 3, 1, 7, 0, 12, 8, 4, 7, 2, 9, 1, 8, 5, 7, 0, 7, 0, 3, 0, 0, 7, 0, 10, 8, 1, 1, 2, 0, 8, 2, 10, 4, 10, 2, 13, 8, 2, 0, 17, 12, 2, 7, 7, 2, 1, 8, 0, 2, 2, 7, 7, 7, 5, 2, 8, 7, 6, 9, 10, 11, 7, 0, 6, 8, 7, 1, 10, 7, 6, 2, 3, 13, 8, 0, 3, 0, 0, 0, 9, 0, 8, 7, 3, 11, 4, 4, 2, 3, 3, 2, 2, 5, 2, 2, 8, 4, 1, 9, 4, 2, 2, 2, 7, 9, 7, 5, 0, 1, 2, 0, 3, 4, 8, 2, 2, 3, 0, 6, 3, 3, 2, 3, 7, 9, 7, 2, 2, 2, 8, 3, 3, 8, 2, 2, 3, 3, 12, 2, 8, 0, 0, 8, 7, 9, 0, 0, 2, 4, 3, 2, 2, 2, 0, 3, 2, 2, 7, 0, 0, 12, 17, 2, 1, 3, 2, 6, 9, 7, 0, 7, 7, 2, 3, 9, 1, 7, 7, 0, 2, 7, 2, 5, 2, 7, 0, 2, 2, 2, 3, 2, 6, 0, 13, 1, 0, 7, 2, 0, 5, 4, 6, 3, 0, 2, 2, 1, 8, 7, 2, 2, 1, 12, 3, 13, 2, 10, 1, 4, 5, 3, 1, 2, 4, 7, 7, 10, 0, 2, 0, 7, 12, 9, 2, 8, 9, 2, 7, 3, 2, 2, 3, 2, 2, 4, 2, 7, 0, 2, 11, 2, 9, 3, 12, 2, 4, 7, 11, 9, 9, 4, 6, 2, 2, 3, 2, 0, 2, 2, 2, 2, 2, 0, 2, 7, 2, 13, 0, 13, 3, 7, 7, 4, 8, 4, 7, 2, 7, 4, 2, 6, 3, 3, 2, 0, 2, 9, 7, 8, 0, 3, 2, 4, 8, 2, 8, 3, 7, 1, 2, 4, 2, 7, 2, 7, 4, 5, 0, 7, 7, 0, 4, 0, 7, 4, 7, 2, 8, 2, 4, 7, 2, 3, 2, 7, 7, 6, 3, 2, 2, 2, 0, 7, 8, 2, 2, 2, 5, 2, 3, 8, 14, 3, 10, 7, 7, 2, 2, 3, 2, 2, 0, 7, 0, 7, 2, 10, 0, 3, 0, 7, 2, 6, 0, 8, 8, 0, 14, 9, 3, 2, 4, 0, 7, 2, 0, 2, 4, 2, 8, 8, 16, 0, 7, 7, 2, 3, 4, 7, 4, 1, 2, 7, 3, 9, 7, 2, 2, 11, 7, 0, 9, 7, 0, 3, 3, 0, 4, 4, 3, 2, 1, 1, 6, 2, 2, 7, 0, 9, 7, 0, 3, 8, 9, 2, 4, 0, 10, 7, 8, 4, 2, 4, 4, 10, 2, 7, 2, 11, 0, 8, 2, 7, 2, 0, 12, 2, 2, 8, 1, 1, 0, 2, 7, 11, 7, 8, 4, 0, 2, 2, 3, 4, 2, 9, 14, 10, 7, 11, 4, 2, 7, 9, 0, 1, 2, 2, 2, 1, 3, 4, 6, 7, 0, 3, 7, 3, 8, 2], \"xaxis\": \"x\", \"yaxis\": \"y\"}, {\"alignmentgroup\": \"True\", \"hoverlabel\": {\"namelength\": 0}, \"hovertemplate\": \"Attrition=0<br>YearsWithCurrManager=%{x}\", \"legendgroup\": \"Attrition=0\", \"marker\": {\"color\": \"#EF553B\"}, \"name\": \"Attrition=0\", \"notched\": true, \"offsetgroup\": \"Attrition=0\", \"showlegend\": false, \"type\": \"box\", \"x\": [7, 0, 2, 6, 0, 0, 8, 7, 3, 8, 3, 2, 8, 5, 0, 7, 2, 3, 11, 0, 8, 2, 17, 1, 0, 3, 8, 4, 2, 0, 3, 0, 0, 7, 7, 7, 0, 8, 1, 3, 3, 0, 12, 8, 2, 7, 7, 8, 9, 8, 9, 8, 2, 3, 0, 2, 3, 4, 0, 9, 0, 8, 8, 0, 2, 2, 0, 4, 0, 9, 3, 2, 0, 3, 8, 11, 0, 7, 5, 7, 3, 2, 4, 8, 2, 0, 10, 0, 2, 7, 1, 0, 8, 4, 2, 0, 3, 8, 8, 0, 12, 9, 7, 15, 3, 1, 11, 2, 1, 7, 7, 1, 9, 2, 7, 3, 2, 4, 7, 2, 2, 7, 4, 0, 13, 6, 5, 15, 7, 9, 0, 0, 11, 2, 2, 2, 2, 4, 1, 4, 8, 4, 7, 4, 1, 2, 10, 3, 2, 2, 7, 1, 2, 2, 2, 3, 6, 9, 15, 9, 0, 9, 3, 2, 8, 7, 2, 2, 0, 7, 0, 7, 0, 7, 2, 7, 2, 3, 8, 7, 7, 0, 8, 5, 7, 1, 7, 13, 4, 0, 8, 1, 8, 2, 15, 2, 6, 9, 12, 2, 2, 2, 0, 7, 7, 2, 2, 9, 2, 2, 8, 5, 2, 2, 2, 8, 9, 0, 3, 5, 4, 7, 0, 8, 5, 10, 11, 13, 4, 1, 0, 2, 2, 7, 4, 6, 3, 6, 9, 8, 3, 7, 2, 2, 2, 7, 2, 2, 8, 9, 0, 2, 4, 0, 7, 7, 7, 8, 8, 1, 2, 3, 0, 11, 2, 8, 10, 7, 7, 2, 9, 4, 7, 7, 9, 9, 3, 1, 1, 0, 4, 3, 0, 8, 2, 2, 2, 7, 4, 9, 10, 7, 13, 2, 2, 0, 0, 2, 0, 7, 0, 7, 2, 7, 0, 0, 12, 2, 7, 2, 3, 0, 3, 2, 2, 0, 4, 7, 0, 7, 2, 2, 3, 0, 2, 0, 17, 3, 2, 1, 9, 0, 2, 2, 12, 2, 2, 3, 7, 2, 6, 7, 4, 7, 8, 4, 2, 4, 2, 2, 10, 8, 4, 0, 12, 2, 4, 7, 8, 0, 7, 7, 11, 4, 1, 3, 0, 7, 2, 8, 2, 0, 0, 7, 7, 7, 10, 9, 13, 7, 5, 8, 7, 2, 5, 1, 1, 7, 0, 3, 7, 2, 2, 8, 7, 9, 1, 0, 3, 9, 4, 4, 0, 7, 6, 3, 2, 7, 3, 0, 0, 2, 0, 0, 7, 2, 2, 6, 2, 1, 2, 2, 5, 0, 10, 8, 2, 8, 2, 8, 7, 1, 2, 1, 0, 2, 2, 5, 8, 2, 4, 0, 8, 7, 10, 8, 8, 7, 7, 7, 12, 3, 6, 2, 7, 10, 2, 5, 0, 4, 13, 7, 0, 2, 3, 2, 6, 1, 3, 7, 2, 2, 0, 7, 1, 0, 16, 4, 1, 2, 4, 9, 2, 0, 1, 3, 4, 1, 3, 12, 3, 2, 2, 7, 2, 9, 0, 4, 3, 7, 0, 5, 7, 2, 2, 4, 8, 0, 0, 0, 8, 2, 3, 0, 8, 6, 5, 2, 0, 17, 3, 1, 8, 1, 11, 3, 3, 4, 2, 3, 0, 0, 4, 2, 2, 2, 3, 3, 15, 2, 3, 2, 4, 3, 2, 3, 2, 2, 8, 0, 8, 2, 7, 9, 7, 4, 3, 3, 1, 2, 0, 11, 2, 2, 0, 0, 3, 2, 4, 2, 7, 7, 0, 0, 1, 11, 2, 0, 7, 17, 9, 5, 0, 3, 4, 8, 2, 0, 8, 2, 7, 3, 8, 7, 7, 7, 0, 2, 2, 3, 2, 11, 2, 8, 7, 5, 2, 7, 2, 3, 0, 8, 1, 7, 3, 1, 2, 8, 1, 8, 2, 2, 0, 0, 3, 7, 10, 0, 11, 13, 8, 2, 1, 7, 9, 4, 4, 12, 0, 0, 2, 7, 1, 5, 3, 2, 0, 3, 8, 2, 0, 7, 3, 2, 8, 9, 1, 2, 2, 7, 2, 2, 4, 0, 7, 2, 0, 1, 12, 0, 7, 7, 7, 9, 0, 1, 9, 2, 3, 9, 2, 4, 2, 3, 2, 1, 0, 2, 0, 2, 0, 3, 2, 3, 4, 13, 5, 7, 2, 7, 4, 0, 4, 9, 2, 0, 2, 8, 0, 2, 11, 2, 7, 3, 9, 0, 4, 3, 0, 2, 3, 3, 7, 1, 7, 9, 17, 2, 4, 3, 9, 2, 7, 7, 10, 3, 1, 7, 0, 12, 8, 4, 7, 2, 9, 1, 8, 5, 7, 0, 7, 0, 3, 0, 0, 7, 0, 10, 8, 1, 1, 2, 0, 8, 2, 10, 4, 10, 2, 13, 8, 2, 0, 17, 12, 2, 7, 7, 2, 1, 8, 0, 2, 2, 7, 7, 7, 5, 2, 8, 7, 6, 9, 10, 11, 7, 0, 6, 8, 7, 1, 10, 7, 6, 2, 3, 13, 8, 0, 3, 0, 0, 0, 9, 0, 8, 7, 3, 11, 4, 4, 2, 3, 3, 2, 2, 5, 2, 2, 8, 4, 1, 9, 4, 2, 2, 2, 7, 9, 7, 5, 0, 1, 2, 0, 3, 4, 8, 2, 2, 3, 0, 6, 3, 3, 2, 3, 7, 9, 7, 2, 2, 2, 8, 3, 3, 8, 2, 2, 3, 3, 12, 2, 8, 0, 0, 8, 7, 9, 0, 0, 2, 4, 3, 2, 2, 2, 0, 3, 2, 2, 7, 0, 0, 12, 17, 2, 1, 3, 2, 6, 9, 7, 0, 7, 7, 2, 3, 9, 1, 7, 7, 0, 2, 7, 2, 5, 2, 7, 0, 2, 2, 2, 3, 2, 6, 0, 13, 1, 0, 7, 2, 0, 5, 4, 6, 3, 0, 2, 2, 1, 8, 7, 2, 2, 1, 12, 3, 13, 2, 10, 1, 4, 5, 3, 1, 2, 4, 7, 7, 10, 0, 2, 0, 7, 12, 9, 2, 8, 9, 2, 7, 3, 2, 2, 3, 2, 2, 4, 2, 7, 0, 2, 11, 2, 9, 3, 12, 2, 4, 7, 11, 9, 9, 4, 6, 2, 2, 3, 2, 0, 2, 2, 2, 2, 2, 0, 2, 7, 2, 13, 0, 13, 3, 7, 7, 4, 8, 4, 7, 2, 7, 4, 2, 6, 3, 3, 2, 0, 2, 9, 7, 8, 0, 3, 2, 4, 8, 2, 8, 3, 7, 1, 2, 4, 2, 7, 2, 7, 4, 5, 0, 7, 7, 0, 4, 0, 7, 4, 7, 2, 8, 2, 4, 7, 2, 3, 2, 7, 7, 6, 3, 2, 2, 2, 0, 7, 8, 2, 2, 2, 5, 2, 3, 8, 14, 3, 10, 7, 7, 2, 2, 3, 2, 2, 0, 7, 0, 7, 2, 10, 0, 3, 0, 7, 2, 6, 0, 8, 8, 0, 14, 9, 3, 2, 4, 0, 7, 2, 0, 2, 4, 2, 8, 8, 16, 0, 7, 7, 2, 3, 4, 7, 4, 1, 2, 7, 3, 9, 7, 2, 2, 11, 7, 0, 9, 7, 0, 3, 3, 0, 4, 4, 3, 2, 1, 1, 6, 2, 2, 7, 0, 9, 7, 0, 3, 8, 9, 2, 4, 0, 10, 7, 8, 4, 2, 4, 4, 10, 2, 7, 2, 11, 0, 8, 2, 7, 2, 0, 12, 2, 2, 8, 1, 1, 0, 2, 7, 11, 7, 8, 4, 0, 2, 2, 3, 4, 2, 9, 14, 10, 7, 11, 4, 2, 7, 9, 0, 1, 2, 2, 2, 1, 3, 4, 6, 7, 0, 3, 7, 3, 8, 2], \"xaxis\": \"x2\", \"yaxis\": \"y2\"}],\n",
              "                        {\"barmode\": \"relative\", \"legend\": {\"tracegroupgap\": 0}, \"margin\": {\"t\": 60}, \"template\": {\"data\": {\"bar\": [{\"error_x\": {\"color\": \"#2a3f5f\"}, \"error_y\": {\"color\": \"#2a3f5f\"}, \"marker\": {\"line\": {\"color\": \"#E5ECF6\", \"width\": 0.5}}, \"type\": \"bar\"}], \"barpolar\": [{\"marker\": {\"line\": {\"color\": \"#E5ECF6\", \"width\": 0.5}}, \"type\": \"barpolar\"}], \"carpet\": [{\"aaxis\": {\"endlinecolor\": \"#2a3f5f\", \"gridcolor\": \"white\", \"linecolor\": \"white\", \"minorgridcolor\": \"white\", \"startlinecolor\": \"#2a3f5f\"}, \"baxis\": {\"endlinecolor\": \"#2a3f5f\", \"gridcolor\": \"white\", \"linecolor\": \"white\", \"minorgridcolor\": \"white\", \"startlinecolor\": \"#2a3f5f\"}, \"type\": \"carpet\"}], \"choropleth\": [{\"colorbar\": {\"outlinewidth\": 0, \"ticks\": \"\"}, \"type\": \"choropleth\"}], \"contour\": [{\"colorbar\": {\"outlinewidth\": 0, \"ticks\": \"\"}, \"colorscale\": [[0.0, \"#0d0887\"], [0.1111111111111111, \"#46039f\"], [0.2222222222222222, \"#7201a8\"], [0.3333333333333333, \"#9c179e\"], [0.4444444444444444, \"#bd3786\"], [0.5555555555555556, \"#d8576b\"], [0.6666666666666666, \"#ed7953\"], [0.7777777777777778, \"#fb9f3a\"], [0.8888888888888888, \"#fdca26\"], [1.0, \"#f0f921\"]], \"type\": \"contour\"}], \"contourcarpet\": [{\"colorbar\": {\"outlinewidth\": 0, \"ticks\": \"\"}, \"type\": \"contourcarpet\"}], \"heatmap\": [{\"colorbar\": {\"outlinewidth\": 0, \"ticks\": \"\"}, \"colorscale\": [[0.0, \"#0d0887\"], [0.1111111111111111, \"#46039f\"], [0.2222222222222222, \"#7201a8\"], [0.3333333333333333, \"#9c179e\"], [0.4444444444444444, \"#bd3786\"], [0.5555555555555556, \"#d8576b\"], [0.6666666666666666, \"#ed7953\"], [0.7777777777777778, \"#fb9f3a\"], [0.8888888888888888, \"#fdca26\"], [1.0, \"#f0f921\"]], \"type\": \"heatmap\"}], \"heatmapgl\": [{\"colorbar\": {\"outlinewidth\": 0, \"ticks\": \"\"}, \"colorscale\": [[0.0, \"#0d0887\"], [0.1111111111111111, \"#46039f\"], [0.2222222222222222, \"#7201a8\"], [0.3333333333333333, \"#9c179e\"], [0.4444444444444444, \"#bd3786\"], [0.5555555555555556, \"#d8576b\"], [0.6666666666666666, \"#ed7953\"], [0.7777777777777778, \"#fb9f3a\"], [0.8888888888888888, \"#fdca26\"], [1.0, \"#f0f921\"]], \"type\": \"heatmapgl\"}], \"histogram\": [{\"marker\": {\"colorbar\": {\"outlinewidth\": 0, \"ticks\": \"\"}}, \"type\": \"histogram\"}], \"histogram2d\": [{\"colorbar\": {\"outlinewidth\": 0, \"ticks\": \"\"}, \"colorscale\": [[0.0, \"#0d0887\"], [0.1111111111111111, \"#46039f\"], [0.2222222222222222, \"#7201a8\"], [0.3333333333333333, \"#9c179e\"], [0.4444444444444444, \"#bd3786\"], [0.5555555555555556, \"#d8576b\"], [0.6666666666666666, \"#ed7953\"], [0.7777777777777778, \"#fb9f3a\"], [0.8888888888888888, \"#fdca26\"], [1.0, \"#f0f921\"]], \"type\": \"histogram2d\"}], \"histogram2dcontour\": [{\"colorbar\": {\"outlinewidth\": 0, \"ticks\": \"\"}, \"colorscale\": [[0.0, \"#0d0887\"], [0.1111111111111111, \"#46039f\"], [0.2222222222222222, \"#7201a8\"], [0.3333333333333333, \"#9c179e\"], [0.4444444444444444, \"#bd3786\"], [0.5555555555555556, \"#d8576b\"], [0.6666666666666666, \"#ed7953\"], [0.7777777777777778, \"#fb9f3a\"], [0.8888888888888888, \"#fdca26\"], [1.0, \"#f0f921\"]], \"type\": \"histogram2dcontour\"}], \"mesh3d\": [{\"colorbar\": {\"outlinewidth\": 0, \"ticks\": \"\"}, \"type\": \"mesh3d\"}], \"parcoords\": [{\"line\": {\"colorbar\": {\"outlinewidth\": 0, \"ticks\": \"\"}}, \"type\": \"parcoords\"}], \"pie\": [{\"automargin\": true, \"type\": \"pie\"}], \"scatter\": [{\"marker\": {\"colorbar\": {\"outlinewidth\": 0, \"ticks\": \"\"}}, \"type\": \"scatter\"}], \"scatter3d\": [{\"line\": {\"colorbar\": {\"outlinewidth\": 0, \"ticks\": \"\"}}, \"marker\": {\"colorbar\": {\"outlinewidth\": 0, \"ticks\": \"\"}}, \"type\": \"scatter3d\"}], \"scattercarpet\": [{\"marker\": {\"colorbar\": {\"outlinewidth\": 0, \"ticks\": \"\"}}, \"type\": \"scattercarpet\"}], \"scattergeo\": [{\"marker\": {\"colorbar\": {\"outlinewidth\": 0, \"ticks\": \"\"}}, \"type\": \"scattergeo\"}], \"scattergl\": [{\"marker\": {\"colorbar\": {\"outlinewidth\": 0, \"ticks\": \"\"}}, \"type\": \"scattergl\"}], \"scattermapbox\": [{\"marker\": {\"colorbar\": {\"outlinewidth\": 0, \"ticks\": \"\"}}, \"type\": \"scattermapbox\"}], \"scatterpolar\": [{\"marker\": {\"colorbar\": {\"outlinewidth\": 0, \"ticks\": \"\"}}, \"type\": \"scatterpolar\"}], \"scatterpolargl\": [{\"marker\": {\"colorbar\": {\"outlinewidth\": 0, \"ticks\": \"\"}}, \"type\": \"scatterpolargl\"}], \"scatterternary\": [{\"marker\": {\"colorbar\": {\"outlinewidth\": 0, \"ticks\": \"\"}}, \"type\": \"scatterternary\"}], \"surface\": [{\"colorbar\": {\"outlinewidth\": 0, \"ticks\": \"\"}, \"colorscale\": [[0.0, \"#0d0887\"], [0.1111111111111111, \"#46039f\"], [0.2222222222222222, \"#7201a8\"], [0.3333333333333333, \"#9c179e\"], [0.4444444444444444, \"#bd3786\"], [0.5555555555555556, \"#d8576b\"], [0.6666666666666666, \"#ed7953\"], [0.7777777777777778, \"#fb9f3a\"], [0.8888888888888888, \"#fdca26\"], [1.0, \"#f0f921\"]], \"type\": \"surface\"}], \"table\": [{\"cells\": {\"fill\": {\"color\": \"#EBF0F8\"}, \"line\": {\"color\": \"white\"}}, \"header\": {\"fill\": {\"color\": \"#C8D4E3\"}, \"line\": {\"color\": \"white\"}}, \"type\": \"table\"}]}, \"layout\": {\"annotationdefaults\": {\"arrowcolor\": \"#2a3f5f\", \"arrowhead\": 0, \"arrowwidth\": 1}, \"coloraxis\": {\"colorbar\": {\"outlinewidth\": 0, \"ticks\": \"\"}}, \"colorscale\": {\"diverging\": [[0, \"#8e0152\"], [0.1, \"#c51b7d\"], [0.2, \"#de77ae\"], [0.3, \"#f1b6da\"], [0.4, \"#fde0ef\"], [0.5, \"#f7f7f7\"], [0.6, \"#e6f5d0\"], [0.7, \"#b8e186\"], [0.8, \"#7fbc41\"], [0.9, \"#4d9221\"], [1, \"#276419\"]], \"sequential\": [[0.0, \"#0d0887\"], [0.1111111111111111, \"#46039f\"], [0.2222222222222222, \"#7201a8\"], [0.3333333333333333, \"#9c179e\"], [0.4444444444444444, \"#bd3786\"], [0.5555555555555556, \"#d8576b\"], [0.6666666666666666, \"#ed7953\"], [0.7777777777777778, \"#fb9f3a\"], [0.8888888888888888, \"#fdca26\"], [1.0, \"#f0f921\"]], \"sequentialminus\": [[0.0, \"#0d0887\"], [0.1111111111111111, \"#46039f\"], [0.2222222222222222, \"#7201a8\"], [0.3333333333333333, \"#9c179e\"], [0.4444444444444444, \"#bd3786\"], [0.5555555555555556, \"#d8576b\"], [0.6666666666666666, \"#ed7953\"], [0.7777777777777778, \"#fb9f3a\"], [0.8888888888888888, \"#fdca26\"], [1.0, \"#f0f921\"]]}, \"colorway\": [\"#636efa\", \"#EF553B\", \"#00cc96\", \"#ab63fa\", \"#FFA15A\", \"#19d3f3\", \"#FF6692\", \"#B6E880\", \"#FF97FF\", \"#FECB52\"], \"font\": {\"color\": \"#2a3f5f\"}, \"geo\": {\"bgcolor\": \"white\", \"lakecolor\": \"white\", \"landcolor\": \"#E5ECF6\", \"showlakes\": true, \"showland\": true, \"subunitcolor\": \"white\"}, \"hoverlabel\": {\"align\": \"left\"}, \"hovermode\": \"closest\", \"mapbox\": {\"style\": \"light\"}, \"paper_bgcolor\": \"white\", \"plot_bgcolor\": \"#E5ECF6\", \"polar\": {\"angularaxis\": {\"gridcolor\": \"white\", \"linecolor\": \"white\", \"ticks\": \"\"}, \"bgcolor\": \"#E5ECF6\", \"radialaxis\": {\"gridcolor\": \"white\", \"linecolor\": \"white\", \"ticks\": \"\"}}, \"scene\": {\"xaxis\": {\"backgroundcolor\": \"#E5ECF6\", \"gridcolor\": \"white\", \"gridwidth\": 2, \"linecolor\": \"white\", \"showbackground\": true, \"ticks\": \"\", \"zerolinecolor\": \"white\"}, \"yaxis\": {\"backgroundcolor\": \"#E5ECF6\", \"gridcolor\": \"white\", \"gridwidth\": 2, \"linecolor\": \"white\", \"showbackground\": true, \"ticks\": \"\", \"zerolinecolor\": \"white\"}, \"zaxis\": {\"backgroundcolor\": \"#E5ECF6\", \"gridcolor\": \"white\", \"gridwidth\": 2, \"linecolor\": \"white\", \"showbackground\": true, \"ticks\": \"\", \"zerolinecolor\": \"white\"}}, \"shapedefaults\": {\"line\": {\"color\": \"#2a3f5f\"}}, \"ternary\": {\"aaxis\": {\"gridcolor\": \"white\", \"linecolor\": \"white\", \"ticks\": \"\"}, \"baxis\": {\"gridcolor\": \"white\", \"linecolor\": \"white\", \"ticks\": \"\"}, \"bgcolor\": \"#E5ECF6\", \"caxis\": {\"gridcolor\": \"white\", \"linecolor\": \"white\", \"ticks\": \"\"}}, \"title\": {\"x\": 0.05}, \"xaxis\": {\"automargin\": true, \"gridcolor\": \"white\", \"linecolor\": \"white\", \"ticks\": \"\", \"title\": {\"standoff\": 15}, \"zerolinecolor\": \"white\", \"zerolinewidth\": 2}, \"yaxis\": {\"automargin\": true, \"gridcolor\": \"white\", \"linecolor\": \"white\", \"ticks\": \"\", \"title\": {\"standoff\": 15}, \"zerolinecolor\": \"white\", \"zerolinewidth\": 2}}}, \"xaxis\": {\"anchor\": \"y\", \"domain\": [0.0, 1.0], \"title\": {\"text\": \"YearsWithCurrManager\"}}, \"xaxis2\": {\"anchor\": \"y2\", \"domain\": [0.0, 1.0], \"matches\": \"x\", \"showgrid\": true, \"showticklabels\": false}, \"yaxis\": {\"anchor\": \"x\", \"domain\": [0.0, 0.7326], \"title\": {\"text\": \"count\"}}, \"yaxis2\": {\"anchor\": \"x2\", \"domain\": [0.7426, 1.0], \"matches\": \"y2\", \"showgrid\": false, \"showline\": false, \"showticklabels\": false, \"ticks\": \"\"}},\n",
              "                        {\"responsive\": true}\n",
              "                    ).then(function(){\n",
              "                            \n",
              "var gd = document.getElementById('93cc4e1c-a569-48d2-b164-7d27b6b8990a');\n",
              "var x = new MutationObserver(function (mutations, observer) {{\n",
              "        var display = window.getComputedStyle(gd).display;\n",
              "        if (!display || display === 'none') {{\n",
              "            console.log([gd, 'removed!']);\n",
              "            Plotly.purge(gd);\n",
              "            observer.disconnect();\n",
              "        }}\n",
              "}});\n",
              "\n",
              "// Listen for the removal of the full notebook cells\n",
              "var notebookContainer = gd.closest('#notebook-container');\n",
              "if (notebookContainer) {{\n",
              "    x.observe(notebookContainer, {childList: true});\n",
              "}}\n",
              "\n",
              "// Listen for the clearing of the current output cell\n",
              "var outputEl = gd.closest('.output');\n",
              "if (outputEl) {{\n",
              "    x.observe(outputEl, {childList: true});\n",
              "}}\n",
              "\n",
              "                        })\n",
              "                };\n",
              "                \n",
              "            </script>\n",
              "        </div>\n",
              "</body>\n",
              "</html>"
            ]
          },
          "metadata": {
            "tags": []
          }
        }
      ]
    },
    {
      "cell_type": "markdown",
      "metadata": {
        "id": "0uK8TpmV3vV1"
      },
      "source": [
        "\n",
        "It is not important for the employee only the material factor (salary), but the moral factor is very important, the following diagram shows the relationship between them\n"
      ]
    },
    {
      "cell_type": "code",
      "metadata": {
        "colab": {
          "base_uri": "https://localhost:8080/",
          "height": 542
        },
        "id": "8_VU3E-82pEm",
        "outputId": "e45ff259-feed-4b79-fe1e-592f52946865"
      },
      "source": [
        "figuer = px.box(HrData, x = 'Attrition', y = 'MonthlyIncome', color = 'Attrition')\n",
        "figuer.show()"
      ],
      "execution_count": 22,
      "outputs": [
        {
          "output_type": "display_data",
          "data": {
            "text/html": [
              "<html>\n",
              "<head><meta charset=\"utf-8\" /></head>\n",
              "<body>\n",
              "    <div>\n",
              "            <script src=\"https://cdnjs.cloudflare.com/ajax/libs/mathjax/2.7.5/MathJax.js?config=TeX-AMS-MML_SVG\"></script><script type=\"text/javascript\">if (window.MathJax) {MathJax.Hub.Config({SVG: {font: \"STIX-Web\"}});}</script>\n",
              "                <script type=\"text/javascript\">window.PlotlyConfig = {MathJaxConfig: 'local'};</script>\n",
              "        <script src=\"https://cdn.plot.ly/plotly-latest.min.js\"></script>    \n",
              "            <div id=\"24010c07-0ac3-4e0a-af9b-36b05d4f5f65\" class=\"plotly-graph-div\" style=\"height:525px; width:100%;\"></div>\n",
              "            <script type=\"text/javascript\">\n",
              "                \n",
              "                    window.PLOTLYENV=window.PLOTLYENV || {};\n",
              "                    \n",
              "                if (document.getElementById(\"24010c07-0ac3-4e0a-af9b-36b05d4f5f65\")) {\n",
              "                    Plotly.newPlot(\n",
              "                        '24010c07-0ac3-4e0a-af9b-36b05d4f5f65',\n",
              "                        [{\"alignmentgroup\": \"True\", \"hoverlabel\": {\"namelength\": 0}, \"hovertemplate\": \"Attrition=%{x}<br>MonthlyIncome=%{y}\", \"legendgroup\": \"Attrition=1\", \"marker\": {\"color\": \"#636efa\"}, \"name\": \"Attrition=1\", \"notched\": false, \"offsetgroup\": \"Attrition=1\", \"orientation\": \"v\", \"showlegend\": true, \"type\": \"box\", \"x\": [1, 1, 1, 1, 1, 1, 1, 1, 1, 1, 1, 1, 1, 1, 1, 1, 1, 1, 1, 1, 1, 1, 1, 1, 1, 1, 1, 1, 1, 1, 1, 1, 1, 1, 1, 1, 1, 1, 1, 1, 1, 1, 1, 1, 1, 1, 1, 1, 1, 1, 1, 1, 1, 1, 1, 1, 1, 1, 1, 1, 1, 1, 1, 1, 1, 1, 1, 1, 1, 1, 1, 1, 1, 1, 1, 1, 1, 1, 1, 1, 1, 1, 1, 1, 1, 1, 1, 1, 1, 1, 1, 1, 1, 1, 1, 1, 1, 1, 1, 1, 1, 1, 1, 1, 1, 1, 1, 1, 1, 1, 1, 1, 1, 1, 1, 1, 1, 1, 1, 1, 1, 1, 1, 1, 1, 1, 1, 1, 1, 1, 1, 1, 1, 1, 1, 1, 1, 1, 1, 1, 1, 1, 1, 1, 1, 1, 1, 1, 1, 1, 1, 1, 1, 1, 1, 1, 1, 1, 1, 1, 1, 1, 1, 1, 1, 1, 1, 1, 1, 1, 1, 1, 1, 1, 1, 1, 1, 1, 1, 1, 1, 1, 1, 1, 1, 1, 1, 1, 1, 1, 1, 1, 1, 1, 1, 1, 1, 1, 1, 1, 1, 1, 1, 1, 1, 1, 1, 1, 1, 1, 1, 1, 1, 1, 1, 1, 1, 1, 1, 1, 1, 1, 1, 1, 1, 1, 1, 1, 1, 1, 1, 1, 1, 1, 1, 1, 1], \"x0\": \" \", \"xaxis\": \"x\", \"y\": [5993, 2090, 2028, 3407, 2960, 3919, 2086, 2293, 2683, 2293, 19545, 5381, 3441, 3388, 9619, 2073, 2926, 5744, 6074, 4963, 6172, 10312, 1675, 4559, 10650, 4200, 2325, 1102, 3140, 5916, 6673, 7639, 10400, 2657, 6696, 2058, 2389, 2436, 2707, 3730, 10048, 3479, 3485, 11849, 3161, 2373, 5828, 1420, 4941, 3464, 5238, 2119, 2174, 2851, 9355, 6380, 2716, 5304, 3102, 2285, 4031, 3202, 2351, 2546, 2564, 13610, 3408, 9824, 9950, 3894, 2741, 1878, 2340, 4707, 2886, 2033, 4233, 3041, 4286, 1009, 3348, 4577, 6796, 2216, 2759, 2686, 6397, 19859, 5326, 1601, 2319, 5324, 19246, 4382, 7654, 5160, 2366, 2022, 2800, 2795, 2380, 2044, 2693, 4171, 2778, 2404, 2413, 2121, 2973, 10325, 10609, 2479, 13194, 2321, 2404, 2132, 3743, 2600, 2422, 4777, 4969, 19845, 2743, 4834, 2042, 2323, 1416, 2461, 8722, 10482, 9582, 4508, 3691, 2377, 2313, 2596, 4728, 12169, 1904, 8224, 2610, 7336, 13758, 2515, 5346, 2936, 2853, 2107, 2210, 1859, 1118, 18824, 2625, 7978, 3339, 4883, 3904, 9094, 8446, 2302, 2362, 10008, 13695, 2785, 4614, 6179, 2394, 4284, 7553, 1359, 1261, 4400, 10096, 3646, 7446, 3722, 2742, 2909, 5765, 4599, 3172, 2561, 2362, 2018, 4084, 9714, 2074, 10169, 4855, 2408, 1569, 10306, 5440, 2166, 4581, 3989, 2655, 1393, 2275, 1555, 12936, 6134, 6735, 2180, 2760, 8564, 8161, 2437, 2679, 2398, 2342, 5813, 5346, 4213, 2148, 8926, 2956, 2335, 9907, 2439, 7314, 1081, 2472, 2307, 2587, 1091, 9854, 2432, 2863, 2367, 5617, 10448, 1790, 4787, 2339, 6728, 10854], \"y0\": \" \", \"yaxis\": \"y\"}, {\"alignmentgroup\": \"True\", \"hoverlabel\": {\"namelength\": 0}, \"hovertemplate\": \"Attrition=%{x}<br>MonthlyIncome=%{y}\", \"legendgroup\": \"Attrition=0\", \"marker\": {\"color\": \"#EF553B\"}, \"name\": \"Attrition=0\", \"notched\": false, \"offsetgroup\": \"Attrition=0\", \"orientation\": \"v\", \"showlegend\": true, \"type\": \"box\", \"x\": [0, 0, 0, 0, 0, 0, 0, 0, 0, 0, 0, 0, 0, 0, 0, 0, 0, 0, 0, 0, 0, 0, 0, 0, 0, 0, 0, 0, 0, 0, 0, 0, 0, 0, 0, 0, 0, 0, 0, 0, 0, 0, 0, 0, 0, 0, 0, 0, 0, 0, 0, 0, 0, 0, 0, 0, 0, 0, 0, 0, 0, 0, 0, 0, 0, 0, 0, 0, 0, 0, 0, 0, 0, 0, 0, 0, 0, 0, 0, 0, 0, 0, 0, 0, 0, 0, 0, 0, 0, 0, 0, 0, 0, 0, 0, 0, 0, 0, 0, 0, 0, 0, 0, 0, 0, 0, 0, 0, 0, 0, 0, 0, 0, 0, 0, 0, 0, 0, 0, 0, 0, 0, 0, 0, 0, 0, 0, 0, 0, 0, 0, 0, 0, 0, 0, 0, 0, 0, 0, 0, 0, 0, 0, 0, 0, 0, 0, 0, 0, 0, 0, 0, 0, 0, 0, 0, 0, 0, 0, 0, 0, 0, 0, 0, 0, 0, 0, 0, 0, 0, 0, 0, 0, 0, 0, 0, 0, 0, 0, 0, 0, 0, 0, 0, 0, 0, 0, 0, 0, 0, 0, 0, 0, 0, 0, 0, 0, 0, 0, 0, 0, 0, 0, 0, 0, 0, 0, 0, 0, 0, 0, 0, 0, 0, 0, 0, 0, 0, 0, 0, 0, 0, 0, 0, 0, 0, 0, 0, 0, 0, 0, 0, 0, 0, 0, 0, 0, 0, 0, 0, 0, 0, 0, 0, 0, 0, 0, 0, 0, 0, 0, 0, 0, 0, 0, 0, 0, 0, 0, 0, 0, 0, 0, 0, 0, 0, 0, 0, 0, 0, 0, 0, 0, 0, 0, 0, 0, 0, 0, 0, 0, 0, 0, 0, 0, 0, 0, 0, 0, 0, 0, 0, 0, 0, 0, 0, 0, 0, 0, 0, 0, 0, 0, 0, 0, 0, 0, 0, 0, 0, 0, 0, 0, 0, 0, 0, 0, 0, 0, 0, 0, 0, 0, 0, 0, 0, 0, 0, 0, 0, 0, 0, 0, 0, 0, 0, 0, 0, 0, 0, 0, 0, 0, 0, 0, 0, 0, 0, 0, 0, 0, 0, 0, 0, 0, 0, 0, 0, 0, 0, 0, 0, 0, 0, 0, 0, 0, 0, 0, 0, 0, 0, 0, 0, 0, 0, 0, 0, 0, 0, 0, 0, 0, 0, 0, 0, 0, 0, 0, 0, 0, 0, 0, 0, 0, 0, 0, 0, 0, 0, 0, 0, 0, 0, 0, 0, 0, 0, 0, 0, 0, 0, 0, 0, 0, 0, 0, 0, 0, 0, 0, 0, 0, 0, 0, 0, 0, 0, 0, 0, 0, 0, 0, 0, 0, 0, 0, 0, 0, 0, 0, 0, 0, 0, 0, 0, 0, 0, 0, 0, 0, 0, 0, 0, 0, 0, 0, 0, 0, 0, 0, 0, 0, 0, 0, 0, 0, 0, 0, 0, 0, 0, 0, 0, 0, 0, 0, 0, 0, 0, 0, 0, 0, 0, 0, 0, 0, 0, 0, 0, 0, 0, 0, 0, 0, 0, 0, 0, 0, 0, 0, 0, 0, 0, 0, 0, 0, 0, 0, 0, 0, 0, 0, 0, 0, 0, 0, 0, 0, 0, 0, 0, 0, 0, 0, 0, 0, 0, 0, 0, 0, 0, 0, 0, 0, 0, 0, 0, 0, 0, 0, 0, 0, 0, 0, 0, 0, 0, 0, 0, 0, 0, 0, 0, 0, 0, 0, 0, 0, 0, 0, 0, 0, 0, 0, 0, 0, 0, 0, 0, 0, 0, 0, 0, 0, 0, 0, 0, 0, 0, 0, 0, 0, 0, 0, 0, 0, 0, 0, 0, 0, 0, 0, 0, 0, 0, 0, 0, 0, 0, 0, 0, 0, 0, 0, 0, 0, 0, 0, 0, 0, 0, 0, 0, 0, 0, 0, 0, 0, 0, 0, 0, 0, 0, 0, 0, 0, 0, 0, 0, 0, 0, 0, 0, 0, 0, 0, 0, 0, 0, 0, 0, 0, 0, 0, 0, 0, 0, 0, 0, 0, 0, 0, 0, 0, 0, 0, 0, 0, 0, 0, 0, 0, 0, 0, 0, 0, 0, 0, 0, 0, 0, 0, 0, 0, 0, 0, 0, 0, 0, 0, 0, 0, 0, 0, 0, 0, 0, 0, 0, 0, 0, 0, 0, 0, 0, 0, 0, 0, 0, 0, 0, 0, 0, 0, 0, 0, 0, 0, 0, 0, 0, 0, 0, 0, 0, 0, 0, 0, 0, 0, 0, 0, 0, 0, 0, 0, 0, 0, 0, 0, 0, 0, 0, 0, 0, 0, 0, 0, 0, 0, 0, 0, 0, 0, 0, 0, 0, 0, 0, 0, 0, 0, 0, 0, 0, 0, 0, 0, 0, 0, 0, 0, 0, 0, 0, 0, 0, 0, 0, 0, 0, 0, 0, 0, 0, 0, 0, 0, 0, 0, 0, 0, 0, 0, 0, 0, 0, 0, 0, 0, 0, 0, 0, 0, 0, 0, 0, 0, 0, 0, 0, 0, 0, 0, 0, 0, 0, 0, 0, 0, 0, 0, 0, 0, 0, 0, 0, 0, 0, 0, 0, 0, 0, 0, 0, 0, 0, 0, 0, 0, 0, 0, 0, 0, 0, 0, 0, 0, 0, 0, 0, 0, 0, 0, 0, 0, 0, 0, 0, 0, 0, 0, 0, 0, 0, 0, 0, 0, 0, 0, 0, 0, 0, 0, 0, 0, 0, 0, 0, 0, 0, 0, 0, 0, 0, 0, 0, 0, 0, 0, 0, 0, 0, 0, 0, 0, 0, 0, 0, 0, 0, 0, 0, 0, 0, 0, 0, 0, 0, 0, 0, 0, 0, 0, 0, 0, 0, 0, 0, 0, 0, 0, 0, 0, 0, 0, 0, 0, 0, 0, 0, 0, 0, 0, 0, 0, 0, 0, 0, 0, 0, 0, 0, 0, 0, 0, 0, 0, 0, 0, 0, 0, 0, 0, 0, 0, 0, 0, 0, 0, 0, 0, 0, 0, 0, 0, 0, 0, 0, 0, 0, 0, 0, 0, 0, 0, 0, 0, 0, 0, 0, 0, 0, 0, 0, 0, 0, 0, 0, 0, 0, 0, 0, 0, 0, 0, 0, 0, 0, 0, 0, 0, 0, 0, 0, 0, 0, 0, 0, 0, 0, 0, 0, 0, 0, 0, 0, 0, 0, 0, 0, 0, 0, 0, 0, 0, 0, 0, 0, 0, 0, 0, 0, 0, 0, 0, 0, 0, 0, 0, 0, 0, 0, 0, 0, 0, 0, 0, 0, 0, 0, 0, 0, 0, 0, 0, 0, 0, 0, 0, 0, 0, 0, 0, 0, 0, 0, 0, 0, 0, 0, 0, 0, 0, 0, 0, 0, 0, 0, 0, 0, 0, 0, 0, 0, 0, 0, 0, 0, 0, 0, 0, 0, 0, 0, 0, 0, 0, 0, 0, 0, 0, 0, 0, 0, 0, 0, 0, 0, 0, 0, 0, 0, 0, 0, 0, 0, 0, 0, 0, 0, 0, 0, 0, 0, 0, 0, 0, 0, 0, 0, 0, 0, 0, 0, 0, 0, 0, 0, 0, 0, 0, 0, 0, 0, 0, 0, 0, 0, 0, 0, 0, 0, 0, 0, 0, 0, 0, 0, 0, 0, 0, 0, 0, 0, 0, 0, 0, 0, 0, 0, 0, 0, 0, 0, 0, 0, 0, 0, 0, 0, 0, 0, 0, 0, 0, 0, 0, 0, 0, 0, 0, 0, 0, 0, 0, 0, 0, 0, 0, 0, 0, 0, 0, 0, 0, 0, 0, 0, 0, 0, 0, 0, 0, 0, 0, 0, 0, 0, 0, 0, 0, 0, 0, 0, 0, 0, 0, 0, 0, 0, 0, 0, 0, 0, 0, 0, 0, 0, 0, 0, 0], \"x0\": \" \", \"xaxis\": \"x\", \"y\": [5130, 2909, 3468, 3068, 2670, 2693, 9526, 5237, 2426, 4193, 2911, 2661, 9980, 3298, 2935, 15427, 3944, 4011, 11994, 1232, 19094, 6825, 10248, 18947, 2496, 6465, 2206, 2645, 2014, 3419, 5376, 1951, 2341, 8726, 4011, 4568, 3022, 5772, 2269, 5454, 9884, 4157, 13458, 9069, 4014, 5915, 5993, 6162, 2406, 18740, 7637, 10096, 14756, 6499, 9724, 2194, 5473, 2703, 2501, 6220, 3038, 4424, 4312, 13245, 13664, 5021, 5126, 2859, 10239, 5329, 4325, 7260, 2322, 2075, 4152, 13503, 5441, 5209, 10673, 5010, 13549, 4999, 4221, 13872, 2042, 2956, 4809, 5163, 18844, 18172, 2889, 2871, 7484, 17328, 2774, 4505, 7428, 11631, 9738, 2835, 16959, 2613, 6146, 19537, 2368, 2523, 6567, 4739, 9208, 8189, 2942, 4941, 5902, 8639, 6347, 3452, 4317, 2632, 4668, 3204, 2720, 17181, 2238, 1483, 5605, 7295, 2306, 2348, 8998, 4319, 6132, 3346, 10855, 2231, 2323, 2024, 2713, 9439, 2566, 19926, 2451, 9419, 8686, 3038, 3058, 2088, 3072, 5006, 4257, 2500, 10453, 2288, 3929, 2311, 3690, 4450, 2756, 19033, 18722, 9547, 13734, 19999, 2279, 2089, 16792, 3564, 4425, 5265, 6553, 6261, 4298, 6804, 3815, 2741, 2328, 2153, 4876, 9396, 8474, 9981, 12490, 13591, 8865, 5940, 5914, 2622, 12185, 10609, 4345, 2177, 2793, 7918, 8789, 3212, 19232, 2267, 19517, 16064, 19068, 3931, 2232, 4465, 3072, 3319, 19202, 13675, 2911, 5957, 3920, 6434, 10938, 2340, 6545, 6931, 4898, 2593, 19436, 2723, 2794, 5249, 2176, 16872, 6644, 5582, 4000, 13496, 3210, 19045, 2070, 6502, 3230, 13603, 11996, 5605, 6397, 19144, 17584, 4907, 4554, 5415, 4741, 2115, 5745, 3310, 18665, 4485, 2789, 2326, 13525, 8020, 3688, 5482, 16015, 1200, 5661, 6929, 9613, 5674, 5484, 12061, 5660, 4821, 6410, 5210, 2695, 11878, 17068, 2455, 13964, 2478, 5228, 4478, 7547, 5055, 5775, 8943, 19272, 4682, 18300, 5257, 6349, 4869, 9985, 3697, 7457, 3983, 6118, 6214, 6347, 11510, 7143, 8268, 8095, 2904, 6032, 2976, 15992, 4649, 2696, 2370, 12504, 5974, 4736, 5296, 6781, 6653, 9699, 6755, 2213, 2610, 3452, 5258, 10496, 2657, 2201, 6540, 3816, 5253, 10965, 4936, 2543, 16659, 4260, 2476, 2244, 7596, 3034, 5715, 2576, 4197, 14336, 3448, 19406, 6538, 4306, 2258, 4522, 4487, 4449, 2218, 19197, 13212, 6577, 8392, 4558, 7969, 2654, 16555, 4556, 6091, 19566, 4810, 4523, 1702, 18041, 2886, 2097, 11935, 8412, 14118, 17046, 2564, 10266, 5070, 17861, 4230, 3780, 2768, 9071, 10648, 2983, 7632, 2093, 9980, 4051, 16835, 6230, 4717, 13237, 3755, 6582, 7406, 4805, 4262, 16184, 11557, 10932, 6811, 4306, 4859, 5337, 7491, 10527, 16595, 8834, 5577, 2400, 9824, 6447, 19502, 2725, 6272, 2127, 18200, 2096, 3622, 3681, 5460, 2187, 9602, 2836, 4089, 16627, 2619, 5679, 15402, 5985, 2579, 3447, 19513, 2773, 7104, 6322, 2083, 8381, 2691, 2659, 9434, 5561, 6646, 7725, 10725, 8847, 2045, 1281, 2819, 4851, 4028, 2720, 8120, 4647, 4680, 3221, 8621, 4553, 5396, 7625, 7412, 11159, 4960, 10475, 14814, 19141, 5405, 8793, 19189, 3875, 11713, 7861, 3708, 13770, 5304, 2642, 6804, 6142, 2500, 6389, 11103, 2342, 6811, 2297, 2450, 5093, 5309, 3057, 5121, 16856, 6180, 6632, 3505, 6274, 7587, 4258, 4364, 4335, 3280, 5485, 4342, 2782, 5980, 4381, 2572, 3833, 4244, 6500, 18430, 2694, 3149, 17639, 11691, 16752, 5228, 2700, 2506, 6062, 2143, 6162, 5094, 6877, 2274, 4434, 6288, 2553, 17159, 12808, 10221, 4779, 3737, 1706, 16307, 5933, 3424, 4037, 2559, 6201, 4403, 3761, 10934, 10761, 5175, 13826, 6334, 4936, 4775, 2818, 2515, 2342, 4194, 10685, 2314, 4256, 3580, 3162, 6524, 2899, 5231, 2356, 11836, 10903, 2973, 14275, 5562, 4537, 7642, 17924, 5204, 2277, 2532, 2559, 4908, 4765, 6586, 3294, 2377, 2318, 2008, 6244, 2799, 10552, 2329, 4014, 7403, 2259, 6932, 4678, 13582, 2332, 9705, 4294, 4721, 2519, 5855, 3617, 6725, 6949, 4447, 2157, 4601, 17099, 14852, 7264, 5666, 7823, 7880, 5067, 5079, 17444, 3452, 2270, 17399, 5488, 19419, 2811, 3633, 4163, 13973, 2684, 10845, 4377, 4148, 1051, 10739, 10388, 11416, 5472, 2451, 4240, 10999, 5003, 12742, 4227, 3917, 18303, 2380, 13726, 6385, 19973, 6861, 13320, 6347, 10880, 2342, 17650, 4025, 9725, 11904, 2177, 7525, 2220, 1052, 2821, 19237, 4107, 8396, 2007, 19627, 10686, 2942, 8858, 16756, 10798, 4615, 3955, 9957, 3376, 8823, 10322, 4621, 10976, 3660, 7119, 2207, 7756, 6694, 17665, 4302, 2979, 16885, 5593, 10445, 8740, 2514, 7655, 17465, 7351, 10820, 19626, 2070, 6782, 7779, 2791, 3201, 4968, 13120, 4033, 3291, 4272, 5056, 2844, 2703, 4766, 5731, 2539, 5714, 4323, 13499, 5155, 2258, 3597, 4420, 6578, 4422, 10274, 5343, 2376, 2827, 19943, 3131, 2552, 4477, 6474, 3033, 18606, 2168, 17048, 2290, 3600, 4115, 4327, 17856, 3196, 19081, 8966, 4539, 2741, 3491, 4541, 2678, 7379, 6272, 5220, 2743, 4998, 10252, 2781, 6852, 4950, 3579, 13191, 10377, 2235, 10502, 2011, 3760, 17779, 6833, 6812, 5171, 19740, 18711, 3692, 2559, 2517, 6623, 18265, 16124, 2585, 18213, 8380, 2994, 1223, 2875, 13577, 18789, 4538, 19847, 10512, 4444, 2154, 19190, 4490, 3506, 2372, 10231, 5410, 3867, 2838, 4695, 2080, 2096, 6209, 18061, 17123, 2372, 4627, 7094, 3423, 6674, 16880, 11916, 4534, 9852, 6151, 17861, 19187, 19717, 3544, 8500, 4661, 4103, 4249, 14026, 6893, 6125, 3669, 2387, 4639, 7898, 2534, 13142, 1611, 5363, 5071, 13402, 2029, 6377, 5429, 2610, 6687, 4724, 6120, 10596, 5467, 2996, 9998, 4078, 10920, 6232, 13247, 4081, 5769, 3904, 16799, 2950, 3629, 9362, 3229, 3578, 7988, 17328, 19701, 14732, 9278, 4779, 16422, 2996, 2099, 5810, 5647, 3420, 3500, 2066, 17169, 4162, 9204, 3294, 2127, 3975, 10793, 10851, 2109, 9380, 5486, 13757, 8463, 3162, 16598, 6651, 2345, 3420, 4373, 4759, 5301, 3673, 4768, 1274, 4900, 10466, 17007, 2404, 2033, 10209, 8620, 2064, 4035, 3838, 4591, 1563, 4898, 4789, 3180, 6549, 6388, 11244, 16032, 16328, 8376, 16606, 8606, 2272, 7083, 14411, 2308, 4841, 4285, 9715, 4320, 2132, 10124, 5473, 5207, 16437, 2296, 4069, 7441, 2430, 5878, 2644, 6439, 2451, 6392, 6077, 2450, 9250, 4087, 2367, 2972, 19586, 5484, 2061, 9924, 4198, 6815, 4723, 6142, 8237, 8853, 19331, 2073, 5562, 19613, 3407, 5063, 4639, 4876, 2690, 17567, 2814, 11245, 3312, 19049, 2141, 5769, 4385, 5332, 4663, 4724, 3211, 5377, 4066, 5208, 4877, 3117, 19658, 3069, 10435, 4148, 5768, 5042, 5770, 7756, 3936, 7945, 5743, 15202, 3760, 3517, 2580, 5869, 8008, 5206, 5295, 16413, 13269, 2783, 5433, 2013, 13966, 4374, 6842, 17426, 17603, 4735, 4187, 5505, 5470, 5476, 2587, 2440, 15972, 15379, 7082, 2728, 5368, 5347, 3195, 3306, 7005, 2570, 3537, 3986, 10883, 2028, 9525, 2929, 7879, 4930, 7847, 4401, 9241, 2974, 4502, 10748, 2305, 16704, 3433, 3477, 6430, 6516, 3907, 5562, 6883, 2862, 4978, 10368, 3295, 5238, 6472, 9610, 19833, 9756, 4968, 2145, 8346, 3445, 6294, 7140, 2932, 5147, 4507, 2468, 2109, 5294, 2718, 5811, 2766, 19038, 3055, 2289, 4001, 12965, 3539, 6029, 3702, 5468, 13116, 4189, 19328, 8321, 4071, 3143, 2044, 13464, 7991, 3377, 5538, 5762, 2592, 4127, 2438, 6870, 10447, 9667, 6513, 6799, 16291, 2705, 10333, 4448, 6854, 9637, 3591, 5405, 4684, 15787, 1514, 5154, 6962, 5675, 2379, 3812, 4648, 2936, 2105, 8578, 2706, 6384, 3968, 13225, 3540, 2804, 19392, 19665, 4774, 3902, 2662, 2856, 5673, 4197, 9713, 2062, 4284, 4788, 5906, 3886, 16823, 2933, 6500, 17174, 5033, 5507, 4393, 13348, 6583, 8103, 3978, 2544, 5399, 5487, 6834, 5736, 2226, 5747, 5467, 5380, 5151, 2133, 17875, 4771, 19161, 5087, 5561, 2144, 3065, 2810, 9888, 8628, 2867, 5373, 6667, 5003, 2858, 5204, 4105, 9679, 2897, 5968, 7510, 2991, 19636, 1129, 13341, 4332, 11031, 4440, 4617, 2647, 6323, 5677, 2187, 3748, 3977, 8633, 2008, 4440, 3067, 5321, 5410, 2782, 11957, 2660, 3375, 5098, 4878, 2837, 2406, 2269, 4108, 13206, 10422, 13744, 4907, 3482, 2436, 2380, 19431, 7644, 5131, 6306, 18880, 13570, 6712, 5406, 8938, 2439, 8837, 5343, 6652, 4850, 2809, 5689, 2001, 2977, 4025, 3785, 12031, 9936, 2966, 2571, 9991, 6142, 5390, 4404], \"y0\": \" \", \"yaxis\": \"y\"}],\n",
              "                        {\"boxmode\": \"group\", \"legend\": {\"tracegroupgap\": 0}, \"margin\": {\"t\": 60}, \"template\": {\"data\": {\"bar\": [{\"error_x\": {\"color\": \"#2a3f5f\"}, \"error_y\": {\"color\": \"#2a3f5f\"}, \"marker\": {\"line\": {\"color\": \"#E5ECF6\", \"width\": 0.5}}, \"type\": \"bar\"}], \"barpolar\": [{\"marker\": {\"line\": {\"color\": \"#E5ECF6\", \"width\": 0.5}}, \"type\": \"barpolar\"}], \"carpet\": [{\"aaxis\": {\"endlinecolor\": \"#2a3f5f\", \"gridcolor\": \"white\", \"linecolor\": \"white\", \"minorgridcolor\": \"white\", \"startlinecolor\": \"#2a3f5f\"}, \"baxis\": {\"endlinecolor\": \"#2a3f5f\", \"gridcolor\": \"white\", \"linecolor\": \"white\", \"minorgridcolor\": \"white\", \"startlinecolor\": \"#2a3f5f\"}, \"type\": \"carpet\"}], \"choropleth\": [{\"colorbar\": {\"outlinewidth\": 0, \"ticks\": \"\"}, \"type\": \"choropleth\"}], \"contour\": [{\"colorbar\": {\"outlinewidth\": 0, \"ticks\": \"\"}, \"colorscale\": [[0.0, \"#0d0887\"], [0.1111111111111111, \"#46039f\"], [0.2222222222222222, \"#7201a8\"], [0.3333333333333333, \"#9c179e\"], [0.4444444444444444, \"#bd3786\"], [0.5555555555555556, \"#d8576b\"], [0.6666666666666666, \"#ed7953\"], [0.7777777777777778, \"#fb9f3a\"], [0.8888888888888888, \"#fdca26\"], [1.0, \"#f0f921\"]], \"type\": \"contour\"}], \"contourcarpet\": [{\"colorbar\": {\"outlinewidth\": 0, \"ticks\": \"\"}, \"type\": \"contourcarpet\"}], \"heatmap\": [{\"colorbar\": {\"outlinewidth\": 0, \"ticks\": \"\"}, \"colorscale\": [[0.0, \"#0d0887\"], [0.1111111111111111, \"#46039f\"], [0.2222222222222222, \"#7201a8\"], [0.3333333333333333, \"#9c179e\"], [0.4444444444444444, \"#bd3786\"], [0.5555555555555556, \"#d8576b\"], [0.6666666666666666, \"#ed7953\"], [0.7777777777777778, \"#fb9f3a\"], [0.8888888888888888, \"#fdca26\"], [1.0, \"#f0f921\"]], \"type\": \"heatmap\"}], \"heatmapgl\": [{\"colorbar\": {\"outlinewidth\": 0, \"ticks\": \"\"}, \"colorscale\": [[0.0, \"#0d0887\"], [0.1111111111111111, \"#46039f\"], [0.2222222222222222, \"#7201a8\"], [0.3333333333333333, \"#9c179e\"], [0.4444444444444444, \"#bd3786\"], [0.5555555555555556, \"#d8576b\"], [0.6666666666666666, \"#ed7953\"], [0.7777777777777778, \"#fb9f3a\"], [0.8888888888888888, \"#fdca26\"], [1.0, \"#f0f921\"]], \"type\": \"heatmapgl\"}], \"histogram\": [{\"marker\": {\"colorbar\": {\"outlinewidth\": 0, \"ticks\": \"\"}}, \"type\": \"histogram\"}], \"histogram2d\": [{\"colorbar\": {\"outlinewidth\": 0, \"ticks\": \"\"}, \"colorscale\": [[0.0, \"#0d0887\"], [0.1111111111111111, \"#46039f\"], [0.2222222222222222, \"#7201a8\"], [0.3333333333333333, \"#9c179e\"], [0.4444444444444444, \"#bd3786\"], [0.5555555555555556, \"#d8576b\"], [0.6666666666666666, \"#ed7953\"], [0.7777777777777778, \"#fb9f3a\"], [0.8888888888888888, \"#fdca26\"], [1.0, \"#f0f921\"]], \"type\": \"histogram2d\"}], \"histogram2dcontour\": [{\"colorbar\": {\"outlinewidth\": 0, \"ticks\": \"\"}, \"colorscale\": [[0.0, \"#0d0887\"], [0.1111111111111111, \"#46039f\"], [0.2222222222222222, \"#7201a8\"], [0.3333333333333333, \"#9c179e\"], [0.4444444444444444, \"#bd3786\"], [0.5555555555555556, \"#d8576b\"], [0.6666666666666666, \"#ed7953\"], [0.7777777777777778, \"#fb9f3a\"], [0.8888888888888888, \"#fdca26\"], [1.0, \"#f0f921\"]], \"type\": \"histogram2dcontour\"}], \"mesh3d\": [{\"colorbar\": {\"outlinewidth\": 0, \"ticks\": \"\"}, \"type\": \"mesh3d\"}], \"parcoords\": [{\"line\": {\"colorbar\": {\"outlinewidth\": 0, \"ticks\": \"\"}}, \"type\": \"parcoords\"}], \"pie\": [{\"automargin\": true, \"type\": \"pie\"}], \"scatter\": [{\"marker\": {\"colorbar\": {\"outlinewidth\": 0, \"ticks\": \"\"}}, \"type\": \"scatter\"}], \"scatter3d\": [{\"line\": {\"colorbar\": {\"outlinewidth\": 0, \"ticks\": \"\"}}, \"marker\": {\"colorbar\": {\"outlinewidth\": 0, \"ticks\": \"\"}}, \"type\": \"scatter3d\"}], \"scattercarpet\": [{\"marker\": {\"colorbar\": {\"outlinewidth\": 0, \"ticks\": \"\"}}, \"type\": \"scattercarpet\"}], \"scattergeo\": [{\"marker\": {\"colorbar\": {\"outlinewidth\": 0, \"ticks\": \"\"}}, \"type\": \"scattergeo\"}], \"scattergl\": [{\"marker\": {\"colorbar\": {\"outlinewidth\": 0, \"ticks\": \"\"}}, \"type\": \"scattergl\"}], \"scattermapbox\": [{\"marker\": {\"colorbar\": {\"outlinewidth\": 0, \"ticks\": \"\"}}, \"type\": \"scattermapbox\"}], \"scatterpolar\": [{\"marker\": {\"colorbar\": {\"outlinewidth\": 0, \"ticks\": \"\"}}, \"type\": \"scatterpolar\"}], \"scatterpolargl\": [{\"marker\": {\"colorbar\": {\"outlinewidth\": 0, \"ticks\": \"\"}}, \"type\": \"scatterpolargl\"}], \"scatterternary\": [{\"marker\": {\"colorbar\": {\"outlinewidth\": 0, \"ticks\": \"\"}}, \"type\": \"scatterternary\"}], \"surface\": [{\"colorbar\": {\"outlinewidth\": 0, \"ticks\": \"\"}, \"colorscale\": [[0.0, \"#0d0887\"], [0.1111111111111111, \"#46039f\"], [0.2222222222222222, \"#7201a8\"], [0.3333333333333333, \"#9c179e\"], [0.4444444444444444, \"#bd3786\"], [0.5555555555555556, \"#d8576b\"], [0.6666666666666666, \"#ed7953\"], [0.7777777777777778, \"#fb9f3a\"], [0.8888888888888888, \"#fdca26\"], [1.0, \"#f0f921\"]], \"type\": \"surface\"}], \"table\": [{\"cells\": {\"fill\": {\"color\": \"#EBF0F8\"}, \"line\": {\"color\": \"white\"}}, \"header\": {\"fill\": {\"color\": \"#C8D4E3\"}, \"line\": {\"color\": \"white\"}}, \"type\": \"table\"}]}, \"layout\": {\"annotationdefaults\": {\"arrowcolor\": \"#2a3f5f\", \"arrowhead\": 0, \"arrowwidth\": 1}, \"coloraxis\": {\"colorbar\": {\"outlinewidth\": 0, \"ticks\": \"\"}}, \"colorscale\": {\"diverging\": [[0, \"#8e0152\"], [0.1, \"#c51b7d\"], [0.2, \"#de77ae\"], [0.3, \"#f1b6da\"], [0.4, \"#fde0ef\"], [0.5, \"#f7f7f7\"], [0.6, \"#e6f5d0\"], [0.7, \"#b8e186\"], [0.8, \"#7fbc41\"], [0.9, \"#4d9221\"], [1, \"#276419\"]], \"sequential\": [[0.0, \"#0d0887\"], [0.1111111111111111, \"#46039f\"], [0.2222222222222222, \"#7201a8\"], [0.3333333333333333, \"#9c179e\"], [0.4444444444444444, \"#bd3786\"], [0.5555555555555556, \"#d8576b\"], [0.6666666666666666, \"#ed7953\"], [0.7777777777777778, \"#fb9f3a\"], [0.8888888888888888, \"#fdca26\"], [1.0, \"#f0f921\"]], \"sequentialminus\": [[0.0, \"#0d0887\"], [0.1111111111111111, \"#46039f\"], [0.2222222222222222, \"#7201a8\"], [0.3333333333333333, \"#9c179e\"], [0.4444444444444444, \"#bd3786\"], [0.5555555555555556, \"#d8576b\"], [0.6666666666666666, \"#ed7953\"], [0.7777777777777778, \"#fb9f3a\"], [0.8888888888888888, \"#fdca26\"], [1.0, \"#f0f921\"]]}, \"colorway\": [\"#636efa\", \"#EF553B\", \"#00cc96\", \"#ab63fa\", \"#FFA15A\", \"#19d3f3\", \"#FF6692\", \"#B6E880\", \"#FF97FF\", \"#FECB52\"], \"font\": {\"color\": \"#2a3f5f\"}, \"geo\": {\"bgcolor\": \"white\", \"lakecolor\": \"white\", \"landcolor\": \"#E5ECF6\", \"showlakes\": true, \"showland\": true, \"subunitcolor\": \"white\"}, \"hoverlabel\": {\"align\": \"left\"}, \"hovermode\": \"closest\", \"mapbox\": {\"style\": \"light\"}, \"paper_bgcolor\": \"white\", \"plot_bgcolor\": \"#E5ECF6\", \"polar\": {\"angularaxis\": {\"gridcolor\": \"white\", \"linecolor\": \"white\", \"ticks\": \"\"}, \"bgcolor\": \"#E5ECF6\", \"radialaxis\": {\"gridcolor\": \"white\", \"linecolor\": \"white\", \"ticks\": \"\"}}, \"scene\": {\"xaxis\": {\"backgroundcolor\": \"#E5ECF6\", \"gridcolor\": \"white\", \"gridwidth\": 2, \"linecolor\": \"white\", \"showbackground\": true, \"ticks\": \"\", \"zerolinecolor\": \"white\"}, \"yaxis\": {\"backgroundcolor\": \"#E5ECF6\", \"gridcolor\": \"white\", \"gridwidth\": 2, \"linecolor\": \"white\", \"showbackground\": true, \"ticks\": \"\", \"zerolinecolor\": \"white\"}, \"zaxis\": {\"backgroundcolor\": \"#E5ECF6\", \"gridcolor\": \"white\", \"gridwidth\": 2, \"linecolor\": \"white\", \"showbackground\": true, \"ticks\": \"\", \"zerolinecolor\": \"white\"}}, \"shapedefaults\": {\"line\": {\"color\": \"#2a3f5f\"}}, \"ternary\": {\"aaxis\": {\"gridcolor\": \"white\", \"linecolor\": \"white\", \"ticks\": \"\"}, \"baxis\": {\"gridcolor\": \"white\", \"linecolor\": \"white\", \"ticks\": \"\"}, \"bgcolor\": \"#E5ECF6\", \"caxis\": {\"gridcolor\": \"white\", \"linecolor\": \"white\", \"ticks\": \"\"}}, \"title\": {\"x\": 0.05}, \"xaxis\": {\"automargin\": true, \"gridcolor\": \"white\", \"linecolor\": \"white\", \"ticks\": \"\", \"title\": {\"standoff\": 15}, \"zerolinecolor\": \"white\", \"zerolinewidth\": 2}, \"yaxis\": {\"automargin\": true, \"gridcolor\": \"white\", \"linecolor\": \"white\", \"ticks\": \"\", \"title\": {\"standoff\": 15}, \"zerolinecolor\": \"white\", \"zerolinewidth\": 2}}}, \"xaxis\": {\"anchor\": \"y\", \"categoryarray\": [1, 0], \"categoryorder\": \"array\", \"domain\": [0.0, 1.0], \"title\": {\"text\": \"Attrition\"}}, \"yaxis\": {\"anchor\": \"x\", \"domain\": [0.0, 1.0], \"title\": {\"text\": \"MonthlyIncome\"}}},\n",
              "                        {\"responsive\": true}\n",
              "                    ).then(function(){\n",
              "                            \n",
              "var gd = document.getElementById('24010c07-0ac3-4e0a-af9b-36b05d4f5f65');\n",
              "var x = new MutationObserver(function (mutations, observer) {{\n",
              "        var display = window.getComputedStyle(gd).display;\n",
              "        if (!display || display === 'none') {{\n",
              "            console.log([gd, 'removed!']);\n",
              "            Plotly.purge(gd);\n",
              "            observer.disconnect();\n",
              "        }}\n",
              "}});\n",
              "\n",
              "// Listen for the removal of the full notebook cells\n",
              "var notebookContainer = gd.closest('#notebook-container');\n",
              "if (notebookContainer) {{\n",
              "    x.observe(notebookContainer, {childList: true});\n",
              "}}\n",
              "\n",
              "// Listen for the clearing of the current output cell\n",
              "var outputEl = gd.closest('.output');\n",
              "if (outputEl) {{\n",
              "    x.observe(outputEl, {childList: true});\n",
              "}}\n",
              "\n",
              "                        })\n",
              "                };\n",
              "                \n",
              "            </script>\n",
              "        </div>\n",
              "</body>\n",
              "</html>"
            ]
          },
          "metadata": {
            "tags": []
          }
        }
      ]
    },
    {
      "cell_type": "markdown",
      "metadata": {
        "id": "Pco-yM3y4OdT"
      },
      "source": [
        "The relationship of co-workers with employees"
      ]
    },
    {
      "cell_type": "code",
      "metadata": {
        "colab": {
          "base_uri": "https://localhost:8080/",
          "height": 542
        },
        "id": "n95WkpyP2q5j",
        "outputId": "0145b476-7139-4fc9-961e-05e9984dca70"
      },
      "source": [
        "figuer = px.box(HrData, x = 'Attrition', y = 'JobSatisfaction', color = 'Attrition')\n",
        "figuer.show()"
      ],
      "execution_count": 23,
      "outputs": [
        {
          "output_type": "display_data",
          "data": {
            "text/html": [
              "<html>\n",
              "<head><meta charset=\"utf-8\" /></head>\n",
              "<body>\n",
              "    <div>\n",
              "            <script src=\"https://cdnjs.cloudflare.com/ajax/libs/mathjax/2.7.5/MathJax.js?config=TeX-AMS-MML_SVG\"></script><script type=\"text/javascript\">if (window.MathJax) {MathJax.Hub.Config({SVG: {font: \"STIX-Web\"}});}</script>\n",
              "                <script type=\"text/javascript\">window.PlotlyConfig = {MathJaxConfig: 'local'};</script>\n",
              "        <script src=\"https://cdn.plot.ly/plotly-latest.min.js\"></script>    \n",
              "            <div id=\"071240fb-150b-461e-bfe3-c2b19511cbe4\" class=\"plotly-graph-div\" style=\"height:525px; width:100%;\"></div>\n",
              "            <script type=\"text/javascript\">\n",
              "                \n",
              "                    window.PLOTLYENV=window.PLOTLYENV || {};\n",
              "                    \n",
              "                if (document.getElementById(\"071240fb-150b-461e-bfe3-c2b19511cbe4\")) {\n",
              "                    Plotly.newPlot(\n",
              "                        '071240fb-150b-461e-bfe3-c2b19511cbe4',\n",
              "                        [{\"alignmentgroup\": \"True\", \"hoverlabel\": {\"namelength\": 0}, \"hovertemplate\": \"Attrition=%{x}<br>JobSatisfaction=%{y}\", \"legendgroup\": \"Attrition=1\", \"marker\": {\"color\": \"#636efa\"}, \"name\": \"Attrition=1\", \"notched\": false, \"offsetgroup\": \"Attrition=1\", \"orientation\": \"v\", \"showlegend\": true, \"type\": \"box\", \"x\": [1, 1, 1, 1, 1, 1, 1, 1, 1, 1, 1, 1, 1, 1, 1, 1, 1, 1, 1, 1, 1, 1, 1, 1, 1, 1, 1, 1, 1, 1, 1, 1, 1, 1, 1, 1, 1, 1, 1, 1, 1, 1, 1, 1, 1, 1, 1, 1, 1, 1, 1, 1, 1, 1, 1, 1, 1, 1, 1, 1, 1, 1, 1, 1, 1, 1, 1, 1, 1, 1, 1, 1, 1, 1, 1, 1, 1, 1, 1, 1, 1, 1, 1, 1, 1, 1, 1, 1, 1, 1, 1, 1, 1, 1, 1, 1, 1, 1, 1, 1, 1, 1, 1, 1, 1, 1, 1, 1, 1, 1, 1, 1, 1, 1, 1, 1, 1, 1, 1, 1, 1, 1, 1, 1, 1, 1, 1, 1, 1, 1, 1, 1, 1, 1, 1, 1, 1, 1, 1, 1, 1, 1, 1, 1, 1, 1, 1, 1, 1, 1, 1, 1, 1, 1, 1, 1, 1, 1, 1, 1, 1, 1, 1, 1, 1, 1, 1, 1, 1, 1, 1, 1, 1, 1, 1, 1, 1, 1, 1, 1, 1, 1, 1, 1, 1, 1, 1, 1, 1, 1, 1, 1, 1, 1, 1, 1, 1, 1, 1, 1, 1, 1, 1, 1, 1, 1, 1, 1, 1, 1, 1, 1, 1, 1, 1, 1, 1, 1, 1, 1, 1, 1, 1, 1, 1, 1, 1, 1, 1, 1, 1, 1, 1, 1, 1, 1, 1], \"x0\": \" \", \"xaxis\": \"x\", \"y\": [4, 3, 3, 1, 1, 1, 4, 4, 3, 3, 3, 3, 3, 3, 4, 1, 4, 3, 3, 2, 3, 4, 3, 3, 4, 1, 1, 4, 2, 3, 1, 4, 4, 1, 1, 3, 4, 4, 1, 3, 3, 2, 3, 2, 3, 2, 4, 3, 2, 4, 3, 1, 2, 3, 2, 3, 2, 4, 1, 4, 1, 2, 3, 2, 4, 3, 4, 3, 1, 3, 3, 2, 4, 3, 3, 1, 1, 1, 1, 3, 1, 3, 3, 2, 3, 4, 3, 1, 1, 1, 1, 1, 2, 3, 4, 4, 3, 2, 3, 4, 4, 3, 4, 3, 4, 1, 2, 2, 1, 4, 3, 3, 2, 1, 1, 3, 2, 1, 2, 2, 1, 4, 1, 3, 1, 4, 1, 3, 1, 1, 1, 3, 4, 3, 2, 2, 3, 4, 3, 1, 3, 1, 1, 4, 3, 3, 4, 1, 2, 2, 4, 2, 3, 4, 3, 3, 1, 2, 2, 2, 1, 1, 3, 4, 3, 3, 3, 1, 4, 3, 2, 1, 4, 1, 2, 4, 3, 3, 2, 2, 1, 1, 1, 1, 3, 1, 1, 4, 2, 2, 4, 1, 4, 1, 4, 3, 3, 2, 4, 3, 3, 1, 2, 4, 2, 1, 3, 3, 2, 1, 2, 4, 1, 1, 2, 2, 1, 1, 2, 4, 2, 4, 2, 1, 4, 1, 3, 3, 2, 4, 4, 1, 1, 4, 3, 3, 1], \"y0\": \" \", \"yaxis\": \"y\"}, {\"alignmentgroup\": \"True\", \"hoverlabel\": {\"namelength\": 0}, \"hovertemplate\": \"Attrition=%{x}<br>JobSatisfaction=%{y}\", \"legendgroup\": \"Attrition=0\", \"marker\": {\"color\": \"#EF553B\"}, \"name\": \"Attrition=0\", \"notched\": false, \"offsetgroup\": \"Attrition=0\", \"orientation\": \"v\", \"showlegend\": true, \"type\": \"box\", \"x\": [0, 0, 0, 0, 0, 0, 0, 0, 0, 0, 0, 0, 0, 0, 0, 0, 0, 0, 0, 0, 0, 0, 0, 0, 0, 0, 0, 0, 0, 0, 0, 0, 0, 0, 0, 0, 0, 0, 0, 0, 0, 0, 0, 0, 0, 0, 0, 0, 0, 0, 0, 0, 0, 0, 0, 0, 0, 0, 0, 0, 0, 0, 0, 0, 0, 0, 0, 0, 0, 0, 0, 0, 0, 0, 0, 0, 0, 0, 0, 0, 0, 0, 0, 0, 0, 0, 0, 0, 0, 0, 0, 0, 0, 0, 0, 0, 0, 0, 0, 0, 0, 0, 0, 0, 0, 0, 0, 0, 0, 0, 0, 0, 0, 0, 0, 0, 0, 0, 0, 0, 0, 0, 0, 0, 0, 0, 0, 0, 0, 0, 0, 0, 0, 0, 0, 0, 0, 0, 0, 0, 0, 0, 0, 0, 0, 0, 0, 0, 0, 0, 0, 0, 0, 0, 0, 0, 0, 0, 0, 0, 0, 0, 0, 0, 0, 0, 0, 0, 0, 0, 0, 0, 0, 0, 0, 0, 0, 0, 0, 0, 0, 0, 0, 0, 0, 0, 0, 0, 0, 0, 0, 0, 0, 0, 0, 0, 0, 0, 0, 0, 0, 0, 0, 0, 0, 0, 0, 0, 0, 0, 0, 0, 0, 0, 0, 0, 0, 0, 0, 0, 0, 0, 0, 0, 0, 0, 0, 0, 0, 0, 0, 0, 0, 0, 0, 0, 0, 0, 0, 0, 0, 0, 0, 0, 0, 0, 0, 0, 0, 0, 0, 0, 0, 0, 0, 0, 0, 0, 0, 0, 0, 0, 0, 0, 0, 0, 0, 0, 0, 0, 0, 0, 0, 0, 0, 0, 0, 0, 0, 0, 0, 0, 0, 0, 0, 0, 0, 0, 0, 0, 0, 0, 0, 0, 0, 0, 0, 0, 0, 0, 0, 0, 0, 0, 0, 0, 0, 0, 0, 0, 0, 0, 0, 0, 0, 0, 0, 0, 0, 0, 0, 0, 0, 0, 0, 0, 0, 0, 0, 0, 0, 0, 0, 0, 0, 0, 0, 0, 0, 0, 0, 0, 0, 0, 0, 0, 0, 0, 0, 0, 0, 0, 0, 0, 0, 0, 0, 0, 0, 0, 0, 0, 0, 0, 0, 0, 0, 0, 0, 0, 0, 0, 0, 0, 0, 0, 0, 0, 0, 0, 0, 0, 0, 0, 0, 0, 0, 0, 0, 0, 0, 0, 0, 0, 0, 0, 0, 0, 0, 0, 0, 0, 0, 0, 0, 0, 0, 0, 0, 0, 0, 0, 0, 0, 0, 0, 0, 0, 0, 0, 0, 0, 0, 0, 0, 0, 0, 0, 0, 0, 0, 0, 0, 0, 0, 0, 0, 0, 0, 0, 0, 0, 0, 0, 0, 0, 0, 0, 0, 0, 0, 0, 0, 0, 0, 0, 0, 0, 0, 0, 0, 0, 0, 0, 0, 0, 0, 0, 0, 0, 0, 0, 0, 0, 0, 0, 0, 0, 0, 0, 0, 0, 0, 0, 0, 0, 0, 0, 0, 0, 0, 0, 0, 0, 0, 0, 0, 0, 0, 0, 0, 0, 0, 0, 0, 0, 0, 0, 0, 0, 0, 0, 0, 0, 0, 0, 0, 0, 0, 0, 0, 0, 0, 0, 0, 0, 0, 0, 0, 0, 0, 0, 0, 0, 0, 0, 0, 0, 0, 0, 0, 0, 0, 0, 0, 0, 0, 0, 0, 0, 0, 0, 0, 0, 0, 0, 0, 0, 0, 0, 0, 0, 0, 0, 0, 0, 0, 0, 0, 0, 0, 0, 0, 0, 0, 0, 0, 0, 0, 0, 0, 0, 0, 0, 0, 0, 0, 0, 0, 0, 0, 0, 0, 0, 0, 0, 0, 0, 0, 0, 0, 0, 0, 0, 0, 0, 0, 0, 0, 0, 0, 0, 0, 0, 0, 0, 0, 0, 0, 0, 0, 0, 0, 0, 0, 0, 0, 0, 0, 0, 0, 0, 0, 0, 0, 0, 0, 0, 0, 0, 0, 0, 0, 0, 0, 0, 0, 0, 0, 0, 0, 0, 0, 0, 0, 0, 0, 0, 0, 0, 0, 0, 0, 0, 0, 0, 0, 0, 0, 0, 0, 0, 0, 0, 0, 0, 0, 0, 0, 0, 0, 0, 0, 0, 0, 0, 0, 0, 0, 0, 0, 0, 0, 0, 0, 0, 0, 0, 0, 0, 0, 0, 0, 0, 0, 0, 0, 0, 0, 0, 0, 0, 0, 0, 0, 0, 0, 0, 0, 0, 0, 0, 0, 0, 0, 0, 0, 0, 0, 0, 0, 0, 0, 0, 0, 0, 0, 0, 0, 0, 0, 0, 0, 0, 0, 0, 0, 0, 0, 0, 0, 0, 0, 0, 0, 0, 0, 0, 0, 0, 0, 0, 0, 0, 0, 0, 0, 0, 0, 0, 0, 0, 0, 0, 0, 0, 0, 0, 0, 0, 0, 0, 0, 0, 0, 0, 0, 0, 0, 0, 0, 0, 0, 0, 0, 0, 0, 0, 0, 0, 0, 0, 0, 0, 0, 0, 0, 0, 0, 0, 0, 0, 0, 0, 0, 0, 0, 0, 0, 0, 0, 0, 0, 0, 0, 0, 0, 0, 0, 0, 0, 0, 0, 0, 0, 0, 0, 0, 0, 0, 0, 0, 0, 0, 0, 0, 0, 0, 0, 0, 0, 0, 0, 0, 0, 0, 0, 0, 0, 0, 0, 0, 0, 0, 0, 0, 0, 0, 0, 0, 0, 0, 0, 0, 0, 0, 0, 0, 0, 0, 0, 0, 0, 0, 0, 0, 0, 0, 0, 0, 0, 0, 0, 0, 0, 0, 0, 0, 0, 0, 0, 0, 0, 0, 0, 0, 0, 0, 0, 0, 0, 0, 0, 0, 0, 0, 0, 0, 0, 0, 0, 0, 0, 0, 0, 0, 0, 0, 0, 0, 0, 0, 0, 0, 0, 0, 0, 0, 0, 0, 0, 0, 0, 0, 0, 0, 0, 0, 0, 0, 0, 0, 0, 0, 0, 0, 0, 0, 0, 0, 0, 0, 0, 0, 0, 0, 0, 0, 0, 0, 0, 0, 0, 0, 0, 0, 0, 0, 0, 0, 0, 0, 0, 0, 0, 0, 0, 0, 0, 0, 0, 0, 0, 0, 0, 0, 0, 0, 0, 0, 0, 0, 0, 0, 0, 0, 0, 0, 0, 0, 0, 0, 0, 0, 0, 0, 0, 0, 0, 0, 0, 0, 0, 0, 0, 0, 0, 0, 0, 0, 0, 0, 0, 0, 0, 0, 0, 0, 0, 0, 0, 0, 0, 0, 0, 0, 0, 0, 0, 0, 0, 0, 0, 0, 0, 0, 0, 0, 0, 0, 0, 0, 0, 0, 0, 0, 0, 0, 0, 0, 0, 0, 0, 0, 0, 0, 0, 0, 0, 0, 0, 0, 0, 0, 0, 0, 0, 0, 0, 0, 0, 0, 0, 0, 0, 0, 0, 0, 0, 0, 0, 0, 0, 0, 0, 0, 0, 0, 0, 0, 0, 0, 0, 0, 0, 0, 0, 0, 0, 0, 0, 0, 0, 0, 0, 0, 0, 0, 0, 0, 0, 0, 0, 0, 0, 0, 0, 0, 0, 0, 0, 0, 0, 0, 0, 0, 0, 0, 0, 0, 0, 0, 0, 0, 0, 0, 0, 0, 0, 0, 0, 0, 0, 0, 0, 0, 0, 0, 0, 0, 0, 0, 0, 0, 0, 0, 0, 0, 0, 0, 0, 0, 0, 0, 0, 0, 0, 0, 0, 0, 0, 0, 0, 0, 0, 0, 0, 0, 0, 0, 0, 0, 0, 0, 0, 0, 0, 0, 0, 0, 0, 0, 0, 0, 0, 0, 0, 0, 0, 0, 0, 0, 0, 0, 0, 0, 0, 0, 0, 0, 0, 0, 0], \"x0\": \" \", \"xaxis\": \"x\", \"y\": [2, 3, 2, 4, 1, 3, 3, 3, 2, 3, 3, 4, 1, 2, 4, 4, 4, 3, 2, 4, 3, 2, 4, 1, 4, 4, 3, 3, 4, 1, 1, 4, 1, 3, 4, 3, 2, 4, 4, 1, 1, 4, 4, 1, 1, 4, 3, 4, 4, 3, 1, 3, 3, 2, 1, 1, 3, 2, 2, 2, 4, 4, 1, 1, 3, 2, 4, 3, 4, 4, 2, 4, 1, 4, 4, 2, 4, 2, 1, 3, 3, 3, 3, 3, 2, 1, 3, 4, 4, 2, 4, 4, 1, 4, 3, 2, 4, 1, 4, 4, 4, 3, 2, 3, 2, 4, 1, 3, 4, 3, 3, 2, 3, 3, 4, 4, 3, 3, 4, 1, 4, 1, 1, 2, 2, 2, 3, 2, 4, 3, 3, 2, 4, 3, 4, 2, 4, 4, 3, 2, 3, 4, 4, 3, 2, 2, 1, 1, 1, 4, 1, 4, 4, 2, 3, 1, 2, 3, 2, 3, 2, 3, 2, 4, 4, 1, 2, 3, 3, 4, 1, 4, 3, 4, 2, 4, 4, 1, 3, 3, 2, 4, 4, 1, 2, 2, 4, 3, 3, 4, 4, 4, 3, 4, 4, 3, 4, 4, 3, 2, 3, 4, 1, 4, 4, 3, 4, 1, 1, 3, 3, 4, 1, 4, 3, 1, 3, 4, 2, 4, 1, 2, 2, 4, 1, 4, 4, 1, 4, 4, 3, 4, 2, 1, 2, 2, 3, 3, 4, 4, 1, 4, 4, 4, 1, 2, 2, 4, 2, 2, 4, 2, 2, 3, 1, 4, 4, 2, 3, 2, 3, 4, 1, 1, 4, 2, 1, 4, 3, 2, 2, 3, 4, 4, 4, 3, 4, 4, 3, 3, 2, 3, 1, 4, 4, 4, 3, 2, 4, 4, 4, 2, 2, 4, 2, 3, 4, 3, 3, 2, 3, 1, 3, 3, 4, 4, 4, 3, 3, 4, 1, 3, 4, 2, 4, 2, 2, 4, 3, 4, 3, 4, 3, 2, 2, 3, 1, 2, 1, 2, 2, 3, 1, 3, 1, 4, 3, 4, 3, 1, 3, 1, 3, 1, 1, 3, 4, 4, 3, 4, 1, 3, 4, 4, 3, 4, 4, 3, 1, 4, 3, 4, 1, 4, 3, 3, 3, 3, 4, 2, 2, 3, 3, 4, 4, 2, 4, 3, 3, 3, 4, 1, 2, 4, 3, 4, 1, 3, 3, 3, 4, 4, 3, 1, 2, 1, 4, 3, 2, 3, 4, 2, 2, 2, 3, 4, 4, 4, 3, 3, 2, 4, 4, 1, 3, 1, 3, 3, 3, 4, 3, 3, 4, 3, 1, 4, 4, 3, 3, 4, 4, 2, 2, 4, 3, 1, 2, 4, 4, 2, 4, 4, 3, 2, 3, 4, 4, 1, 4, 1, 1, 3, 4, 1, 1, 3, 2, 1, 3, 3, 3, 4, 3, 4, 3, 1, 2, 4, 4, 1, 2, 4, 1, 4, 3, 1, 1, 4, 3, 3, 4, 1, 4, 4, 3, 4, 1, 4, 1, 1, 1, 4, 3, 2, 1, 4, 2, 3, 3, 3, 4, 2, 3, 3, 4, 2, 3, 3, 4, 3, 2, 1, 4, 1, 4, 3, 2, 4, 4, 3, 2, 1, 1, 1, 4, 4, 4, 4, 1, 3, 4, 3, 4, 4, 4, 4, 1, 1, 3, 4, 1, 1, 4, 2, 2, 4, 4, 4, 2, 4, 4, 4, 4, 2, 1, 4, 2, 4, 1, 4, 2, 4, 4, 3, 3, 2, 3, 1, 2, 3, 4, 2, 3, 3, 4, 1, 2, 2, 1, 1, 3, 4, 2, 1, 4, 2, 4, 3, 4, 3, 3, 4, 4, 3, 3, 4, 3, 4, 4, 4, 2, 3, 2, 1, 4, 3, 3, 3, 3, 1, 4, 3, 3, 1, 4, 1, 3, 3, 3, 4, 4, 4, 3, 4, 4, 2, 3, 4, 4, 3, 1, 4, 4, 3, 4, 4, 2, 2, 3, 2, 3, 3, 2, 1, 3, 4, 3, 3, 4, 1, 4, 1, 1, 1, 3, 3, 4, 3, 2, 3, 4, 3, 4, 4, 1, 2, 4, 4, 3, 2, 3, 4, 2, 3, 2, 1, 3, 2, 2, 4, 4, 2, 4, 2, 3, 2, 4, 4, 3, 3, 4, 4, 3, 3, 3, 3, 1, 3, 2, 4, 3, 4, 2, 1, 4, 1, 1, 4, 1, 3, 4, 3, 3, 4, 1, 3, 3, 1, 2, 1, 1, 2, 1, 3, 3, 3, 4, 4, 4, 1, 4, 2, 3, 1, 4, 2, 4, 2, 1, 4, 1, 3, 4, 4, 4, 1, 1, 4, 4, 3, 2, 2, 3, 4, 4, 4, 3, 2, 3, 4, 3, 4, 2, 2, 1, 2, 4, 2, 3, 1, 2, 3, 2, 4, 2, 4, 3, 3, 1, 2, 4, 2, 2, 3, 4, 3, 1, 4, 1, 1, 3, 3, 2, 3, 3, 2, 3, 4, 4, 1, 3, 2, 1, 1, 4, 2, 1, 4, 4, 2, 4, 4, 4, 2, 3, 3, 3, 3, 4, 1, 4, 2, 4, 3, 4, 2, 3, 3, 3, 3, 4, 4, 1, 1, 3, 4, 4, 1, 1, 4, 1, 4, 2, 1, 2, 1, 1, 4, 1, 4, 3, 1, 3, 3, 4, 2, 3, 3, 4, 1, 2, 4, 1, 2, 1, 3, 2, 3, 3, 2, 1, 1, 3, 4, 3, 3, 3, 2, 1, 3, 2, 3, 3, 3, 3, 2, 3, 3, 1, 1, 2, 2, 3, 4, 4, 1, 2, 2, 2, 3, 3, 4, 3, 2, 4, 1, 2, 4, 4, 1, 3, 4, 1, 4, 2, 3, 2, 4, 3, 3, 1, 3, 1, 2, 1, 1, 4, 4, 4, 4, 2, 2, 3, 1, 3, 3, 4, 3, 3, 1, 4, 3, 3, 1, 2, 4, 1, 3, 3, 4, 4, 2, 1, 1, 1, 3, 4, 1, 1, 1, 1, 1, 4, 3, 3, 3, 3, 3, 3, 4, 3, 2, 4, 4, 4, 4, 3, 4, 3, 1, 3, 2, 2, 1, 3, 2, 2, 3, 3, 1, 3, 3, 4, 2, 4, 2, 4, 1, 2, 2, 3, 3, 1, 4, 3, 4, 3, 4, 4, 2, 4, 4, 2, 4, 4, 4, 4, 4, 3, 3, 3, 4, 3, 3, 2, 3, 3, 2, 1, 1, 2, 3, 4, 2, 4, 2, 4, 4, 3, 2, 3, 1, 4, 3, 4, 3, 1, 4, 2, 4, 2, 1, 3, 2, 4, 2, 1, 2, 1, 3, 3, 4, 4, 3, 4, 3, 2, 4, 1, 2, 1, 4, 3, 2, 1, 1, 4, 2, 4, 3, 2, 3, 3, 4, 3, 2, 3, 2, 1, 4, 1, 1, 4, 4, 3, 3, 3, 2, 4, 4, 4, 4, 3, 3, 4, 4, 3, 3, 1, 3, 2, 3, 2, 1, 4, 4, 2, 3, 3, 4, 1, 1, 2, 4, 4, 1, 3, 3, 4, 1, 2, 2, 1, 4, 4, 3, 4, 3, 3, 4, 3, 2, 4, 2, 1, 1, 2, 4, 4, 4, 4, 1, 3, 1, 2, 4, 3, 1, 1, 4, 1, 1, 4, 4, 4, 3, 3, 3, 2, 2, 4, 1, 3, 3, 1, 3, 4, 3, 2, 2, 2, 3, 3, 3, 2, 3, 3, 1, 4, 2, 3, 3, 3, 4, 2, 4, 2, 4, 3, 4, 4, 3, 4, 4, 1, 4, 4, 2, 3, 3, 2, 3, 4, 2, 1, 4, 4, 4, 3, 3, 3, 3, 4, 2, 1, 4, 1, 3, 4, 1, 2, 2, 3], \"y0\": \" \", \"yaxis\": \"y\"}],\n",
              "                        {\"boxmode\": \"group\", \"legend\": {\"tracegroupgap\": 0}, \"margin\": {\"t\": 60}, \"template\": {\"data\": {\"bar\": [{\"error_x\": {\"color\": \"#2a3f5f\"}, \"error_y\": {\"color\": \"#2a3f5f\"}, \"marker\": {\"line\": {\"color\": \"#E5ECF6\", \"width\": 0.5}}, \"type\": \"bar\"}], \"barpolar\": [{\"marker\": {\"line\": {\"color\": \"#E5ECF6\", \"width\": 0.5}}, \"type\": \"barpolar\"}], \"carpet\": [{\"aaxis\": {\"endlinecolor\": \"#2a3f5f\", \"gridcolor\": \"white\", \"linecolor\": \"white\", \"minorgridcolor\": \"white\", \"startlinecolor\": \"#2a3f5f\"}, \"baxis\": {\"endlinecolor\": \"#2a3f5f\", \"gridcolor\": \"white\", \"linecolor\": \"white\", \"minorgridcolor\": \"white\", \"startlinecolor\": \"#2a3f5f\"}, \"type\": \"carpet\"}], \"choropleth\": [{\"colorbar\": {\"outlinewidth\": 0, \"ticks\": \"\"}, \"type\": \"choropleth\"}], \"contour\": [{\"colorbar\": {\"outlinewidth\": 0, \"ticks\": \"\"}, \"colorscale\": [[0.0, \"#0d0887\"], [0.1111111111111111, \"#46039f\"], [0.2222222222222222, \"#7201a8\"], [0.3333333333333333, \"#9c179e\"], [0.4444444444444444, \"#bd3786\"], [0.5555555555555556, \"#d8576b\"], [0.6666666666666666, \"#ed7953\"], [0.7777777777777778, \"#fb9f3a\"], [0.8888888888888888, \"#fdca26\"], [1.0, \"#f0f921\"]], \"type\": \"contour\"}], \"contourcarpet\": [{\"colorbar\": {\"outlinewidth\": 0, \"ticks\": \"\"}, \"type\": \"contourcarpet\"}], \"heatmap\": [{\"colorbar\": {\"outlinewidth\": 0, \"ticks\": \"\"}, \"colorscale\": [[0.0, \"#0d0887\"], [0.1111111111111111, \"#46039f\"], [0.2222222222222222, \"#7201a8\"], [0.3333333333333333, \"#9c179e\"], [0.4444444444444444, \"#bd3786\"], [0.5555555555555556, \"#d8576b\"], [0.6666666666666666, \"#ed7953\"], [0.7777777777777778, \"#fb9f3a\"], [0.8888888888888888, \"#fdca26\"], [1.0, \"#f0f921\"]], \"type\": \"heatmap\"}], \"heatmapgl\": [{\"colorbar\": {\"outlinewidth\": 0, \"ticks\": \"\"}, \"colorscale\": [[0.0, \"#0d0887\"], [0.1111111111111111, \"#46039f\"], [0.2222222222222222, \"#7201a8\"], [0.3333333333333333, \"#9c179e\"], [0.4444444444444444, \"#bd3786\"], [0.5555555555555556, \"#d8576b\"], [0.6666666666666666, \"#ed7953\"], [0.7777777777777778, \"#fb9f3a\"], [0.8888888888888888, \"#fdca26\"], [1.0, \"#f0f921\"]], \"type\": \"heatmapgl\"}], \"histogram\": [{\"marker\": {\"colorbar\": {\"outlinewidth\": 0, \"ticks\": \"\"}}, \"type\": \"histogram\"}], \"histogram2d\": [{\"colorbar\": {\"outlinewidth\": 0, \"ticks\": \"\"}, \"colorscale\": [[0.0, \"#0d0887\"], [0.1111111111111111, \"#46039f\"], [0.2222222222222222, \"#7201a8\"], [0.3333333333333333, \"#9c179e\"], [0.4444444444444444, \"#bd3786\"], [0.5555555555555556, \"#d8576b\"], [0.6666666666666666, \"#ed7953\"], [0.7777777777777778, \"#fb9f3a\"], [0.8888888888888888, \"#fdca26\"], [1.0, \"#f0f921\"]], \"type\": \"histogram2d\"}], \"histogram2dcontour\": [{\"colorbar\": {\"outlinewidth\": 0, \"ticks\": \"\"}, \"colorscale\": [[0.0, \"#0d0887\"], [0.1111111111111111, \"#46039f\"], [0.2222222222222222, \"#7201a8\"], [0.3333333333333333, \"#9c179e\"], [0.4444444444444444, \"#bd3786\"], [0.5555555555555556, \"#d8576b\"], [0.6666666666666666, \"#ed7953\"], [0.7777777777777778, \"#fb9f3a\"], [0.8888888888888888, \"#fdca26\"], [1.0, \"#f0f921\"]], \"type\": \"histogram2dcontour\"}], \"mesh3d\": [{\"colorbar\": {\"outlinewidth\": 0, \"ticks\": \"\"}, \"type\": \"mesh3d\"}], \"parcoords\": [{\"line\": {\"colorbar\": {\"outlinewidth\": 0, \"ticks\": \"\"}}, \"type\": \"parcoords\"}], \"pie\": [{\"automargin\": true, \"type\": \"pie\"}], \"scatter\": [{\"marker\": {\"colorbar\": {\"outlinewidth\": 0, \"ticks\": \"\"}}, \"type\": \"scatter\"}], \"scatter3d\": [{\"line\": {\"colorbar\": {\"outlinewidth\": 0, \"ticks\": \"\"}}, \"marker\": {\"colorbar\": {\"outlinewidth\": 0, \"ticks\": \"\"}}, \"type\": \"scatter3d\"}], \"scattercarpet\": [{\"marker\": {\"colorbar\": {\"outlinewidth\": 0, \"ticks\": \"\"}}, \"type\": \"scattercarpet\"}], \"scattergeo\": [{\"marker\": {\"colorbar\": {\"outlinewidth\": 0, \"ticks\": \"\"}}, \"type\": \"scattergeo\"}], \"scattergl\": [{\"marker\": {\"colorbar\": {\"outlinewidth\": 0, \"ticks\": \"\"}}, \"type\": \"scattergl\"}], \"scattermapbox\": [{\"marker\": {\"colorbar\": {\"outlinewidth\": 0, \"ticks\": \"\"}}, \"type\": \"scattermapbox\"}], \"scatterpolar\": [{\"marker\": {\"colorbar\": {\"outlinewidth\": 0, \"ticks\": \"\"}}, \"type\": \"scatterpolar\"}], \"scatterpolargl\": [{\"marker\": {\"colorbar\": {\"outlinewidth\": 0, \"ticks\": \"\"}}, \"type\": \"scatterpolargl\"}], \"scatterternary\": [{\"marker\": {\"colorbar\": {\"outlinewidth\": 0, \"ticks\": \"\"}}, \"type\": \"scatterternary\"}], \"surface\": [{\"colorbar\": {\"outlinewidth\": 0, \"ticks\": \"\"}, \"colorscale\": [[0.0, \"#0d0887\"], [0.1111111111111111, \"#46039f\"], [0.2222222222222222, \"#7201a8\"], [0.3333333333333333, \"#9c179e\"], [0.4444444444444444, \"#bd3786\"], [0.5555555555555556, \"#d8576b\"], [0.6666666666666666, \"#ed7953\"], [0.7777777777777778, \"#fb9f3a\"], [0.8888888888888888, \"#fdca26\"], [1.0, \"#f0f921\"]], \"type\": \"surface\"}], \"table\": [{\"cells\": {\"fill\": {\"color\": \"#EBF0F8\"}, \"line\": {\"color\": \"white\"}}, \"header\": {\"fill\": {\"color\": \"#C8D4E3\"}, \"line\": {\"color\": \"white\"}}, \"type\": \"table\"}]}, \"layout\": {\"annotationdefaults\": {\"arrowcolor\": \"#2a3f5f\", \"arrowhead\": 0, \"arrowwidth\": 1}, \"coloraxis\": {\"colorbar\": {\"outlinewidth\": 0, \"ticks\": \"\"}}, \"colorscale\": {\"diverging\": [[0, \"#8e0152\"], [0.1, \"#c51b7d\"], [0.2, \"#de77ae\"], [0.3, \"#f1b6da\"], [0.4, \"#fde0ef\"], [0.5, \"#f7f7f7\"], [0.6, \"#e6f5d0\"], [0.7, \"#b8e186\"], [0.8, \"#7fbc41\"], [0.9, \"#4d9221\"], [1, \"#276419\"]], \"sequential\": [[0.0, \"#0d0887\"], [0.1111111111111111, \"#46039f\"], [0.2222222222222222, \"#7201a8\"], [0.3333333333333333, \"#9c179e\"], [0.4444444444444444, \"#bd3786\"], [0.5555555555555556, \"#d8576b\"], [0.6666666666666666, \"#ed7953\"], [0.7777777777777778, \"#fb9f3a\"], [0.8888888888888888, \"#fdca26\"], [1.0, \"#f0f921\"]], \"sequentialminus\": [[0.0, \"#0d0887\"], [0.1111111111111111, \"#46039f\"], [0.2222222222222222, \"#7201a8\"], [0.3333333333333333, \"#9c179e\"], [0.4444444444444444, \"#bd3786\"], [0.5555555555555556, \"#d8576b\"], [0.6666666666666666, \"#ed7953\"], [0.7777777777777778, \"#fb9f3a\"], [0.8888888888888888, \"#fdca26\"], [1.0, \"#f0f921\"]]}, \"colorway\": [\"#636efa\", \"#EF553B\", \"#00cc96\", \"#ab63fa\", \"#FFA15A\", \"#19d3f3\", \"#FF6692\", \"#B6E880\", \"#FF97FF\", \"#FECB52\"], \"font\": {\"color\": \"#2a3f5f\"}, \"geo\": {\"bgcolor\": \"white\", \"lakecolor\": \"white\", \"landcolor\": \"#E5ECF6\", \"showlakes\": true, \"showland\": true, \"subunitcolor\": \"white\"}, \"hoverlabel\": {\"align\": \"left\"}, \"hovermode\": \"closest\", \"mapbox\": {\"style\": \"light\"}, \"paper_bgcolor\": \"white\", \"plot_bgcolor\": \"#E5ECF6\", \"polar\": {\"angularaxis\": {\"gridcolor\": \"white\", \"linecolor\": \"white\", \"ticks\": \"\"}, \"bgcolor\": \"#E5ECF6\", \"radialaxis\": {\"gridcolor\": \"white\", \"linecolor\": \"white\", \"ticks\": \"\"}}, \"scene\": {\"xaxis\": {\"backgroundcolor\": \"#E5ECF6\", \"gridcolor\": \"white\", \"gridwidth\": 2, \"linecolor\": \"white\", \"showbackground\": true, \"ticks\": \"\", \"zerolinecolor\": \"white\"}, \"yaxis\": {\"backgroundcolor\": \"#E5ECF6\", \"gridcolor\": \"white\", \"gridwidth\": 2, \"linecolor\": \"white\", \"showbackground\": true, \"ticks\": \"\", \"zerolinecolor\": \"white\"}, \"zaxis\": {\"backgroundcolor\": \"#E5ECF6\", \"gridcolor\": \"white\", \"gridwidth\": 2, \"linecolor\": \"white\", \"showbackground\": true, \"ticks\": \"\", \"zerolinecolor\": \"white\"}}, \"shapedefaults\": {\"line\": {\"color\": \"#2a3f5f\"}}, \"ternary\": {\"aaxis\": {\"gridcolor\": \"white\", \"linecolor\": \"white\", \"ticks\": \"\"}, \"baxis\": {\"gridcolor\": \"white\", \"linecolor\": \"white\", \"ticks\": \"\"}, \"bgcolor\": \"#E5ECF6\", \"caxis\": {\"gridcolor\": \"white\", \"linecolor\": \"white\", \"ticks\": \"\"}}, \"title\": {\"x\": 0.05}, \"xaxis\": {\"automargin\": true, \"gridcolor\": \"white\", \"linecolor\": \"white\", \"ticks\": \"\", \"title\": {\"standoff\": 15}, \"zerolinecolor\": \"white\", \"zerolinewidth\": 2}, \"yaxis\": {\"automargin\": true, \"gridcolor\": \"white\", \"linecolor\": \"white\", \"ticks\": \"\", \"title\": {\"standoff\": 15}, \"zerolinecolor\": \"white\", \"zerolinewidth\": 2}}}, \"xaxis\": {\"anchor\": \"y\", \"categoryarray\": [1, 0], \"categoryorder\": \"array\", \"domain\": [0.0, 1.0], \"title\": {\"text\": \"Attrition\"}}, \"yaxis\": {\"anchor\": \"x\", \"domain\": [0.0, 1.0], \"title\": {\"text\": \"JobSatisfaction\"}}},\n",
              "                        {\"responsive\": true}\n",
              "                    ).then(function(){\n",
              "                            \n",
              "var gd = document.getElementById('071240fb-150b-461e-bfe3-c2b19511cbe4');\n",
              "var x = new MutationObserver(function (mutations, observer) {{\n",
              "        var display = window.getComputedStyle(gd).display;\n",
              "        if (!display || display === 'none') {{\n",
              "            console.log([gd, 'removed!']);\n",
              "            Plotly.purge(gd);\n",
              "            observer.disconnect();\n",
              "        }}\n",
              "}});\n",
              "\n",
              "// Listen for the removal of the full notebook cells\n",
              "var notebookContainer = gd.closest('#notebook-container');\n",
              "if (notebookContainer) {{\n",
              "    x.observe(notebookContainer, {childList: true});\n",
              "}}\n",
              "\n",
              "// Listen for the clearing of the current output cell\n",
              "var outputEl = gd.closest('.output');\n",
              "if (outputEl) {{\n",
              "    x.observe(outputEl, {childList: true});\n",
              "}}\n",
              "\n",
              "                        })\n",
              "                };\n",
              "                \n",
              "            </script>\n",
              "        </div>\n",
              "</body>\n",
              "</html>"
            ]
          },
          "metadata": {
            "tags": []
          }
        }
      ]
    },
    {
      "cell_type": "markdown",
      "metadata": {
        "id": "cPn5tS9b446f"
      },
      "source": [
        "There are several columns that have the same values and have no role or importance, so they will be deleted and dispensed with"
      ]
    },
    {
      "cell_type": "code",
      "metadata": {
        "colab": {
          "base_uri": "https://localhost:8080/"
        },
        "id": "hEEbWtGO4eQx",
        "outputId": "b09f6c2a-f347-43ae-e51e-9160f468e34f"
      },
      "source": [
        "HrData.drop(columns = [\"EmployeeCount\", \"Over18\", \"StandardHours\", \"EmployeeNumber\", \"MonthlyRate\", \"DailyRate\", \"HourlyRate\"], inplace = True)\n",
        "HrData.shape"
      ],
      "execution_count": 24,
      "outputs": [
        {
          "output_type": "execute_result",
          "data": {
            "text/plain": [
              "(1470, 28)"
            ]
          },
          "metadata": {
            "tags": []
          },
          "execution_count": 24
        }
      ]
    },
    {
      "cell_type": "code",
      "metadata": {
        "colab": {
          "base_uri": "https://localhost:8080/",
          "height": 309
        },
        "id": "CEZ5hYh75AJ6",
        "outputId": "0706cd74-293c-485a-e9f3-9e4c575574a6"
      },
      "source": [
        "HrData.head()"
      ],
      "execution_count": 25,
      "outputs": [
        {
          "output_type": "execute_result",
          "data": {
            "text/html": [
              "<div>\n",
              "<style scoped>\n",
              "    .dataframe tbody tr th:only-of-type {\n",
              "        vertical-align: middle;\n",
              "    }\n",
              "\n",
              "    .dataframe tbody tr th {\n",
              "        vertical-align: top;\n",
              "    }\n",
              "\n",
              "    .dataframe thead th {\n",
              "        text-align: right;\n",
              "    }\n",
              "</style>\n",
              "<table border=\"1\" class=\"dataframe\">\n",
              "  <thead>\n",
              "    <tr style=\"text-align: right;\">\n",
              "      <th></th>\n",
              "      <th>Age</th>\n",
              "      <th>Attrition</th>\n",
              "      <th>BusinessTravel</th>\n",
              "      <th>Department</th>\n",
              "      <th>DistanceFromHome</th>\n",
              "      <th>Education</th>\n",
              "      <th>EducationField</th>\n",
              "      <th>EnvironmentSatisfaction</th>\n",
              "      <th>Gender</th>\n",
              "      <th>JobInvolvement</th>\n",
              "      <th>JobLevel</th>\n",
              "      <th>JobRole</th>\n",
              "      <th>JobSatisfaction</th>\n",
              "      <th>MaritalStatus</th>\n",
              "      <th>MonthlyIncome</th>\n",
              "      <th>NumCompaniesWorked</th>\n",
              "      <th>OverTime</th>\n",
              "      <th>PercentSalaryHike</th>\n",
              "      <th>PerformanceRating</th>\n",
              "      <th>RelationshipSatisfaction</th>\n",
              "      <th>StockOptionLevel</th>\n",
              "      <th>TotalWorkingYears</th>\n",
              "      <th>TrainingTimesLastYear</th>\n",
              "      <th>WorkLifeBalance</th>\n",
              "      <th>YearsAtCompany</th>\n",
              "      <th>YearsInCurrentRole</th>\n",
              "      <th>YearsSinceLastPromotion</th>\n",
              "      <th>YearsWithCurrManager</th>\n",
              "    </tr>\n",
              "  </thead>\n",
              "  <tbody>\n",
              "    <tr>\n",
              "      <th>0</th>\n",
              "      <td>41</td>\n",
              "      <td>1</td>\n",
              "      <td>Travel_Rarely</td>\n",
              "      <td>Sales</td>\n",
              "      <td>1</td>\n",
              "      <td>2</td>\n",
              "      <td>Life Sciences</td>\n",
              "      <td>2</td>\n",
              "      <td>0</td>\n",
              "      <td>3</td>\n",
              "      <td>2</td>\n",
              "      <td>Sales Executive</td>\n",
              "      <td>4</td>\n",
              "      <td>Single</td>\n",
              "      <td>5993</td>\n",
              "      <td>8</td>\n",
              "      <td>1</td>\n",
              "      <td>11</td>\n",
              "      <td>3</td>\n",
              "      <td>1</td>\n",
              "      <td>0</td>\n",
              "      <td>8</td>\n",
              "      <td>0</td>\n",
              "      <td>1</td>\n",
              "      <td>6</td>\n",
              "      <td>4</td>\n",
              "      <td>0</td>\n",
              "      <td>5</td>\n",
              "    </tr>\n",
              "    <tr>\n",
              "      <th>1</th>\n",
              "      <td>49</td>\n",
              "      <td>0</td>\n",
              "      <td>Travel_Frequently</td>\n",
              "      <td>Research &amp; Development</td>\n",
              "      <td>8</td>\n",
              "      <td>1</td>\n",
              "      <td>Life Sciences</td>\n",
              "      <td>3</td>\n",
              "      <td>1</td>\n",
              "      <td>2</td>\n",
              "      <td>2</td>\n",
              "      <td>Research Scientist</td>\n",
              "      <td>2</td>\n",
              "      <td>Married</td>\n",
              "      <td>5130</td>\n",
              "      <td>1</td>\n",
              "      <td>0</td>\n",
              "      <td>23</td>\n",
              "      <td>4</td>\n",
              "      <td>4</td>\n",
              "      <td>1</td>\n",
              "      <td>10</td>\n",
              "      <td>3</td>\n",
              "      <td>3</td>\n",
              "      <td>10</td>\n",
              "      <td>7</td>\n",
              "      <td>1</td>\n",
              "      <td>7</td>\n",
              "    </tr>\n",
              "    <tr>\n",
              "      <th>2</th>\n",
              "      <td>37</td>\n",
              "      <td>1</td>\n",
              "      <td>Travel_Rarely</td>\n",
              "      <td>Research &amp; Development</td>\n",
              "      <td>2</td>\n",
              "      <td>2</td>\n",
              "      <td>Other</td>\n",
              "      <td>4</td>\n",
              "      <td>1</td>\n",
              "      <td>2</td>\n",
              "      <td>1</td>\n",
              "      <td>Laboratory Technician</td>\n",
              "      <td>3</td>\n",
              "      <td>Single</td>\n",
              "      <td>2090</td>\n",
              "      <td>6</td>\n",
              "      <td>1</td>\n",
              "      <td>15</td>\n",
              "      <td>3</td>\n",
              "      <td>2</td>\n",
              "      <td>0</td>\n",
              "      <td>7</td>\n",
              "      <td>3</td>\n",
              "      <td>3</td>\n",
              "      <td>0</td>\n",
              "      <td>0</td>\n",
              "      <td>0</td>\n",
              "      <td>0</td>\n",
              "    </tr>\n",
              "    <tr>\n",
              "      <th>3</th>\n",
              "      <td>33</td>\n",
              "      <td>0</td>\n",
              "      <td>Travel_Frequently</td>\n",
              "      <td>Research &amp; Development</td>\n",
              "      <td>3</td>\n",
              "      <td>4</td>\n",
              "      <td>Life Sciences</td>\n",
              "      <td>4</td>\n",
              "      <td>0</td>\n",
              "      <td>3</td>\n",
              "      <td>1</td>\n",
              "      <td>Research Scientist</td>\n",
              "      <td>3</td>\n",
              "      <td>Married</td>\n",
              "      <td>2909</td>\n",
              "      <td>1</td>\n",
              "      <td>1</td>\n",
              "      <td>11</td>\n",
              "      <td>3</td>\n",
              "      <td>3</td>\n",
              "      <td>0</td>\n",
              "      <td>8</td>\n",
              "      <td>3</td>\n",
              "      <td>3</td>\n",
              "      <td>8</td>\n",
              "      <td>7</td>\n",
              "      <td>3</td>\n",
              "      <td>0</td>\n",
              "    </tr>\n",
              "    <tr>\n",
              "      <th>4</th>\n",
              "      <td>27</td>\n",
              "      <td>0</td>\n",
              "      <td>Travel_Rarely</td>\n",
              "      <td>Research &amp; Development</td>\n",
              "      <td>2</td>\n",
              "      <td>1</td>\n",
              "      <td>Medical</td>\n",
              "      <td>1</td>\n",
              "      <td>1</td>\n",
              "      <td>3</td>\n",
              "      <td>1</td>\n",
              "      <td>Laboratory Technician</td>\n",
              "      <td>2</td>\n",
              "      <td>Married</td>\n",
              "      <td>3468</td>\n",
              "      <td>9</td>\n",
              "      <td>0</td>\n",
              "      <td>12</td>\n",
              "      <td>3</td>\n",
              "      <td>4</td>\n",
              "      <td>1</td>\n",
              "      <td>6</td>\n",
              "      <td>3</td>\n",
              "      <td>3</td>\n",
              "      <td>2</td>\n",
              "      <td>2</td>\n",
              "      <td>2</td>\n",
              "      <td>2</td>\n",
              "    </tr>\n",
              "  </tbody>\n",
              "</table>\n",
              "</div>"
            ],
            "text/plain": [
              "   Age  Attrition  ... YearsSinceLastPromotion YearsWithCurrManager\n",
              "0   41          1  ...                       0                    5\n",
              "1   49          0  ...                       1                    7\n",
              "2   37          1  ...                       0                    0\n",
              "3   33          0  ...                       3                    0\n",
              "4   27          0  ...                       2                    2\n",
              "\n",
              "[5 rows x 28 columns]"
            ]
          },
          "metadata": {
            "tags": []
          },
          "execution_count": 25
        }
      ]
    },
    {
      "cell_type": "markdown",
      "metadata": {
        "id": "HSATGwiU5RCG"
      },
      "source": [
        "\n",
        "**Modeling**"
      ]
    },
    {
      "cell_type": "markdown",
      "metadata": {
        "id": "y5s5afz35SiD"
      },
      "source": [
        "\n",
        "First, split the data into training and testing"
      ]
    },
    {
      "cell_type": "code",
      "metadata": {
        "id": "0TD6LURA5WST"
      },
      "source": [
        "X = HrData.iloc[:, [0,2,3,4,5,6,7,8,9,10,11,12,13,14,15,16,17,18,19,20,21,22,23,24,25,26,27]].values\n"
      ],
      "execution_count": 26,
      "outputs": []
    },
    {
      "cell_type": "code",
      "metadata": {
        "id": "Htu9RWq25ZPv"
      },
      "source": [
        "y = HrData.iloc[:, 1].values"
      ],
      "execution_count": 32,
      "outputs": []
    },
    {
      "cell_type": "code",
      "metadata": {
        "id": "V395Dbyk5bDd"
      },
      "source": [
        "X_train, X_test, y_train, y_test = train_test_split(X, y, test_size=0.25, random_state = 0)"
      ],
      "execution_count": 33,
      "outputs": []
    },
    {
      "cell_type": "code",
      "metadata": {
        "id": "J7htbwC45dRb"
      },
      "source": [
        "H = MinMaxScaler()\n",
        "dummies = pd.get_dummies(HrData[HrData.columns.difference([\"Attrition\"])])\n",
        "X = H.fit_transform(dummies)\n",
        "y = HrData[[\"Attrition\"]].values.ravel()\n"
      ],
      "execution_count": 34,
      "outputs": []
    },
    {
      "cell_type": "markdown",
      "metadata": {
        "id": "x-5XhrFw5i5t"
      },
      "source": [
        "Now use a random forest model"
      ]
    },
    {
      "cell_type": "code",
      "metadata": {
        "colab": {
          "base_uri": "https://localhost:8080/"
        },
        "id": "w2zx9o7n5wjV",
        "outputId": "5bb632bc-2820-435f-bb49-ecab4f542371"
      },
      "source": [
        "random_forest_model = RandomForestClassifier(random_state = 0)\n",
        "random_forest_model.fit(X_train, y_train)"
      ],
      "execution_count": 35,
      "outputs": [
        {
          "output_type": "execute_result",
          "data": {
            "text/plain": [
              "RandomForestClassifier(bootstrap=True, ccp_alpha=0.0, class_weight=None,\n",
              "                       criterion='gini', max_depth=None, max_features='auto',\n",
              "                       max_leaf_nodes=None, max_samples=None,\n",
              "                       min_impurity_decrease=0.0, min_impurity_split=None,\n",
              "                       min_samples_leaf=1, min_samples_split=2,\n",
              "                       min_weight_fraction_leaf=0.0, n_estimators=100,\n",
              "                       n_jobs=None, oob_score=False, random_state=0, verbose=0,\n",
              "                       warm_start=False)"
            ]
          },
          "metadata": {
            "tags": []
          },
          "execution_count": 35
        }
      ]
    },
    {
      "cell_type": "code",
      "metadata": {
        "colab": {
          "base_uri": "https://localhost:8080/"
        },
        "id": "7VK7lo4750da",
        "outputId": "790df6c7-6567-4a28-cde9-874037b3fd0c"
      },
      "source": [
        "y_pred = random_forest_model.predict(X_test)\n",
        "print(\"Model accruracy score: {}\".format(accuracy_score(y_test, y_pred)))"
      ],
      "execution_count": 36,
      "outputs": [
        {
          "output_type": "stream",
          "text": [
            "Model accruracy score: 0.8668478260869565\n"
          ],
          "name": "stdout"
        }
      ]
    },
    {
      "cell_type": "code",
      "metadata": {
        "colab": {
          "base_uri": "https://localhost:8080/"
        },
        "id": "fmd5MceV6B_D",
        "outputId": "789d78ab-4a9d-4099-fd99-f4ed9616568c"
      },
      "source": [
        "print(classification_report(y_test, y_pred))"
      ],
      "execution_count": 37,
      "outputs": [
        {
          "output_type": "stream",
          "text": [
            "              precision    recall  f1-score   support\n",
            "\n",
            "           0       0.87      1.00      0.93       310\n",
            "           1       0.91      0.17      0.29        58\n",
            "\n",
            "    accuracy                           0.87       368\n",
            "   macro avg       0.89      0.58      0.61       368\n",
            "weighted avg       0.87      0.87      0.83       368\n",
            "\n"
          ],
          "name": "stdout"
        }
      ]
    },
    {
      "cell_type": "markdown",
      "metadata": {
        "id": "4QtYCK_z665O"
      },
      "source": [
        "\n",
        "**Evaluation**"
      ]
    },
    {
      "cell_type": "markdown",
      "metadata": {
        "id": "NIHTAODc7MXE"
      },
      "source": [
        "As it shows us from Moodle we can say :\n",
        "the model predicts quite well the \"none quite employees\" (92% accuracy) but it have a poor prediction of \"quite employees\" (29% accuracy)."
      ]
    },
    {
      "cell_type": "markdown",
      "metadata": {
        "id": "3-zevSdg7334"
      },
      "source": [
        "**Questions**"
      ]
    },
    {
      "cell_type": "markdown",
      "metadata": {
        "id": "kx5uzIed77U1"
      },
      "source": [
        "*  Is it only the salary that attracts the employee in the work environment?\n",
        "*  Is it possible to have motivating factors for an employee to stay in the organization?\n",
        "*  Is it possible that the director of the organization is not cooperative and understanding that the organization will lose employees?"
      ]
    },
    {
      "cell_type": "markdown",
      "metadata": {
        "id": "6jHd-swo8FFK"
      },
      "source": [
        "**Conclusions**"
      ]
    },
    {
      "cell_type": "markdown",
      "metadata": {
        "id": "E_dDb7BR8jFH"
      },
      "source": [
        "While a non-competitive salary, poor work environment, or poor relationship with the boss may be reasons for terminating a worker, there can be many factors that cause an employee to leave his job other than those mentioned."
      ]
    }
  ]
}