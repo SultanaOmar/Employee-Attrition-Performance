{
  "nbformat": 4,
  "nbformat_minor": 0,
  "metadata": {
    "colab": {
      "name": "Project HR .ipynb",
      "provenance": [],
      "collapsed_sections": [],
      "toc_visible": true
    },
    "kernelspec": {
      "name": "python3",
      "display_name": "Python 3"
    }
  },
  "cells": [
    {
      "cell_type": "code",
      "metadata": {
        "id": "Ndq4PqDBqopV"
      },
      "source": [
        ""
      ],
      "execution_count": null,
      "outputs": []
    },
    {
      "cell_type": "markdown",
      "metadata": {
        "id": "4R4DvK92q8qx"
      },
      "source": [
        "## **Employee Attrition & Performance**\n",
        "\n",
        "---\n",
        "\n",
        "This project is part of Udacity's Data Scientist Nanodegree program In this project, I am asked to pick a dataset and answer any 3 questions from the data. The project will follow CRISP-DM process (Cross Industry Process for Data Mining):\n",
        "* Business understanding\n",
        "* Data understanding\n",
        "* Data preparation\n",
        "* Modeling\n",
        "* Evaluation\n",
        "* Deployment\n",
        "\n",
        "\n",
        "\n",
        "\n"
      ]
    },
    {
      "cell_type": "markdown",
      "metadata": {
        "id": "1aGEVtd7vwUG"
      },
      "source": [
        "**Business understanding**\n",
        "\n",
        "\n",
        "---\n",
        "\n",
        "\n"
      ]
    },
    {
      "cell_type": "markdown",
      "metadata": {
        "id": "LHya6W3B89jy"
      },
      "source": [
        "What are the reasons that make the employee resign?\n",
        "\n",
        "The question is very important and important for the owners of companies and organizations, and there are many reasons\n",
        "In the notebook I will discuss three main factors (non-competitive salary, relationship with manager, relationship with co-workers)."
      ]
    },
    {
      "cell_type": "markdown",
      "metadata": {
        "id": "Ng4hmKB0yOFe"
      },
      "source": [
        "**Data understanding**\n",
        "\n",
        "---\n",
        "\n",
        "\n",
        "\n",
        "My data source is kaggle.com , it is 1 dataset only.\n",
        "\n",
        "In the next step, I'll explain what columns are used in my analysis and modelling phase. \n",
        "\n"
      ]
    },
    {
      "cell_type": "markdown",
      "metadata": {
        "id": "JKXb80y9zfcs"
      },
      "source": [
        "**Data preparation**\n",
        "\n",
        "\n",
        "---\n",
        "\n",
        "\n",
        "At this stage, the data will be processed and the type of data will be displayed, and if there are missing values, it will be processed. "
      ]
    },
    {
      "cell_type": "code",
      "metadata": {
        "id": "U4EposyI0qO5"
      },
      "source": [
        "import pandas as pd\n",
        "import numpy as np\n",
        "import matplotlib.pyplot as plt\n",
        "import plotly.express as px\n",
        "from sklearn.model_selection import train_test_split\n",
        "from sklearn.preprocessing import MinMaxScaler\n",
        "from sklearn.ensemble import RandomForestClassifier\n",
        "from sklearn.metrics import accuracy_score\n",
        "from sklearn.metrics import confusion_matrix, classification_report"
      ],
      "execution_count": 1,
      "outputs": []
    },
    {
      "cell_type": "code",
      "metadata": {
        "id": "puAjlP330s50"
      },
      "source": [
        "HrData = pd.read_csv(\"WA_Fn-UseC_-HR-Employee-Attrition.csv\")"
      ],
      "execution_count": 3,
      "outputs": []
    },
    {
      "cell_type": "code",
      "metadata": {
        "colab": {
          "base_uri": "https://localhost:8080/",
          "height": 609
        },
        "id": "g3wYs8Tm0yWR",
        "outputId": "a17c066d-cb5b-49e9-b07f-8119b2b4682d"
      },
      "source": [
        "HrData"
      ],
      "execution_count": 4,
      "outputs": [
        {
          "output_type": "execute_result",
          "data": {
            "text/html": [
              "<div>\n",
              "<style scoped>\n",
              "    .dataframe tbody tr th:only-of-type {\n",
              "        vertical-align: middle;\n",
              "    }\n",
              "\n",
              "    .dataframe tbody tr th {\n",
              "        vertical-align: top;\n",
              "    }\n",
              "\n",
              "    .dataframe thead th {\n",
              "        text-align: right;\n",
              "    }\n",
              "</style>\n",
              "<table border=\"1\" class=\"dataframe\">\n",
              "  <thead>\n",
              "    <tr style=\"text-align: right;\">\n",
              "      <th></th>\n",
              "      <th>Age</th>\n",
              "      <th>Attrition</th>\n",
              "      <th>BusinessTravel</th>\n",
              "      <th>DailyRate</th>\n",
              "      <th>Department</th>\n",
              "      <th>DistanceFromHome</th>\n",
              "      <th>Education</th>\n",
              "      <th>EducationField</th>\n",
              "      <th>EmployeeCount</th>\n",
              "      <th>EmployeeNumber</th>\n",
              "      <th>EnvironmentSatisfaction</th>\n",
              "      <th>Gender</th>\n",
              "      <th>HourlyRate</th>\n",
              "      <th>JobInvolvement</th>\n",
              "      <th>JobLevel</th>\n",
              "      <th>JobRole</th>\n",
              "      <th>JobSatisfaction</th>\n",
              "      <th>MaritalStatus</th>\n",
              "      <th>MonthlyIncome</th>\n",
              "      <th>MonthlyRate</th>\n",
              "      <th>NumCompaniesWorked</th>\n",
              "      <th>Over18</th>\n",
              "      <th>OverTime</th>\n",
              "      <th>PercentSalaryHike</th>\n",
              "      <th>PerformanceRating</th>\n",
              "      <th>RelationshipSatisfaction</th>\n",
              "      <th>StandardHours</th>\n",
              "      <th>StockOptionLevel</th>\n",
              "      <th>TotalWorkingYears</th>\n",
              "      <th>TrainingTimesLastYear</th>\n",
              "      <th>WorkLifeBalance</th>\n",
              "      <th>YearsAtCompany</th>\n",
              "      <th>YearsInCurrentRole</th>\n",
              "      <th>YearsSinceLastPromotion</th>\n",
              "      <th>YearsWithCurrManager</th>\n",
              "    </tr>\n",
              "  </thead>\n",
              "  <tbody>\n",
              "    <tr>\n",
              "      <th>0</th>\n",
              "      <td>41</td>\n",
              "      <td>Yes</td>\n",
              "      <td>Travel_Rarely</td>\n",
              "      <td>1102</td>\n",
              "      <td>Sales</td>\n",
              "      <td>1</td>\n",
              "      <td>2</td>\n",
              "      <td>Life Sciences</td>\n",
              "      <td>1</td>\n",
              "      <td>1</td>\n",
              "      <td>2</td>\n",
              "      <td>Female</td>\n",
              "      <td>94</td>\n",
              "      <td>3</td>\n",
              "      <td>2</td>\n",
              "      <td>Sales Executive</td>\n",
              "      <td>4</td>\n",
              "      <td>Single</td>\n",
              "      <td>5993</td>\n",
              "      <td>19479</td>\n",
              "      <td>8</td>\n",
              "      <td>Y</td>\n",
              "      <td>Yes</td>\n",
              "      <td>11</td>\n",
              "      <td>3</td>\n",
              "      <td>1</td>\n",
              "      <td>80</td>\n",
              "      <td>0</td>\n",
              "      <td>8</td>\n",
              "      <td>0</td>\n",
              "      <td>1</td>\n",
              "      <td>6</td>\n",
              "      <td>4</td>\n",
              "      <td>0</td>\n",
              "      <td>5</td>\n",
              "    </tr>\n",
              "    <tr>\n",
              "      <th>1</th>\n",
              "      <td>49</td>\n",
              "      <td>No</td>\n",
              "      <td>Travel_Frequently</td>\n",
              "      <td>279</td>\n",
              "      <td>Research &amp; Development</td>\n",
              "      <td>8</td>\n",
              "      <td>1</td>\n",
              "      <td>Life Sciences</td>\n",
              "      <td>1</td>\n",
              "      <td>2</td>\n",
              "      <td>3</td>\n",
              "      <td>Male</td>\n",
              "      <td>61</td>\n",
              "      <td>2</td>\n",
              "      <td>2</td>\n",
              "      <td>Research Scientist</td>\n",
              "      <td>2</td>\n",
              "      <td>Married</td>\n",
              "      <td>5130</td>\n",
              "      <td>24907</td>\n",
              "      <td>1</td>\n",
              "      <td>Y</td>\n",
              "      <td>No</td>\n",
              "      <td>23</td>\n",
              "      <td>4</td>\n",
              "      <td>4</td>\n",
              "      <td>80</td>\n",
              "      <td>1</td>\n",
              "      <td>10</td>\n",
              "      <td>3</td>\n",
              "      <td>3</td>\n",
              "      <td>10</td>\n",
              "      <td>7</td>\n",
              "      <td>1</td>\n",
              "      <td>7</td>\n",
              "    </tr>\n",
              "    <tr>\n",
              "      <th>2</th>\n",
              "      <td>37</td>\n",
              "      <td>Yes</td>\n",
              "      <td>Travel_Rarely</td>\n",
              "      <td>1373</td>\n",
              "      <td>Research &amp; Development</td>\n",
              "      <td>2</td>\n",
              "      <td>2</td>\n",
              "      <td>Other</td>\n",
              "      <td>1</td>\n",
              "      <td>4</td>\n",
              "      <td>4</td>\n",
              "      <td>Male</td>\n",
              "      <td>92</td>\n",
              "      <td>2</td>\n",
              "      <td>1</td>\n",
              "      <td>Laboratory Technician</td>\n",
              "      <td>3</td>\n",
              "      <td>Single</td>\n",
              "      <td>2090</td>\n",
              "      <td>2396</td>\n",
              "      <td>6</td>\n",
              "      <td>Y</td>\n",
              "      <td>Yes</td>\n",
              "      <td>15</td>\n",
              "      <td>3</td>\n",
              "      <td>2</td>\n",
              "      <td>80</td>\n",
              "      <td>0</td>\n",
              "      <td>7</td>\n",
              "      <td>3</td>\n",
              "      <td>3</td>\n",
              "      <td>0</td>\n",
              "      <td>0</td>\n",
              "      <td>0</td>\n",
              "      <td>0</td>\n",
              "    </tr>\n",
              "    <tr>\n",
              "      <th>3</th>\n",
              "      <td>33</td>\n",
              "      <td>No</td>\n",
              "      <td>Travel_Frequently</td>\n",
              "      <td>1392</td>\n",
              "      <td>Research &amp; Development</td>\n",
              "      <td>3</td>\n",
              "      <td>4</td>\n",
              "      <td>Life Sciences</td>\n",
              "      <td>1</td>\n",
              "      <td>5</td>\n",
              "      <td>4</td>\n",
              "      <td>Female</td>\n",
              "      <td>56</td>\n",
              "      <td>3</td>\n",
              "      <td>1</td>\n",
              "      <td>Research Scientist</td>\n",
              "      <td>3</td>\n",
              "      <td>Married</td>\n",
              "      <td>2909</td>\n",
              "      <td>23159</td>\n",
              "      <td>1</td>\n",
              "      <td>Y</td>\n",
              "      <td>Yes</td>\n",
              "      <td>11</td>\n",
              "      <td>3</td>\n",
              "      <td>3</td>\n",
              "      <td>80</td>\n",
              "      <td>0</td>\n",
              "      <td>8</td>\n",
              "      <td>3</td>\n",
              "      <td>3</td>\n",
              "      <td>8</td>\n",
              "      <td>7</td>\n",
              "      <td>3</td>\n",
              "      <td>0</td>\n",
              "    </tr>\n",
              "    <tr>\n",
              "      <th>4</th>\n",
              "      <td>27</td>\n",
              "      <td>No</td>\n",
              "      <td>Travel_Rarely</td>\n",
              "      <td>591</td>\n",
              "      <td>Research &amp; Development</td>\n",
              "      <td>2</td>\n",
              "      <td>1</td>\n",
              "      <td>Medical</td>\n",
              "      <td>1</td>\n",
              "      <td>7</td>\n",
              "      <td>1</td>\n",
              "      <td>Male</td>\n",
              "      <td>40</td>\n",
              "      <td>3</td>\n",
              "      <td>1</td>\n",
              "      <td>Laboratory Technician</td>\n",
              "      <td>2</td>\n",
              "      <td>Married</td>\n",
              "      <td>3468</td>\n",
              "      <td>16632</td>\n",
              "      <td>9</td>\n",
              "      <td>Y</td>\n",
              "      <td>No</td>\n",
              "      <td>12</td>\n",
              "      <td>3</td>\n",
              "      <td>4</td>\n",
              "      <td>80</td>\n",
              "      <td>1</td>\n",
              "      <td>6</td>\n",
              "      <td>3</td>\n",
              "      <td>3</td>\n",
              "      <td>2</td>\n",
              "      <td>2</td>\n",
              "      <td>2</td>\n",
              "      <td>2</td>\n",
              "    </tr>\n",
              "    <tr>\n",
              "      <th>...</th>\n",
              "      <td>...</td>\n",
              "      <td>...</td>\n",
              "      <td>...</td>\n",
              "      <td>...</td>\n",
              "      <td>...</td>\n",
              "      <td>...</td>\n",
              "      <td>...</td>\n",
              "      <td>...</td>\n",
              "      <td>...</td>\n",
              "      <td>...</td>\n",
              "      <td>...</td>\n",
              "      <td>...</td>\n",
              "      <td>...</td>\n",
              "      <td>...</td>\n",
              "      <td>...</td>\n",
              "      <td>...</td>\n",
              "      <td>...</td>\n",
              "      <td>...</td>\n",
              "      <td>...</td>\n",
              "      <td>...</td>\n",
              "      <td>...</td>\n",
              "      <td>...</td>\n",
              "      <td>...</td>\n",
              "      <td>...</td>\n",
              "      <td>...</td>\n",
              "      <td>...</td>\n",
              "      <td>...</td>\n",
              "      <td>...</td>\n",
              "      <td>...</td>\n",
              "      <td>...</td>\n",
              "      <td>...</td>\n",
              "      <td>...</td>\n",
              "      <td>...</td>\n",
              "      <td>...</td>\n",
              "      <td>...</td>\n",
              "    </tr>\n",
              "    <tr>\n",
              "      <th>1465</th>\n",
              "      <td>36</td>\n",
              "      <td>No</td>\n",
              "      <td>Travel_Frequently</td>\n",
              "      <td>884</td>\n",
              "      <td>Research &amp; Development</td>\n",
              "      <td>23</td>\n",
              "      <td>2</td>\n",
              "      <td>Medical</td>\n",
              "      <td>1</td>\n",
              "      <td>2061</td>\n",
              "      <td>3</td>\n",
              "      <td>Male</td>\n",
              "      <td>41</td>\n",
              "      <td>4</td>\n",
              "      <td>2</td>\n",
              "      <td>Laboratory Technician</td>\n",
              "      <td>4</td>\n",
              "      <td>Married</td>\n",
              "      <td>2571</td>\n",
              "      <td>12290</td>\n",
              "      <td>4</td>\n",
              "      <td>Y</td>\n",
              "      <td>No</td>\n",
              "      <td>17</td>\n",
              "      <td>3</td>\n",
              "      <td>3</td>\n",
              "      <td>80</td>\n",
              "      <td>1</td>\n",
              "      <td>17</td>\n",
              "      <td>3</td>\n",
              "      <td>3</td>\n",
              "      <td>5</td>\n",
              "      <td>2</td>\n",
              "      <td>0</td>\n",
              "      <td>3</td>\n",
              "    </tr>\n",
              "    <tr>\n",
              "      <th>1466</th>\n",
              "      <td>39</td>\n",
              "      <td>No</td>\n",
              "      <td>Travel_Rarely</td>\n",
              "      <td>613</td>\n",
              "      <td>Research &amp; Development</td>\n",
              "      <td>6</td>\n",
              "      <td>1</td>\n",
              "      <td>Medical</td>\n",
              "      <td>1</td>\n",
              "      <td>2062</td>\n",
              "      <td>4</td>\n",
              "      <td>Male</td>\n",
              "      <td>42</td>\n",
              "      <td>2</td>\n",
              "      <td>3</td>\n",
              "      <td>Healthcare Representative</td>\n",
              "      <td>1</td>\n",
              "      <td>Married</td>\n",
              "      <td>9991</td>\n",
              "      <td>21457</td>\n",
              "      <td>4</td>\n",
              "      <td>Y</td>\n",
              "      <td>No</td>\n",
              "      <td>15</td>\n",
              "      <td>3</td>\n",
              "      <td>1</td>\n",
              "      <td>80</td>\n",
              "      <td>1</td>\n",
              "      <td>9</td>\n",
              "      <td>5</td>\n",
              "      <td>3</td>\n",
              "      <td>7</td>\n",
              "      <td>7</td>\n",
              "      <td>1</td>\n",
              "      <td>7</td>\n",
              "    </tr>\n",
              "    <tr>\n",
              "      <th>1467</th>\n",
              "      <td>27</td>\n",
              "      <td>No</td>\n",
              "      <td>Travel_Rarely</td>\n",
              "      <td>155</td>\n",
              "      <td>Research &amp; Development</td>\n",
              "      <td>4</td>\n",
              "      <td>3</td>\n",
              "      <td>Life Sciences</td>\n",
              "      <td>1</td>\n",
              "      <td>2064</td>\n",
              "      <td>2</td>\n",
              "      <td>Male</td>\n",
              "      <td>87</td>\n",
              "      <td>4</td>\n",
              "      <td>2</td>\n",
              "      <td>Manufacturing Director</td>\n",
              "      <td>2</td>\n",
              "      <td>Married</td>\n",
              "      <td>6142</td>\n",
              "      <td>5174</td>\n",
              "      <td>1</td>\n",
              "      <td>Y</td>\n",
              "      <td>Yes</td>\n",
              "      <td>20</td>\n",
              "      <td>4</td>\n",
              "      <td>2</td>\n",
              "      <td>80</td>\n",
              "      <td>1</td>\n",
              "      <td>6</td>\n",
              "      <td>0</td>\n",
              "      <td>3</td>\n",
              "      <td>6</td>\n",
              "      <td>2</td>\n",
              "      <td>0</td>\n",
              "      <td>3</td>\n",
              "    </tr>\n",
              "    <tr>\n",
              "      <th>1468</th>\n",
              "      <td>49</td>\n",
              "      <td>No</td>\n",
              "      <td>Travel_Frequently</td>\n",
              "      <td>1023</td>\n",
              "      <td>Sales</td>\n",
              "      <td>2</td>\n",
              "      <td>3</td>\n",
              "      <td>Medical</td>\n",
              "      <td>1</td>\n",
              "      <td>2065</td>\n",
              "      <td>4</td>\n",
              "      <td>Male</td>\n",
              "      <td>63</td>\n",
              "      <td>2</td>\n",
              "      <td>2</td>\n",
              "      <td>Sales Executive</td>\n",
              "      <td>2</td>\n",
              "      <td>Married</td>\n",
              "      <td>5390</td>\n",
              "      <td>13243</td>\n",
              "      <td>2</td>\n",
              "      <td>Y</td>\n",
              "      <td>No</td>\n",
              "      <td>14</td>\n",
              "      <td>3</td>\n",
              "      <td>4</td>\n",
              "      <td>80</td>\n",
              "      <td>0</td>\n",
              "      <td>17</td>\n",
              "      <td>3</td>\n",
              "      <td>2</td>\n",
              "      <td>9</td>\n",
              "      <td>6</td>\n",
              "      <td>0</td>\n",
              "      <td>8</td>\n",
              "    </tr>\n",
              "    <tr>\n",
              "      <th>1469</th>\n",
              "      <td>34</td>\n",
              "      <td>No</td>\n",
              "      <td>Travel_Rarely</td>\n",
              "      <td>628</td>\n",
              "      <td>Research &amp; Development</td>\n",
              "      <td>8</td>\n",
              "      <td>3</td>\n",
              "      <td>Medical</td>\n",
              "      <td>1</td>\n",
              "      <td>2068</td>\n",
              "      <td>2</td>\n",
              "      <td>Male</td>\n",
              "      <td>82</td>\n",
              "      <td>4</td>\n",
              "      <td>2</td>\n",
              "      <td>Laboratory Technician</td>\n",
              "      <td>3</td>\n",
              "      <td>Married</td>\n",
              "      <td>4404</td>\n",
              "      <td>10228</td>\n",
              "      <td>2</td>\n",
              "      <td>Y</td>\n",
              "      <td>No</td>\n",
              "      <td>12</td>\n",
              "      <td>3</td>\n",
              "      <td>1</td>\n",
              "      <td>80</td>\n",
              "      <td>0</td>\n",
              "      <td>6</td>\n",
              "      <td>3</td>\n",
              "      <td>4</td>\n",
              "      <td>4</td>\n",
              "      <td>3</td>\n",
              "      <td>1</td>\n",
              "      <td>2</td>\n",
              "    </tr>\n",
              "  </tbody>\n",
              "</table>\n",
              "<p>1470 rows × 35 columns</p>\n",
              "</div>"
            ],
            "text/plain": [
              "      Age Attrition  ... YearsSinceLastPromotion  YearsWithCurrManager\n",
              "0      41       Yes  ...                       0                     5\n",
              "1      49        No  ...                       1                     7\n",
              "2      37       Yes  ...                       0                     0\n",
              "3      33        No  ...                       3                     0\n",
              "4      27        No  ...                       2                     2\n",
              "...   ...       ...  ...                     ...                   ...\n",
              "1465   36        No  ...                       0                     3\n",
              "1466   39        No  ...                       1                     7\n",
              "1467   27        No  ...                       0                     3\n",
              "1468   49        No  ...                       0                     8\n",
              "1469   34        No  ...                       1                     2\n",
              "\n",
              "[1470 rows x 35 columns]"
            ]
          },
          "metadata": {
            "tags": []
          },
          "execution_count": 4
        }
      ]
    },
    {
      "cell_type": "markdown",
      "metadata": {
        "id": "S8c6Z5dfvsnX"
      },
      "source": [
        "**Clean the data**"
      ]
    },
    {
      "cell_type": "code",
      "metadata": {
        "colab": {
          "base_uri": "https://localhost:8080/"
        },
        "id": "I1a1U5P400qv",
        "outputId": "2432c116-9284-4c43-ba3d-cca50657da67"
      },
      "source": [
        "HrData.info()"
      ],
      "execution_count": 5,
      "outputs": [
        {
          "output_type": "stream",
          "text": [
            "<class 'pandas.core.frame.DataFrame'>\n",
            "RangeIndex: 1470 entries, 0 to 1469\n",
            "Data columns (total 35 columns):\n",
            " #   Column                    Non-Null Count  Dtype \n",
            "---  ------                    --------------  ----- \n",
            " 0   Age                       1470 non-null   int64 \n",
            " 1   Attrition                 1470 non-null   object\n",
            " 2   BusinessTravel            1470 non-null   object\n",
            " 3   DailyRate                 1470 non-null   int64 \n",
            " 4   Department                1470 non-null   object\n",
            " 5   DistanceFromHome          1470 non-null   int64 \n",
            " 6   Education                 1470 non-null   int64 \n",
            " 7   EducationField            1470 non-null   object\n",
            " 8   EmployeeCount             1470 non-null   int64 \n",
            " 9   EmployeeNumber            1470 non-null   int64 \n",
            " 10  EnvironmentSatisfaction   1470 non-null   int64 \n",
            " 11  Gender                    1470 non-null   object\n",
            " 12  HourlyRate                1470 non-null   int64 \n",
            " 13  JobInvolvement            1470 non-null   int64 \n",
            " 14  JobLevel                  1470 non-null   int64 \n",
            " 15  JobRole                   1470 non-null   object\n",
            " 16  JobSatisfaction           1470 non-null   int64 \n",
            " 17  MaritalStatus             1470 non-null   object\n",
            " 18  MonthlyIncome             1470 non-null   int64 \n",
            " 19  MonthlyRate               1470 non-null   int64 \n",
            " 20  NumCompaniesWorked        1470 non-null   int64 \n",
            " 21  Over18                    1470 non-null   object\n",
            " 22  OverTime                  1470 non-null   object\n",
            " 23  PercentSalaryHike         1470 non-null   int64 \n",
            " 24  PerformanceRating         1470 non-null   int64 \n",
            " 25  RelationshipSatisfaction  1470 non-null   int64 \n",
            " 26  StandardHours             1470 non-null   int64 \n",
            " 27  StockOptionLevel          1470 non-null   int64 \n",
            " 28  TotalWorkingYears         1470 non-null   int64 \n",
            " 29  TrainingTimesLastYear     1470 non-null   int64 \n",
            " 30  WorkLifeBalance           1470 non-null   int64 \n",
            " 31  YearsAtCompany            1470 non-null   int64 \n",
            " 32  YearsInCurrentRole        1470 non-null   int64 \n",
            " 33  YearsSinceLastPromotion   1470 non-null   int64 \n",
            " 34  YearsWithCurrManager      1470 non-null   int64 \n",
            "dtypes: int64(26), object(9)\n",
            "memory usage: 402.1+ KB\n"
          ],
          "name": "stdout"
        }
      ]
    },
    {
      "cell_type": "code",
      "metadata": {
        "colab": {
          "base_uri": "https://localhost:8080/"
        },
        "id": "cZKwyXPn039r",
        "outputId": "24b97b25-1230-40c1-e21b-1d74d197aacc"
      },
      "source": [
        "print(HrData.isnull().sum())"
      ],
      "execution_count": 6,
      "outputs": [
        {
          "output_type": "stream",
          "text": [
            "Age                         0\n",
            "Attrition                   0\n",
            "BusinessTravel              0\n",
            "DailyRate                   0\n",
            "Department                  0\n",
            "DistanceFromHome            0\n",
            "Education                   0\n",
            "EducationField              0\n",
            "EmployeeCount               0\n",
            "EmployeeNumber              0\n",
            "EnvironmentSatisfaction     0\n",
            "Gender                      0\n",
            "HourlyRate                  0\n",
            "JobInvolvement              0\n",
            "JobLevel                    0\n",
            "JobRole                     0\n",
            "JobSatisfaction             0\n",
            "MaritalStatus               0\n",
            "MonthlyIncome               0\n",
            "MonthlyRate                 0\n",
            "NumCompaniesWorked          0\n",
            "Over18                      0\n",
            "OverTime                    0\n",
            "PercentSalaryHike           0\n",
            "PerformanceRating           0\n",
            "RelationshipSatisfaction    0\n",
            "StandardHours               0\n",
            "StockOptionLevel            0\n",
            "TotalWorkingYears           0\n",
            "TrainingTimesLastYear       0\n",
            "WorkLifeBalance             0\n",
            "YearsAtCompany              0\n",
            "YearsInCurrentRole          0\n",
            "YearsSinceLastPromotion     0\n",
            "YearsWithCurrManager        0\n",
            "dtype: int64\n"
          ],
          "name": "stdout"
        }
      ]
    },
    {
      "cell_type": "markdown",
      "metadata": {
        "id": "U9lLbYJS03jt"
      },
      "source": [
        "\n",
        "\n",
        "\n",
        " There are no missing values in the data set.\n",
        "\n",
        "\n",
        "\n"
      ]
    },
    {
      "cell_type": "markdown",
      "metadata": {
        "id": "r2RmJXd519JH"
      },
      "source": [
        "Next step Convert text categories into digital values "
      ]
    },
    {
      "cell_type": "code",
      "metadata": {
        "colab": {
          "base_uri": "https://localhost:8080/"
        },
        "id": "4gBhNzqg07jb",
        "outputId": "55f34148-2f15-41ef-c31a-8297aaece886"
      },
      "source": [
        "h = (HrData.dtypes == 'object')\n",
        "object_cols = list(h[h].index)\n",
        "print('Categories:')\n",
        "print(object_cols)"
      ],
      "execution_count": 7,
      "outputs": [
        {
          "output_type": "stream",
          "text": [
            "Categories:\n",
            "['Attrition', 'BusinessTravel', 'Department', 'EducationField', 'Gender', 'JobRole', 'MaritalStatus', 'Over18', 'OverTime']\n"
          ],
          "name": "stdout"
        }
      ]
    },
    {
      "cell_type": "code",
      "metadata": {
        "colab": {
          "base_uri": "https://localhost:8080/"
        },
        "id": "NxC8zwGf1A2U",
        "outputId": "485b0aa6-e6b0-42ee-d9bc-38f33c29e603"
      },
      "source": [
        "HrData.Gender.unique()"
      ],
      "execution_count": 8,
      "outputs": [
        {
          "output_type": "execute_result",
          "data": {
            "text/plain": [
              "array(['Female', 'Male'], dtype=object)"
            ]
          },
          "metadata": {
            "tags": []
          },
          "execution_count": 8
        }
      ]
    },
    {
      "cell_type": "code",
      "metadata": {
        "colab": {
          "base_uri": "https://localhost:8080/"
        },
        "id": "M7ugZ9Pn1Chv",
        "outputId": "4e00358d-b2c1-492e-b265-6d9307c6001e"
      },
      "source": [
        "HrData.Attrition.unique()"
      ],
      "execution_count": 9,
      "outputs": [
        {
          "output_type": "execute_result",
          "data": {
            "text/plain": [
              "array(['Yes', 'No'], dtype=object)"
            ]
          },
          "metadata": {
            "tags": []
          },
          "execution_count": 9
        }
      ]
    },
    {
      "cell_type": "code",
      "metadata": {
        "colab": {
          "base_uri": "https://localhost:8080/"
        },
        "id": "jyaAlE5D1EM3",
        "outputId": "db9ece2a-3951-4fcd-de13-d001c71b500d"
      },
      "source": [
        "HrData.Over18.unique()"
      ],
      "execution_count": 10,
      "outputs": [
        {
          "output_type": "execute_result",
          "data": {
            "text/plain": [
              "array(['Y'], dtype=object)"
            ]
          },
          "metadata": {
            "tags": []
          },
          "execution_count": 10
        }
      ]
    },
    {
      "cell_type": "code",
      "metadata": {
        "colab": {
          "base_uri": "https://localhost:8080/"
        },
        "id": "qzcDi8Zr1GIf",
        "outputId": "b53d5f8b-7e20-4d1a-ae94-c3ea7f9584ba"
      },
      "source": [
        "HrData.OverTime.unique()"
      ],
      "execution_count": 11,
      "outputs": [
        {
          "output_type": "execute_result",
          "data": {
            "text/plain": [
              "array(['Yes', 'No'], dtype=object)"
            ]
          },
          "metadata": {
            "tags": []
          },
          "execution_count": 11
        }
      ]
    },
    {
      "cell_type": "code",
      "metadata": {
        "id": "k-0umZJC1H2-"
      },
      "source": [
        "HrData['Gender']=HrData['Gender'].map({'Female':0, 'Male':1})"
      ],
      "execution_count": 12,
      "outputs": []
    },
    {
      "cell_type": "code",
      "metadata": {
        "id": "_UE95Pvl1J7h"
      },
      "source": [
        "HrData['Attrition']=HrData['Attrition'].map({'Yes':1, 'No':0})"
      ],
      "execution_count": 13,
      "outputs": []
    },
    {
      "cell_type": "code",
      "metadata": {
        "id": "Pob-eW3p1MxE"
      },
      "source": [
        "HrData['Over18']= HrData['Over18'].map({'Y':1})"
      ],
      "execution_count": 14,
      "outputs": []
    },
    {
      "cell_type": "code",
      "metadata": {
        "id": "I6dPOWzZ1S0C"
      },
      "source": [
        "HrData ['OverTime']=HrData ['OverTime'].map({'Yes':1, 'No':0})"
      ],
      "execution_count": 15,
      "outputs": []
    },
    {
      "cell_type": "code",
      "metadata": {
        "colab": {
          "base_uri": "https://localhost:8080/",
          "height": 309
        },
        "id": "HnXZjjRK1VO9",
        "outputId": "c30ba190-9a28-4a0d-a641-bbcc7dce9a66"
      },
      "source": [
        "HrData.head()"
      ],
      "execution_count": 16,
      "outputs": [
        {
          "output_type": "execute_result",
          "data": {
            "text/html": [
              "<div>\n",
              "<style scoped>\n",
              "    .dataframe tbody tr th:only-of-type {\n",
              "        vertical-align: middle;\n",
              "    }\n",
              "\n",
              "    .dataframe tbody tr th {\n",
              "        vertical-align: top;\n",
              "    }\n",
              "\n",
              "    .dataframe thead th {\n",
              "        text-align: right;\n",
              "    }\n",
              "</style>\n",
              "<table border=\"1\" class=\"dataframe\">\n",
              "  <thead>\n",
              "    <tr style=\"text-align: right;\">\n",
              "      <th></th>\n",
              "      <th>Age</th>\n",
              "      <th>Attrition</th>\n",
              "      <th>BusinessTravel</th>\n",
              "      <th>DailyRate</th>\n",
              "      <th>Department</th>\n",
              "      <th>DistanceFromHome</th>\n",
              "      <th>Education</th>\n",
              "      <th>EducationField</th>\n",
              "      <th>EmployeeCount</th>\n",
              "      <th>EmployeeNumber</th>\n",
              "      <th>EnvironmentSatisfaction</th>\n",
              "      <th>Gender</th>\n",
              "      <th>HourlyRate</th>\n",
              "      <th>JobInvolvement</th>\n",
              "      <th>JobLevel</th>\n",
              "      <th>JobRole</th>\n",
              "      <th>JobSatisfaction</th>\n",
              "      <th>MaritalStatus</th>\n",
              "      <th>MonthlyIncome</th>\n",
              "      <th>MonthlyRate</th>\n",
              "      <th>NumCompaniesWorked</th>\n",
              "      <th>Over18</th>\n",
              "      <th>OverTime</th>\n",
              "      <th>PercentSalaryHike</th>\n",
              "      <th>PerformanceRating</th>\n",
              "      <th>RelationshipSatisfaction</th>\n",
              "      <th>StandardHours</th>\n",
              "      <th>StockOptionLevel</th>\n",
              "      <th>TotalWorkingYears</th>\n",
              "      <th>TrainingTimesLastYear</th>\n",
              "      <th>WorkLifeBalance</th>\n",
              "      <th>YearsAtCompany</th>\n",
              "      <th>YearsInCurrentRole</th>\n",
              "      <th>YearsSinceLastPromotion</th>\n",
              "      <th>YearsWithCurrManager</th>\n",
              "    </tr>\n",
              "  </thead>\n",
              "  <tbody>\n",
              "    <tr>\n",
              "      <th>0</th>\n",
              "      <td>41</td>\n",
              "      <td>1</td>\n",
              "      <td>Travel_Rarely</td>\n",
              "      <td>1102</td>\n",
              "      <td>Sales</td>\n",
              "      <td>1</td>\n",
              "      <td>2</td>\n",
              "      <td>Life Sciences</td>\n",
              "      <td>1</td>\n",
              "      <td>1</td>\n",
              "      <td>2</td>\n",
              "      <td>0</td>\n",
              "      <td>94</td>\n",
              "      <td>3</td>\n",
              "      <td>2</td>\n",
              "      <td>Sales Executive</td>\n",
              "      <td>4</td>\n",
              "      <td>Single</td>\n",
              "      <td>5993</td>\n",
              "      <td>19479</td>\n",
              "      <td>8</td>\n",
              "      <td>1</td>\n",
              "      <td>1</td>\n",
              "      <td>11</td>\n",
              "      <td>3</td>\n",
              "      <td>1</td>\n",
              "      <td>80</td>\n",
              "      <td>0</td>\n",
              "      <td>8</td>\n",
              "      <td>0</td>\n",
              "      <td>1</td>\n",
              "      <td>6</td>\n",
              "      <td>4</td>\n",
              "      <td>0</td>\n",
              "      <td>5</td>\n",
              "    </tr>\n",
              "    <tr>\n",
              "      <th>1</th>\n",
              "      <td>49</td>\n",
              "      <td>0</td>\n",
              "      <td>Travel_Frequently</td>\n",
              "      <td>279</td>\n",
              "      <td>Research &amp; Development</td>\n",
              "      <td>8</td>\n",
              "      <td>1</td>\n",
              "      <td>Life Sciences</td>\n",
              "      <td>1</td>\n",
              "      <td>2</td>\n",
              "      <td>3</td>\n",
              "      <td>1</td>\n",
              "      <td>61</td>\n",
              "      <td>2</td>\n",
              "      <td>2</td>\n",
              "      <td>Research Scientist</td>\n",
              "      <td>2</td>\n",
              "      <td>Married</td>\n",
              "      <td>5130</td>\n",
              "      <td>24907</td>\n",
              "      <td>1</td>\n",
              "      <td>1</td>\n",
              "      <td>0</td>\n",
              "      <td>23</td>\n",
              "      <td>4</td>\n",
              "      <td>4</td>\n",
              "      <td>80</td>\n",
              "      <td>1</td>\n",
              "      <td>10</td>\n",
              "      <td>3</td>\n",
              "      <td>3</td>\n",
              "      <td>10</td>\n",
              "      <td>7</td>\n",
              "      <td>1</td>\n",
              "      <td>7</td>\n",
              "    </tr>\n",
              "    <tr>\n",
              "      <th>2</th>\n",
              "      <td>37</td>\n",
              "      <td>1</td>\n",
              "      <td>Travel_Rarely</td>\n",
              "      <td>1373</td>\n",
              "      <td>Research &amp; Development</td>\n",
              "      <td>2</td>\n",
              "      <td>2</td>\n",
              "      <td>Other</td>\n",
              "      <td>1</td>\n",
              "      <td>4</td>\n",
              "      <td>4</td>\n",
              "      <td>1</td>\n",
              "      <td>92</td>\n",
              "      <td>2</td>\n",
              "      <td>1</td>\n",
              "      <td>Laboratory Technician</td>\n",
              "      <td>3</td>\n",
              "      <td>Single</td>\n",
              "      <td>2090</td>\n",
              "      <td>2396</td>\n",
              "      <td>6</td>\n",
              "      <td>1</td>\n",
              "      <td>1</td>\n",
              "      <td>15</td>\n",
              "      <td>3</td>\n",
              "      <td>2</td>\n",
              "      <td>80</td>\n",
              "      <td>0</td>\n",
              "      <td>7</td>\n",
              "      <td>3</td>\n",
              "      <td>3</td>\n",
              "      <td>0</td>\n",
              "      <td>0</td>\n",
              "      <td>0</td>\n",
              "      <td>0</td>\n",
              "    </tr>\n",
              "    <tr>\n",
              "      <th>3</th>\n",
              "      <td>33</td>\n",
              "      <td>0</td>\n",
              "      <td>Travel_Frequently</td>\n",
              "      <td>1392</td>\n",
              "      <td>Research &amp; Development</td>\n",
              "      <td>3</td>\n",
              "      <td>4</td>\n",
              "      <td>Life Sciences</td>\n",
              "      <td>1</td>\n",
              "      <td>5</td>\n",
              "      <td>4</td>\n",
              "      <td>0</td>\n",
              "      <td>56</td>\n",
              "      <td>3</td>\n",
              "      <td>1</td>\n",
              "      <td>Research Scientist</td>\n",
              "      <td>3</td>\n",
              "      <td>Married</td>\n",
              "      <td>2909</td>\n",
              "      <td>23159</td>\n",
              "      <td>1</td>\n",
              "      <td>1</td>\n",
              "      <td>1</td>\n",
              "      <td>11</td>\n",
              "      <td>3</td>\n",
              "      <td>3</td>\n",
              "      <td>80</td>\n",
              "      <td>0</td>\n",
              "      <td>8</td>\n",
              "      <td>3</td>\n",
              "      <td>3</td>\n",
              "      <td>8</td>\n",
              "      <td>7</td>\n",
              "      <td>3</td>\n",
              "      <td>0</td>\n",
              "    </tr>\n",
              "    <tr>\n",
              "      <th>4</th>\n",
              "      <td>27</td>\n",
              "      <td>0</td>\n",
              "      <td>Travel_Rarely</td>\n",
              "      <td>591</td>\n",
              "      <td>Research &amp; Development</td>\n",
              "      <td>2</td>\n",
              "      <td>1</td>\n",
              "      <td>Medical</td>\n",
              "      <td>1</td>\n",
              "      <td>7</td>\n",
              "      <td>1</td>\n",
              "      <td>1</td>\n",
              "      <td>40</td>\n",
              "      <td>3</td>\n",
              "      <td>1</td>\n",
              "      <td>Laboratory Technician</td>\n",
              "      <td>2</td>\n",
              "      <td>Married</td>\n",
              "      <td>3468</td>\n",
              "      <td>16632</td>\n",
              "      <td>9</td>\n",
              "      <td>1</td>\n",
              "      <td>0</td>\n",
              "      <td>12</td>\n",
              "      <td>3</td>\n",
              "      <td>4</td>\n",
              "      <td>80</td>\n",
              "      <td>1</td>\n",
              "      <td>6</td>\n",
              "      <td>3</td>\n",
              "      <td>3</td>\n",
              "      <td>2</td>\n",
              "      <td>2</td>\n",
              "      <td>2</td>\n",
              "      <td>2</td>\n",
              "    </tr>\n",
              "  </tbody>\n",
              "</table>\n",
              "</div>"
            ],
            "text/plain": [
              "   Age  Attrition  ... YearsSinceLastPromotion  YearsWithCurrManager\n",
              "0   41          1  ...                       0                     5\n",
              "1   49          0  ...                       1                     7\n",
              "2   37          1  ...                       0                     0\n",
              "3   33          0  ...                       3                     0\n",
              "4   27          0  ...                       2                     2\n",
              "\n",
              "[5 rows x 35 columns]"
            ]
          },
          "metadata": {
            "tags": []
          },
          "execution_count": 16
        }
      ]
    },
    {
      "cell_type": "code",
      "metadata": {
        "colab": {
          "base_uri": "https://localhost:8080/",
          "height": 317
        },
        "id": "0T-ymsDZ2Nhc",
        "outputId": "6351cd45-f194-46e8-c3ea-38bed3455d24"
      },
      "source": [
        "HrData[HrData['Attrition'] == 1].describe()"
      ],
      "execution_count": 17,
      "outputs": [
        {
          "output_type": "execute_result",
          "data": {
            "text/html": [
              "<div>\n",
              "<style scoped>\n",
              "    .dataframe tbody tr th:only-of-type {\n",
              "        vertical-align: middle;\n",
              "    }\n",
              "\n",
              "    .dataframe tbody tr th {\n",
              "        vertical-align: top;\n",
              "    }\n",
              "\n",
              "    .dataframe thead th {\n",
              "        text-align: right;\n",
              "    }\n",
              "</style>\n",
              "<table border=\"1\" class=\"dataframe\">\n",
              "  <thead>\n",
              "    <tr style=\"text-align: right;\">\n",
              "      <th></th>\n",
              "      <th>Age</th>\n",
              "      <th>Attrition</th>\n",
              "      <th>DailyRate</th>\n",
              "      <th>DistanceFromHome</th>\n",
              "      <th>Education</th>\n",
              "      <th>EmployeeCount</th>\n",
              "      <th>EmployeeNumber</th>\n",
              "      <th>EnvironmentSatisfaction</th>\n",
              "      <th>Gender</th>\n",
              "      <th>HourlyRate</th>\n",
              "      <th>JobInvolvement</th>\n",
              "      <th>JobLevel</th>\n",
              "      <th>JobSatisfaction</th>\n",
              "      <th>MonthlyIncome</th>\n",
              "      <th>MonthlyRate</th>\n",
              "      <th>NumCompaniesWorked</th>\n",
              "      <th>Over18</th>\n",
              "      <th>OverTime</th>\n",
              "      <th>PercentSalaryHike</th>\n",
              "      <th>PerformanceRating</th>\n",
              "      <th>RelationshipSatisfaction</th>\n",
              "      <th>StandardHours</th>\n",
              "      <th>StockOptionLevel</th>\n",
              "      <th>TotalWorkingYears</th>\n",
              "      <th>TrainingTimesLastYear</th>\n",
              "      <th>WorkLifeBalance</th>\n",
              "      <th>YearsAtCompany</th>\n",
              "      <th>YearsInCurrentRole</th>\n",
              "      <th>YearsSinceLastPromotion</th>\n",
              "      <th>YearsWithCurrManager</th>\n",
              "    </tr>\n",
              "  </thead>\n",
              "  <tbody>\n",
              "    <tr>\n",
              "      <th>count</th>\n",
              "      <td>237.000000</td>\n",
              "      <td>237.0</td>\n",
              "      <td>237.000000</td>\n",
              "      <td>237.000000</td>\n",
              "      <td>237.000000</td>\n",
              "      <td>237.0</td>\n",
              "      <td>237.000000</td>\n",
              "      <td>237.000000</td>\n",
              "      <td>237.000000</td>\n",
              "      <td>237.000000</td>\n",
              "      <td>237.000000</td>\n",
              "      <td>237.000000</td>\n",
              "      <td>237.000000</td>\n",
              "      <td>237.000000</td>\n",
              "      <td>237.000000</td>\n",
              "      <td>237.000000</td>\n",
              "      <td>237.0</td>\n",
              "      <td>237.000000</td>\n",
              "      <td>237.000000</td>\n",
              "      <td>237.000000</td>\n",
              "      <td>237.000000</td>\n",
              "      <td>237.0</td>\n",
              "      <td>237.000000</td>\n",
              "      <td>237.000000</td>\n",
              "      <td>237.000000</td>\n",
              "      <td>237.000000</td>\n",
              "      <td>237.000000</td>\n",
              "      <td>237.000000</td>\n",
              "      <td>237.000000</td>\n",
              "      <td>237.000000</td>\n",
              "    </tr>\n",
              "    <tr>\n",
              "      <th>mean</th>\n",
              "      <td>33.607595</td>\n",
              "      <td>1.0</td>\n",
              "      <td>750.362869</td>\n",
              "      <td>10.632911</td>\n",
              "      <td>2.839662</td>\n",
              "      <td>1.0</td>\n",
              "      <td>1010.345992</td>\n",
              "      <td>2.464135</td>\n",
              "      <td>0.632911</td>\n",
              "      <td>65.573840</td>\n",
              "      <td>2.518987</td>\n",
              "      <td>1.637131</td>\n",
              "      <td>2.468354</td>\n",
              "      <td>4787.092827</td>\n",
              "      <td>14559.308017</td>\n",
              "      <td>2.940928</td>\n",
              "      <td>1.0</td>\n",
              "      <td>0.535865</td>\n",
              "      <td>15.097046</td>\n",
              "      <td>3.156118</td>\n",
              "      <td>2.599156</td>\n",
              "      <td>80.0</td>\n",
              "      <td>0.527426</td>\n",
              "      <td>8.244726</td>\n",
              "      <td>2.624473</td>\n",
              "      <td>2.658228</td>\n",
              "      <td>5.130802</td>\n",
              "      <td>2.902954</td>\n",
              "      <td>1.945148</td>\n",
              "      <td>2.852321</td>\n",
              "    </tr>\n",
              "    <tr>\n",
              "      <th>std</th>\n",
              "      <td>9.689350</td>\n",
              "      <td>0.0</td>\n",
              "      <td>401.899519</td>\n",
              "      <td>8.452525</td>\n",
              "      <td>1.008244</td>\n",
              "      <td>0.0</td>\n",
              "      <td>580.750572</td>\n",
              "      <td>1.169791</td>\n",
              "      <td>0.483031</td>\n",
              "      <td>20.099958</td>\n",
              "      <td>0.773405</td>\n",
              "      <td>0.940594</td>\n",
              "      <td>1.118058</td>\n",
              "      <td>3640.210367</td>\n",
              "      <td>7208.153264</td>\n",
              "      <td>2.678519</td>\n",
              "      <td>0.0</td>\n",
              "      <td>0.499768</td>\n",
              "      <td>3.770294</td>\n",
              "      <td>0.363735</td>\n",
              "      <td>1.125437</td>\n",
              "      <td>0.0</td>\n",
              "      <td>0.856361</td>\n",
              "      <td>7.169204</td>\n",
              "      <td>1.254784</td>\n",
              "      <td>0.816453</td>\n",
              "      <td>5.949984</td>\n",
              "      <td>3.174827</td>\n",
              "      <td>3.153077</td>\n",
              "      <td>3.143349</td>\n",
              "    </tr>\n",
              "    <tr>\n",
              "      <th>min</th>\n",
              "      <td>18.000000</td>\n",
              "      <td>1.0</td>\n",
              "      <td>103.000000</td>\n",
              "      <td>1.000000</td>\n",
              "      <td>1.000000</td>\n",
              "      <td>1.0</td>\n",
              "      <td>1.000000</td>\n",
              "      <td>1.000000</td>\n",
              "      <td>0.000000</td>\n",
              "      <td>31.000000</td>\n",
              "      <td>1.000000</td>\n",
              "      <td>1.000000</td>\n",
              "      <td>1.000000</td>\n",
              "      <td>1009.000000</td>\n",
              "      <td>2326.000000</td>\n",
              "      <td>0.000000</td>\n",
              "      <td>1.0</td>\n",
              "      <td>0.000000</td>\n",
              "      <td>11.000000</td>\n",
              "      <td>3.000000</td>\n",
              "      <td>1.000000</td>\n",
              "      <td>80.0</td>\n",
              "      <td>0.000000</td>\n",
              "      <td>0.000000</td>\n",
              "      <td>0.000000</td>\n",
              "      <td>1.000000</td>\n",
              "      <td>0.000000</td>\n",
              "      <td>0.000000</td>\n",
              "      <td>0.000000</td>\n",
              "      <td>0.000000</td>\n",
              "    </tr>\n",
              "    <tr>\n",
              "      <th>25%</th>\n",
              "      <td>28.000000</td>\n",
              "      <td>1.0</td>\n",
              "      <td>408.000000</td>\n",
              "      <td>3.000000</td>\n",
              "      <td>2.000000</td>\n",
              "      <td>1.0</td>\n",
              "      <td>514.000000</td>\n",
              "      <td>1.000000</td>\n",
              "      <td>0.000000</td>\n",
              "      <td>50.000000</td>\n",
              "      <td>2.000000</td>\n",
              "      <td>1.000000</td>\n",
              "      <td>1.000000</td>\n",
              "      <td>2373.000000</td>\n",
              "      <td>8870.000000</td>\n",
              "      <td>1.000000</td>\n",
              "      <td>1.0</td>\n",
              "      <td>0.000000</td>\n",
              "      <td>12.000000</td>\n",
              "      <td>3.000000</td>\n",
              "      <td>2.000000</td>\n",
              "      <td>80.0</td>\n",
              "      <td>0.000000</td>\n",
              "      <td>3.000000</td>\n",
              "      <td>2.000000</td>\n",
              "      <td>2.000000</td>\n",
              "      <td>1.000000</td>\n",
              "      <td>0.000000</td>\n",
              "      <td>0.000000</td>\n",
              "      <td>0.000000</td>\n",
              "    </tr>\n",
              "    <tr>\n",
              "      <th>50%</th>\n",
              "      <td>32.000000</td>\n",
              "      <td>1.0</td>\n",
              "      <td>699.000000</td>\n",
              "      <td>9.000000</td>\n",
              "      <td>3.000000</td>\n",
              "      <td>1.0</td>\n",
              "      <td>1017.000000</td>\n",
              "      <td>3.000000</td>\n",
              "      <td>1.000000</td>\n",
              "      <td>66.000000</td>\n",
              "      <td>3.000000</td>\n",
              "      <td>1.000000</td>\n",
              "      <td>3.000000</td>\n",
              "      <td>3202.000000</td>\n",
              "      <td>14618.000000</td>\n",
              "      <td>1.000000</td>\n",
              "      <td>1.0</td>\n",
              "      <td>1.000000</td>\n",
              "      <td>14.000000</td>\n",
              "      <td>3.000000</td>\n",
              "      <td>3.000000</td>\n",
              "      <td>80.0</td>\n",
              "      <td>0.000000</td>\n",
              "      <td>7.000000</td>\n",
              "      <td>2.000000</td>\n",
              "      <td>3.000000</td>\n",
              "      <td>3.000000</td>\n",
              "      <td>2.000000</td>\n",
              "      <td>1.000000</td>\n",
              "      <td>2.000000</td>\n",
              "    </tr>\n",
              "    <tr>\n",
              "      <th>75%</th>\n",
              "      <td>39.000000</td>\n",
              "      <td>1.0</td>\n",
              "      <td>1092.000000</td>\n",
              "      <td>17.000000</td>\n",
              "      <td>4.000000</td>\n",
              "      <td>1.0</td>\n",
              "      <td>1486.000000</td>\n",
              "      <td>4.000000</td>\n",
              "      <td>1.000000</td>\n",
              "      <td>84.000000</td>\n",
              "      <td>3.000000</td>\n",
              "      <td>2.000000</td>\n",
              "      <td>3.000000</td>\n",
              "      <td>5916.000000</td>\n",
              "      <td>21081.000000</td>\n",
              "      <td>5.000000</td>\n",
              "      <td>1.0</td>\n",
              "      <td>1.000000</td>\n",
              "      <td>17.000000</td>\n",
              "      <td>3.000000</td>\n",
              "      <td>4.000000</td>\n",
              "      <td>80.0</td>\n",
              "      <td>1.000000</td>\n",
              "      <td>10.000000</td>\n",
              "      <td>3.000000</td>\n",
              "      <td>3.000000</td>\n",
              "      <td>7.000000</td>\n",
              "      <td>4.000000</td>\n",
              "      <td>2.000000</td>\n",
              "      <td>5.000000</td>\n",
              "    </tr>\n",
              "    <tr>\n",
              "      <th>max</th>\n",
              "      <td>58.000000</td>\n",
              "      <td>1.0</td>\n",
              "      <td>1496.000000</td>\n",
              "      <td>29.000000</td>\n",
              "      <td>5.000000</td>\n",
              "      <td>1.0</td>\n",
              "      <td>2055.000000</td>\n",
              "      <td>4.000000</td>\n",
              "      <td>1.000000</td>\n",
              "      <td>100.000000</td>\n",
              "      <td>4.000000</td>\n",
              "      <td>5.000000</td>\n",
              "      <td>4.000000</td>\n",
              "      <td>19859.000000</td>\n",
              "      <td>26999.000000</td>\n",
              "      <td>9.000000</td>\n",
              "      <td>1.0</td>\n",
              "      <td>1.000000</td>\n",
              "      <td>25.000000</td>\n",
              "      <td>4.000000</td>\n",
              "      <td>4.000000</td>\n",
              "      <td>80.0</td>\n",
              "      <td>3.000000</td>\n",
              "      <td>40.000000</td>\n",
              "      <td>6.000000</td>\n",
              "      <td>4.000000</td>\n",
              "      <td>40.000000</td>\n",
              "      <td>15.000000</td>\n",
              "      <td>15.000000</td>\n",
              "      <td>14.000000</td>\n",
              "    </tr>\n",
              "  </tbody>\n",
              "</table>\n",
              "</div>"
            ],
            "text/plain": [
              "              Age  Attrition  ...  YearsSinceLastPromotion  YearsWithCurrManager\n",
              "count  237.000000      237.0  ...               237.000000            237.000000\n",
              "mean    33.607595        1.0  ...                 1.945148              2.852321\n",
              "std      9.689350        0.0  ...                 3.153077              3.143349\n",
              "min     18.000000        1.0  ...                 0.000000              0.000000\n",
              "25%     28.000000        1.0  ...                 0.000000              0.000000\n",
              "50%     32.000000        1.0  ...                 1.000000              2.000000\n",
              "75%     39.000000        1.0  ...                 2.000000              5.000000\n",
              "max     58.000000        1.0  ...                15.000000             14.000000\n",
              "\n",
              "[8 rows x 30 columns]"
            ]
          },
          "metadata": {
            "tags": []
          },
          "execution_count": 17
        }
      ]
    },
    {
      "cell_type": "markdown",
      "metadata": {
        "id": "VcBhG1hpuPCM"
      },
      "source": [
        "**Analyze**\n",
        "\n",
        "\n",
        "\n",
        "\n"
      ]
    },
    {
      "cell_type": "markdown",
      "metadata": {
        "id": "d7HOBjCo206X"
      },
      "source": [
        "The employee's relationship with the manager in the following diagram shows the number of years with the current manager"
      ]
    },
    {
      "cell_type": "code",
      "metadata": {
        "colab": {
          "base_uri": "https://localhost:8080/",
          "height": 542
        },
        "id": "bGCPz5gZ2lsE",
        "outputId": "2cc0a0c6-fa7d-49ca-bc4a-29c7f61c706e"
      },
      "source": [
        "figuer = px.histogram(HrData, x=\"YearsWithCurrManager\", color=\"Attrition\", marginal=\"box\")\n",
        "figuer.show()"
      ],
      "execution_count": 18,
      "outputs": [
        {
          "output_type": "display_data",
          "data": {
            "text/html": [
              "<html>\n",
              "<head><meta charset=\"utf-8\" /></head>\n",
              "<body>\n",
              "    <div>\n",
              "            <script src=\"https://cdnjs.cloudflare.com/ajax/libs/mathjax/2.7.5/MathJax.js?config=TeX-AMS-MML_SVG\"></script><script type=\"text/javascript\">if (window.MathJax) {MathJax.Hub.Config({SVG: {font: \"STIX-Web\"}});}</script>\n",
              "                <script type=\"text/javascript\">window.PlotlyConfig = {MathJaxConfig: 'local'};</script>\n",
              "        <script src=\"https://cdn.plot.ly/plotly-latest.min.js\"></script>    \n",
              "            <div id=\"b0de98a5-48bd-43e4-998c-62a219d9574b\" class=\"plotly-graph-div\" style=\"height:525px; width:100%;\"></div>\n",
              "            <script type=\"text/javascript\">\n",
              "                \n",
              "                    window.PLOTLYENV=window.PLOTLYENV || {};\n",
              "                    \n",
              "                if (document.getElementById(\"b0de98a5-48bd-43e4-998c-62a219d9574b\")) {\n",
              "                    Plotly.newPlot(\n",
              "                        'b0de98a5-48bd-43e4-998c-62a219d9574b',\n",
              "                        [{\"alignmentgroup\": \"True\", \"bingroup\": \"x\", \"hoverlabel\": {\"namelength\": 0}, \"hovertemplate\": \"Attrition=1<br>YearsWithCurrManager=%{x}<br>count=%{y}\", \"legendgroup\": \"Attrition=1\", \"marker\": {\"color\": \"#636efa\"}, \"name\": \"Attrition=1\", \"offsetgroup\": \"Attrition=1\", \"orientation\": \"v\", \"showlegend\": true, \"type\": \"histogram\", \"x\": [5, 0, 3, 3, 3, 7, 0, 0, 2, 1, 8, 0, 2, 0, 7, 2, 0, 3, 6, 3, 7, 6, 0, 2, 3, 4, 0, 0, 2, 1, 0, 9, 8, 4, 1, 5, 1, 4, 7, 2, 0, 4, 0, 9, 0, 2, 4, 0, 7, 2, 0, 7, 2, 0, 7, 0, 0, 4, 4, 0, 2, 4, 0, 1, 0, 7, 3, 0, 2, 2, 0, 0, 0, 2, 2, 0, 2, 2, 0, 1, 7, 0, 3, 7, 2, 8, 3, 4, 2, 0, 0, 2, 8, 1, 7, 3, 7, 8, 2, 1, 0, 2, 0, 2, 0, 2, 0, 0, 0, 7, 7, 0, 0, 2, 0, 1, 2, 0, 2, 0, 2, 9, 14, 0, 2, 2, 0, 7, 9, 6, 7, 8, 6, 0, 2, 0, 0, 5, 0, 3, 2, 10, 14, 0, 3, 2, 0, 0, 0, 0, 0, 11, 2, 5, 7, 1, 3, 0, 7, 2, 2, 9, 8, 0, 2, 7, 7, 3, 7, 0, 0, 2, 3, 0, 7, 2, 2, 2, 0, 10, 0, 0, 7, 0, 7, 7, 0, 9, 4, 0, 0, 0, 2, 3, 7, 2, 7, 0, 2, 0, 10, 2, 0, 2, 2, 0, 0, 0, 0, 0, 3, 7, 7, 8, 4, 7, 0, 0, 2, 0, 7, 0, 0, 0, 0, 0, 2, 3, 0, 3, 8, 2, 0, 2, 8, 1, 0], \"xaxis\": \"x\", \"yaxis\": \"y\"}, {\"alignmentgroup\": \"True\", \"hoverlabel\": {\"namelength\": 0}, \"hovertemplate\": \"Attrition=1<br>YearsWithCurrManager=%{x}\", \"legendgroup\": \"Attrition=1\", \"marker\": {\"color\": \"#636efa\"}, \"name\": \"Attrition=1\", \"notched\": true, \"offsetgroup\": \"Attrition=1\", \"showlegend\": false, \"type\": \"box\", \"x\": [5, 0, 3, 3, 3, 7, 0, 0, 2, 1, 8, 0, 2, 0, 7, 2, 0, 3, 6, 3, 7, 6, 0, 2, 3, 4, 0, 0, 2, 1, 0, 9, 8, 4, 1, 5, 1, 4, 7, 2, 0, 4, 0, 9, 0, 2, 4, 0, 7, 2, 0, 7, 2, 0, 7, 0, 0, 4, 4, 0, 2, 4, 0, 1, 0, 7, 3, 0, 2, 2, 0, 0, 0, 2, 2, 0, 2, 2, 0, 1, 7, 0, 3, 7, 2, 8, 3, 4, 2, 0, 0, 2, 8, 1, 7, 3, 7, 8, 2, 1, 0, 2, 0, 2, 0, 2, 0, 0, 0, 7, 7, 0, 0, 2, 0, 1, 2, 0, 2, 0, 2, 9, 14, 0, 2, 2, 0, 7, 9, 6, 7, 8, 6, 0, 2, 0, 0, 5, 0, 3, 2, 10, 14, 0, 3, 2, 0, 0, 0, 0, 0, 11, 2, 5, 7, 1, 3, 0, 7, 2, 2, 9, 8, 0, 2, 7, 7, 3, 7, 0, 0, 2, 3, 0, 7, 2, 2, 2, 0, 10, 0, 0, 7, 0, 7, 7, 0, 9, 4, 0, 0, 0, 2, 3, 7, 2, 7, 0, 2, 0, 10, 2, 0, 2, 2, 0, 0, 0, 0, 0, 3, 7, 7, 8, 4, 7, 0, 0, 2, 0, 7, 0, 0, 0, 0, 0, 2, 3, 0, 3, 8, 2, 0, 2, 8, 1, 0], \"xaxis\": \"x2\", \"yaxis\": \"y2\"}, {\"alignmentgroup\": \"True\", \"bingroup\": \"x\", \"hoverlabel\": {\"namelength\": 0}, \"hovertemplate\": \"Attrition=0<br>YearsWithCurrManager=%{x}<br>count=%{y}\", \"legendgroup\": \"Attrition=0\", \"marker\": {\"color\": \"#EF553B\"}, \"name\": \"Attrition=0\", \"offsetgroup\": \"Attrition=0\", \"orientation\": \"v\", \"showlegend\": true, \"type\": \"histogram\", \"x\": [7, 0, 2, 6, 0, 0, 8, 7, 3, 8, 3, 2, 8, 5, 0, 7, 2, 3, 11, 0, 8, 2, 17, 1, 0, 3, 8, 4, 2, 0, 3, 0, 0, 7, 7, 7, 0, 8, 1, 3, 3, 0, 12, 8, 2, 7, 7, 8, 9, 8, 9, 8, 2, 3, 0, 2, 3, 4, 0, 9, 0, 8, 8, 0, 2, 2, 0, 4, 0, 9, 3, 2, 0, 3, 8, 11, 0, 7, 5, 7, 3, 2, 4, 8, 2, 0, 10, 0, 2, 7, 1, 0, 8, 4, 2, 0, 3, 8, 8, 0, 12, 9, 7, 15, 3, 1, 11, 2, 1, 7, 7, 1, 9, 2, 7, 3, 2, 4, 7, 2, 2, 7, 4, 0, 13, 6, 5, 15, 7, 9, 0, 0, 11, 2, 2, 2, 2, 4, 1, 4, 8, 4, 7, 4, 1, 2, 10, 3, 2, 2, 7, 1, 2, 2, 2, 3, 6, 9, 15, 9, 0, 9, 3, 2, 8, 7, 2, 2, 0, 7, 0, 7, 0, 7, 2, 7, 2, 3, 8, 7, 7, 0, 8, 5, 7, 1, 7, 13, 4, 0, 8, 1, 8, 2, 15, 2, 6, 9, 12, 2, 2, 2, 0, 7, 7, 2, 2, 9, 2, 2, 8, 5, 2, 2, 2, 8, 9, 0, 3, 5, 4, 7, 0, 8, 5, 10, 11, 13, 4, 1, 0, 2, 2, 7, 4, 6, 3, 6, 9, 8, 3, 7, 2, 2, 2, 7, 2, 2, 8, 9, 0, 2, 4, 0, 7, 7, 7, 8, 8, 1, 2, 3, 0, 11, 2, 8, 10, 7, 7, 2, 9, 4, 7, 7, 9, 9, 3, 1, 1, 0, 4, 3, 0, 8, 2, 2, 2, 7, 4, 9, 10, 7, 13, 2, 2, 0, 0, 2, 0, 7, 0, 7, 2, 7, 0, 0, 12, 2, 7, 2, 3, 0, 3, 2, 2, 0, 4, 7, 0, 7, 2, 2, 3, 0, 2, 0, 17, 3, 2, 1, 9, 0, 2, 2, 12, 2, 2, 3, 7, 2, 6, 7, 4, 7, 8, 4, 2, 4, 2, 2, 10, 8, 4, 0, 12, 2, 4, 7, 8, 0, 7, 7, 11, 4, 1, 3, 0, 7, 2, 8, 2, 0, 0, 7, 7, 7, 10, 9, 13, 7, 5, 8, 7, 2, 5, 1, 1, 7, 0, 3, 7, 2, 2, 8, 7, 9, 1, 0, 3, 9, 4, 4, 0, 7, 6, 3, 2, 7, 3, 0, 0, 2, 0, 0, 7, 2, 2, 6, 2, 1, 2, 2, 5, 0, 10, 8, 2, 8, 2, 8, 7, 1, 2, 1, 0, 2, 2, 5, 8, 2, 4, 0, 8, 7, 10, 8, 8, 7, 7, 7, 12, 3, 6, 2, 7, 10, 2, 5, 0, 4, 13, 7, 0, 2, 3, 2, 6, 1, 3, 7, 2, 2, 0, 7, 1, 0, 16, 4, 1, 2, 4, 9, 2, 0, 1, 3, 4, 1, 3, 12, 3, 2, 2, 7, 2, 9, 0, 4, 3, 7, 0, 5, 7, 2, 2, 4, 8, 0, 0, 0, 8, 2, 3, 0, 8, 6, 5, 2, 0, 17, 3, 1, 8, 1, 11, 3, 3, 4, 2, 3, 0, 0, 4, 2, 2, 2, 3, 3, 15, 2, 3, 2, 4, 3, 2, 3, 2, 2, 8, 0, 8, 2, 7, 9, 7, 4, 3, 3, 1, 2, 0, 11, 2, 2, 0, 0, 3, 2, 4, 2, 7, 7, 0, 0, 1, 11, 2, 0, 7, 17, 9, 5, 0, 3, 4, 8, 2, 0, 8, 2, 7, 3, 8, 7, 7, 7, 0, 2, 2, 3, 2, 11, 2, 8, 7, 5, 2, 7, 2, 3, 0, 8, 1, 7, 3, 1, 2, 8, 1, 8, 2, 2, 0, 0, 3, 7, 10, 0, 11, 13, 8, 2, 1, 7, 9, 4, 4, 12, 0, 0, 2, 7, 1, 5, 3, 2, 0, 3, 8, 2, 0, 7, 3, 2, 8, 9, 1, 2, 2, 7, 2, 2, 4, 0, 7, 2, 0, 1, 12, 0, 7, 7, 7, 9, 0, 1, 9, 2, 3, 9, 2, 4, 2, 3, 2, 1, 0, 2, 0, 2, 0, 3, 2, 3, 4, 13, 5, 7, 2, 7, 4, 0, 4, 9, 2, 0, 2, 8, 0, 2, 11, 2, 7, 3, 9, 0, 4, 3, 0, 2, 3, 3, 7, 1, 7, 9, 17, 2, 4, 3, 9, 2, 7, 7, 10, 3, 1, 7, 0, 12, 8, 4, 7, 2, 9, 1, 8, 5, 7, 0, 7, 0, 3, 0, 0, 7, 0, 10, 8, 1, 1, 2, 0, 8, 2, 10, 4, 10, 2, 13, 8, 2, 0, 17, 12, 2, 7, 7, 2, 1, 8, 0, 2, 2, 7, 7, 7, 5, 2, 8, 7, 6, 9, 10, 11, 7, 0, 6, 8, 7, 1, 10, 7, 6, 2, 3, 13, 8, 0, 3, 0, 0, 0, 9, 0, 8, 7, 3, 11, 4, 4, 2, 3, 3, 2, 2, 5, 2, 2, 8, 4, 1, 9, 4, 2, 2, 2, 7, 9, 7, 5, 0, 1, 2, 0, 3, 4, 8, 2, 2, 3, 0, 6, 3, 3, 2, 3, 7, 9, 7, 2, 2, 2, 8, 3, 3, 8, 2, 2, 3, 3, 12, 2, 8, 0, 0, 8, 7, 9, 0, 0, 2, 4, 3, 2, 2, 2, 0, 3, 2, 2, 7, 0, 0, 12, 17, 2, 1, 3, 2, 6, 9, 7, 0, 7, 7, 2, 3, 9, 1, 7, 7, 0, 2, 7, 2, 5, 2, 7, 0, 2, 2, 2, 3, 2, 6, 0, 13, 1, 0, 7, 2, 0, 5, 4, 6, 3, 0, 2, 2, 1, 8, 7, 2, 2, 1, 12, 3, 13, 2, 10, 1, 4, 5, 3, 1, 2, 4, 7, 7, 10, 0, 2, 0, 7, 12, 9, 2, 8, 9, 2, 7, 3, 2, 2, 3, 2, 2, 4, 2, 7, 0, 2, 11, 2, 9, 3, 12, 2, 4, 7, 11, 9, 9, 4, 6, 2, 2, 3, 2, 0, 2, 2, 2, 2, 2, 0, 2, 7, 2, 13, 0, 13, 3, 7, 7, 4, 8, 4, 7, 2, 7, 4, 2, 6, 3, 3, 2, 0, 2, 9, 7, 8, 0, 3, 2, 4, 8, 2, 8, 3, 7, 1, 2, 4, 2, 7, 2, 7, 4, 5, 0, 7, 7, 0, 4, 0, 7, 4, 7, 2, 8, 2, 4, 7, 2, 3, 2, 7, 7, 6, 3, 2, 2, 2, 0, 7, 8, 2, 2, 2, 5, 2, 3, 8, 14, 3, 10, 7, 7, 2, 2, 3, 2, 2, 0, 7, 0, 7, 2, 10, 0, 3, 0, 7, 2, 6, 0, 8, 8, 0, 14, 9, 3, 2, 4, 0, 7, 2, 0, 2, 4, 2, 8, 8, 16, 0, 7, 7, 2, 3, 4, 7, 4, 1, 2, 7, 3, 9, 7, 2, 2, 11, 7, 0, 9, 7, 0, 3, 3, 0, 4, 4, 3, 2, 1, 1, 6, 2, 2, 7, 0, 9, 7, 0, 3, 8, 9, 2, 4, 0, 10, 7, 8, 4, 2, 4, 4, 10, 2, 7, 2, 11, 0, 8, 2, 7, 2, 0, 12, 2, 2, 8, 1, 1, 0, 2, 7, 11, 7, 8, 4, 0, 2, 2, 3, 4, 2, 9, 14, 10, 7, 11, 4, 2, 7, 9, 0, 1, 2, 2, 2, 1, 3, 4, 6, 7, 0, 3, 7, 3, 8, 2], \"xaxis\": \"x\", \"yaxis\": \"y\"}, {\"alignmentgroup\": \"True\", \"hoverlabel\": {\"namelength\": 0}, \"hovertemplate\": \"Attrition=0<br>YearsWithCurrManager=%{x}\", \"legendgroup\": \"Attrition=0\", \"marker\": {\"color\": \"#EF553B\"}, \"name\": \"Attrition=0\", \"notched\": true, \"offsetgroup\": \"Attrition=0\", \"showlegend\": false, \"type\": \"box\", \"x\": [7, 0, 2, 6, 0, 0, 8, 7, 3, 8, 3, 2, 8, 5, 0, 7, 2, 3, 11, 0, 8, 2, 17, 1, 0, 3, 8, 4, 2, 0, 3, 0, 0, 7, 7, 7, 0, 8, 1, 3, 3, 0, 12, 8, 2, 7, 7, 8, 9, 8, 9, 8, 2, 3, 0, 2, 3, 4, 0, 9, 0, 8, 8, 0, 2, 2, 0, 4, 0, 9, 3, 2, 0, 3, 8, 11, 0, 7, 5, 7, 3, 2, 4, 8, 2, 0, 10, 0, 2, 7, 1, 0, 8, 4, 2, 0, 3, 8, 8, 0, 12, 9, 7, 15, 3, 1, 11, 2, 1, 7, 7, 1, 9, 2, 7, 3, 2, 4, 7, 2, 2, 7, 4, 0, 13, 6, 5, 15, 7, 9, 0, 0, 11, 2, 2, 2, 2, 4, 1, 4, 8, 4, 7, 4, 1, 2, 10, 3, 2, 2, 7, 1, 2, 2, 2, 3, 6, 9, 15, 9, 0, 9, 3, 2, 8, 7, 2, 2, 0, 7, 0, 7, 0, 7, 2, 7, 2, 3, 8, 7, 7, 0, 8, 5, 7, 1, 7, 13, 4, 0, 8, 1, 8, 2, 15, 2, 6, 9, 12, 2, 2, 2, 0, 7, 7, 2, 2, 9, 2, 2, 8, 5, 2, 2, 2, 8, 9, 0, 3, 5, 4, 7, 0, 8, 5, 10, 11, 13, 4, 1, 0, 2, 2, 7, 4, 6, 3, 6, 9, 8, 3, 7, 2, 2, 2, 7, 2, 2, 8, 9, 0, 2, 4, 0, 7, 7, 7, 8, 8, 1, 2, 3, 0, 11, 2, 8, 10, 7, 7, 2, 9, 4, 7, 7, 9, 9, 3, 1, 1, 0, 4, 3, 0, 8, 2, 2, 2, 7, 4, 9, 10, 7, 13, 2, 2, 0, 0, 2, 0, 7, 0, 7, 2, 7, 0, 0, 12, 2, 7, 2, 3, 0, 3, 2, 2, 0, 4, 7, 0, 7, 2, 2, 3, 0, 2, 0, 17, 3, 2, 1, 9, 0, 2, 2, 12, 2, 2, 3, 7, 2, 6, 7, 4, 7, 8, 4, 2, 4, 2, 2, 10, 8, 4, 0, 12, 2, 4, 7, 8, 0, 7, 7, 11, 4, 1, 3, 0, 7, 2, 8, 2, 0, 0, 7, 7, 7, 10, 9, 13, 7, 5, 8, 7, 2, 5, 1, 1, 7, 0, 3, 7, 2, 2, 8, 7, 9, 1, 0, 3, 9, 4, 4, 0, 7, 6, 3, 2, 7, 3, 0, 0, 2, 0, 0, 7, 2, 2, 6, 2, 1, 2, 2, 5, 0, 10, 8, 2, 8, 2, 8, 7, 1, 2, 1, 0, 2, 2, 5, 8, 2, 4, 0, 8, 7, 10, 8, 8, 7, 7, 7, 12, 3, 6, 2, 7, 10, 2, 5, 0, 4, 13, 7, 0, 2, 3, 2, 6, 1, 3, 7, 2, 2, 0, 7, 1, 0, 16, 4, 1, 2, 4, 9, 2, 0, 1, 3, 4, 1, 3, 12, 3, 2, 2, 7, 2, 9, 0, 4, 3, 7, 0, 5, 7, 2, 2, 4, 8, 0, 0, 0, 8, 2, 3, 0, 8, 6, 5, 2, 0, 17, 3, 1, 8, 1, 11, 3, 3, 4, 2, 3, 0, 0, 4, 2, 2, 2, 3, 3, 15, 2, 3, 2, 4, 3, 2, 3, 2, 2, 8, 0, 8, 2, 7, 9, 7, 4, 3, 3, 1, 2, 0, 11, 2, 2, 0, 0, 3, 2, 4, 2, 7, 7, 0, 0, 1, 11, 2, 0, 7, 17, 9, 5, 0, 3, 4, 8, 2, 0, 8, 2, 7, 3, 8, 7, 7, 7, 0, 2, 2, 3, 2, 11, 2, 8, 7, 5, 2, 7, 2, 3, 0, 8, 1, 7, 3, 1, 2, 8, 1, 8, 2, 2, 0, 0, 3, 7, 10, 0, 11, 13, 8, 2, 1, 7, 9, 4, 4, 12, 0, 0, 2, 7, 1, 5, 3, 2, 0, 3, 8, 2, 0, 7, 3, 2, 8, 9, 1, 2, 2, 7, 2, 2, 4, 0, 7, 2, 0, 1, 12, 0, 7, 7, 7, 9, 0, 1, 9, 2, 3, 9, 2, 4, 2, 3, 2, 1, 0, 2, 0, 2, 0, 3, 2, 3, 4, 13, 5, 7, 2, 7, 4, 0, 4, 9, 2, 0, 2, 8, 0, 2, 11, 2, 7, 3, 9, 0, 4, 3, 0, 2, 3, 3, 7, 1, 7, 9, 17, 2, 4, 3, 9, 2, 7, 7, 10, 3, 1, 7, 0, 12, 8, 4, 7, 2, 9, 1, 8, 5, 7, 0, 7, 0, 3, 0, 0, 7, 0, 10, 8, 1, 1, 2, 0, 8, 2, 10, 4, 10, 2, 13, 8, 2, 0, 17, 12, 2, 7, 7, 2, 1, 8, 0, 2, 2, 7, 7, 7, 5, 2, 8, 7, 6, 9, 10, 11, 7, 0, 6, 8, 7, 1, 10, 7, 6, 2, 3, 13, 8, 0, 3, 0, 0, 0, 9, 0, 8, 7, 3, 11, 4, 4, 2, 3, 3, 2, 2, 5, 2, 2, 8, 4, 1, 9, 4, 2, 2, 2, 7, 9, 7, 5, 0, 1, 2, 0, 3, 4, 8, 2, 2, 3, 0, 6, 3, 3, 2, 3, 7, 9, 7, 2, 2, 2, 8, 3, 3, 8, 2, 2, 3, 3, 12, 2, 8, 0, 0, 8, 7, 9, 0, 0, 2, 4, 3, 2, 2, 2, 0, 3, 2, 2, 7, 0, 0, 12, 17, 2, 1, 3, 2, 6, 9, 7, 0, 7, 7, 2, 3, 9, 1, 7, 7, 0, 2, 7, 2, 5, 2, 7, 0, 2, 2, 2, 3, 2, 6, 0, 13, 1, 0, 7, 2, 0, 5, 4, 6, 3, 0, 2, 2, 1, 8, 7, 2, 2, 1, 12, 3, 13, 2, 10, 1, 4, 5, 3, 1, 2, 4, 7, 7, 10, 0, 2, 0, 7, 12, 9, 2, 8, 9, 2, 7, 3, 2, 2, 3, 2, 2, 4, 2, 7, 0, 2, 11, 2, 9, 3, 12, 2, 4, 7, 11, 9, 9, 4, 6, 2, 2, 3, 2, 0, 2, 2, 2, 2, 2, 0, 2, 7, 2, 13, 0, 13, 3, 7, 7, 4, 8, 4, 7, 2, 7, 4, 2, 6, 3, 3, 2, 0, 2, 9, 7, 8, 0, 3, 2, 4, 8, 2, 8, 3, 7, 1, 2, 4, 2, 7, 2, 7, 4, 5, 0, 7, 7, 0, 4, 0, 7, 4, 7, 2, 8, 2, 4, 7, 2, 3, 2, 7, 7, 6, 3, 2, 2, 2, 0, 7, 8, 2, 2, 2, 5, 2, 3, 8, 14, 3, 10, 7, 7, 2, 2, 3, 2, 2, 0, 7, 0, 7, 2, 10, 0, 3, 0, 7, 2, 6, 0, 8, 8, 0, 14, 9, 3, 2, 4, 0, 7, 2, 0, 2, 4, 2, 8, 8, 16, 0, 7, 7, 2, 3, 4, 7, 4, 1, 2, 7, 3, 9, 7, 2, 2, 11, 7, 0, 9, 7, 0, 3, 3, 0, 4, 4, 3, 2, 1, 1, 6, 2, 2, 7, 0, 9, 7, 0, 3, 8, 9, 2, 4, 0, 10, 7, 8, 4, 2, 4, 4, 10, 2, 7, 2, 11, 0, 8, 2, 7, 2, 0, 12, 2, 2, 8, 1, 1, 0, 2, 7, 11, 7, 8, 4, 0, 2, 2, 3, 4, 2, 9, 14, 10, 7, 11, 4, 2, 7, 9, 0, 1, 2, 2, 2, 1, 3, 4, 6, 7, 0, 3, 7, 3, 8, 2], \"xaxis\": \"x2\", \"yaxis\": \"y2\"}],\n",
              "                        {\"barmode\": \"relative\", \"legend\": {\"tracegroupgap\": 0}, \"margin\": {\"t\": 60}, \"template\": {\"data\": {\"bar\": [{\"error_x\": {\"color\": \"#2a3f5f\"}, \"error_y\": {\"color\": \"#2a3f5f\"}, \"marker\": {\"line\": {\"color\": \"#E5ECF6\", \"width\": 0.5}}, \"type\": \"bar\"}], \"barpolar\": [{\"marker\": {\"line\": {\"color\": \"#E5ECF6\", \"width\": 0.5}}, \"type\": \"barpolar\"}], \"carpet\": [{\"aaxis\": {\"endlinecolor\": \"#2a3f5f\", \"gridcolor\": \"white\", \"linecolor\": \"white\", \"minorgridcolor\": \"white\", \"startlinecolor\": \"#2a3f5f\"}, \"baxis\": {\"endlinecolor\": \"#2a3f5f\", \"gridcolor\": \"white\", \"linecolor\": \"white\", \"minorgridcolor\": \"white\", \"startlinecolor\": \"#2a3f5f\"}, \"type\": \"carpet\"}], \"choropleth\": [{\"colorbar\": {\"outlinewidth\": 0, \"ticks\": \"\"}, \"type\": \"choropleth\"}], \"contour\": [{\"colorbar\": {\"outlinewidth\": 0, \"ticks\": \"\"}, \"colorscale\": [[0.0, \"#0d0887\"], [0.1111111111111111, \"#46039f\"], [0.2222222222222222, \"#7201a8\"], [0.3333333333333333, \"#9c179e\"], [0.4444444444444444, \"#bd3786\"], [0.5555555555555556, \"#d8576b\"], [0.6666666666666666, \"#ed7953\"], [0.7777777777777778, \"#fb9f3a\"], [0.8888888888888888, \"#fdca26\"], [1.0, \"#f0f921\"]], \"type\": \"contour\"}], \"contourcarpet\": [{\"colorbar\": {\"outlinewidth\": 0, \"ticks\": \"\"}, \"type\": \"contourcarpet\"}], \"heatmap\": [{\"colorbar\": {\"outlinewidth\": 0, \"ticks\": \"\"}, \"colorscale\": [[0.0, \"#0d0887\"], [0.1111111111111111, \"#46039f\"], [0.2222222222222222, \"#7201a8\"], [0.3333333333333333, \"#9c179e\"], [0.4444444444444444, \"#bd3786\"], [0.5555555555555556, \"#d8576b\"], [0.6666666666666666, \"#ed7953\"], [0.7777777777777778, \"#fb9f3a\"], [0.8888888888888888, \"#fdca26\"], [1.0, \"#f0f921\"]], \"type\": \"heatmap\"}], \"heatmapgl\": [{\"colorbar\": {\"outlinewidth\": 0, \"ticks\": \"\"}, \"colorscale\": [[0.0, \"#0d0887\"], [0.1111111111111111, \"#46039f\"], [0.2222222222222222, \"#7201a8\"], [0.3333333333333333, \"#9c179e\"], [0.4444444444444444, \"#bd3786\"], [0.5555555555555556, \"#d8576b\"], [0.6666666666666666, \"#ed7953\"], [0.7777777777777778, \"#fb9f3a\"], [0.8888888888888888, \"#fdca26\"], [1.0, \"#f0f921\"]], \"type\": \"heatmapgl\"}], \"histogram\": [{\"marker\": {\"colorbar\": {\"outlinewidth\": 0, \"ticks\": \"\"}}, \"type\": \"histogram\"}], \"histogram2d\": [{\"colorbar\": {\"outlinewidth\": 0, \"ticks\": \"\"}, \"colorscale\": [[0.0, \"#0d0887\"], [0.1111111111111111, \"#46039f\"], [0.2222222222222222, \"#7201a8\"], [0.3333333333333333, \"#9c179e\"], [0.4444444444444444, \"#bd3786\"], [0.5555555555555556, \"#d8576b\"], [0.6666666666666666, \"#ed7953\"], [0.7777777777777778, \"#fb9f3a\"], [0.8888888888888888, \"#fdca26\"], [1.0, \"#f0f921\"]], \"type\": \"histogram2d\"}], \"histogram2dcontour\": [{\"colorbar\": {\"outlinewidth\": 0, \"ticks\": \"\"}, \"colorscale\": [[0.0, \"#0d0887\"], [0.1111111111111111, \"#46039f\"], [0.2222222222222222, \"#7201a8\"], [0.3333333333333333, \"#9c179e\"], [0.4444444444444444, \"#bd3786\"], [0.5555555555555556, \"#d8576b\"], [0.6666666666666666, \"#ed7953\"], [0.7777777777777778, \"#fb9f3a\"], [0.8888888888888888, \"#fdca26\"], [1.0, \"#f0f921\"]], \"type\": \"histogram2dcontour\"}], \"mesh3d\": [{\"colorbar\": {\"outlinewidth\": 0, \"ticks\": \"\"}, \"type\": \"mesh3d\"}], \"parcoords\": [{\"line\": {\"colorbar\": {\"outlinewidth\": 0, \"ticks\": \"\"}}, \"type\": \"parcoords\"}], \"pie\": [{\"automargin\": true, \"type\": \"pie\"}], \"scatter\": [{\"marker\": {\"colorbar\": {\"outlinewidth\": 0, \"ticks\": \"\"}}, \"type\": \"scatter\"}], \"scatter3d\": [{\"line\": {\"colorbar\": {\"outlinewidth\": 0, \"ticks\": \"\"}}, \"marker\": {\"colorbar\": {\"outlinewidth\": 0, \"ticks\": \"\"}}, \"type\": \"scatter3d\"}], \"scattercarpet\": [{\"marker\": {\"colorbar\": {\"outlinewidth\": 0, \"ticks\": \"\"}}, \"type\": \"scattercarpet\"}], \"scattergeo\": [{\"marker\": {\"colorbar\": {\"outlinewidth\": 0, \"ticks\": \"\"}}, \"type\": \"scattergeo\"}], \"scattergl\": [{\"marker\": {\"colorbar\": {\"outlinewidth\": 0, \"ticks\": \"\"}}, \"type\": \"scattergl\"}], \"scattermapbox\": [{\"marker\": {\"colorbar\": {\"outlinewidth\": 0, \"ticks\": \"\"}}, \"type\": \"scattermapbox\"}], \"scatterpolar\": [{\"marker\": {\"colorbar\": {\"outlinewidth\": 0, \"ticks\": \"\"}}, \"type\": \"scatterpolar\"}], \"scatterpolargl\": [{\"marker\": {\"colorbar\": {\"outlinewidth\": 0, \"ticks\": \"\"}}, \"type\": \"scatterpolargl\"}], \"scatterternary\": [{\"marker\": {\"colorbar\": {\"outlinewidth\": 0, \"ticks\": \"\"}}, \"type\": \"scatterternary\"}], \"surface\": [{\"colorbar\": {\"outlinewidth\": 0, \"ticks\": \"\"}, \"colorscale\": [[0.0, \"#0d0887\"], [0.1111111111111111, \"#46039f\"], [0.2222222222222222, \"#7201a8\"], [0.3333333333333333, \"#9c179e\"], [0.4444444444444444, \"#bd3786\"], [0.5555555555555556, \"#d8576b\"], [0.6666666666666666, \"#ed7953\"], [0.7777777777777778, \"#fb9f3a\"], [0.8888888888888888, \"#fdca26\"], [1.0, \"#f0f921\"]], \"type\": \"surface\"}], \"table\": [{\"cells\": {\"fill\": {\"color\": \"#EBF0F8\"}, \"line\": {\"color\": \"white\"}}, \"header\": {\"fill\": {\"color\": \"#C8D4E3\"}, \"line\": {\"color\": \"white\"}}, \"type\": \"table\"}]}, \"layout\": {\"annotationdefaults\": {\"arrowcolor\": \"#2a3f5f\", \"arrowhead\": 0, \"arrowwidth\": 1}, \"coloraxis\": {\"colorbar\": {\"outlinewidth\": 0, \"ticks\": \"\"}}, \"colorscale\": {\"diverging\": [[0, \"#8e0152\"], [0.1, \"#c51b7d\"], [0.2, \"#de77ae\"], [0.3, \"#f1b6da\"], [0.4, \"#fde0ef\"], [0.5, \"#f7f7f7\"], [0.6, \"#e6f5d0\"], [0.7, \"#b8e186\"], [0.8, \"#7fbc41\"], [0.9, \"#4d9221\"], [1, \"#276419\"]], \"sequential\": [[0.0, \"#0d0887\"], [0.1111111111111111, \"#46039f\"], [0.2222222222222222, \"#7201a8\"], [0.3333333333333333, \"#9c179e\"], [0.4444444444444444, \"#bd3786\"], [0.5555555555555556, \"#d8576b\"], [0.6666666666666666, \"#ed7953\"], [0.7777777777777778, \"#fb9f3a\"], [0.8888888888888888, \"#fdca26\"], [1.0, \"#f0f921\"]], \"sequentialminus\": [[0.0, \"#0d0887\"], [0.1111111111111111, \"#46039f\"], [0.2222222222222222, \"#7201a8\"], [0.3333333333333333, \"#9c179e\"], [0.4444444444444444, \"#bd3786\"], [0.5555555555555556, \"#d8576b\"], [0.6666666666666666, \"#ed7953\"], [0.7777777777777778, \"#fb9f3a\"], [0.8888888888888888, \"#fdca26\"], [1.0, \"#f0f921\"]]}, \"colorway\": [\"#636efa\", \"#EF553B\", \"#00cc96\", \"#ab63fa\", \"#FFA15A\", \"#19d3f3\", \"#FF6692\", \"#B6E880\", \"#FF97FF\", \"#FECB52\"], \"font\": {\"color\": \"#2a3f5f\"}, \"geo\": {\"bgcolor\": \"white\", \"lakecolor\": \"white\", \"landcolor\": \"#E5ECF6\", \"showlakes\": true, \"showland\": true, \"subunitcolor\": \"white\"}, \"hoverlabel\": {\"align\": \"left\"}, \"hovermode\": \"closest\", \"mapbox\": {\"style\": \"light\"}, \"paper_bgcolor\": \"white\", \"plot_bgcolor\": \"#E5ECF6\", \"polar\": {\"angularaxis\": {\"gridcolor\": \"white\", \"linecolor\": \"white\", \"ticks\": \"\"}, \"bgcolor\": \"#E5ECF6\", \"radialaxis\": {\"gridcolor\": \"white\", \"linecolor\": \"white\", \"ticks\": \"\"}}, \"scene\": {\"xaxis\": {\"backgroundcolor\": \"#E5ECF6\", \"gridcolor\": \"white\", \"gridwidth\": 2, \"linecolor\": \"white\", \"showbackground\": true, \"ticks\": \"\", \"zerolinecolor\": \"white\"}, \"yaxis\": {\"backgroundcolor\": \"#E5ECF6\", \"gridcolor\": \"white\", \"gridwidth\": 2, \"linecolor\": \"white\", \"showbackground\": true, \"ticks\": \"\", \"zerolinecolor\": \"white\"}, \"zaxis\": {\"backgroundcolor\": \"#E5ECF6\", \"gridcolor\": \"white\", \"gridwidth\": 2, \"linecolor\": \"white\", \"showbackground\": true, \"ticks\": \"\", \"zerolinecolor\": \"white\"}}, \"shapedefaults\": {\"line\": {\"color\": \"#2a3f5f\"}}, \"ternary\": {\"aaxis\": {\"gridcolor\": \"white\", \"linecolor\": \"white\", \"ticks\": \"\"}, \"baxis\": {\"gridcolor\": \"white\", \"linecolor\": \"white\", \"ticks\": \"\"}, \"bgcolor\": \"#E5ECF6\", \"caxis\": {\"gridcolor\": \"white\", \"linecolor\": \"white\", \"ticks\": \"\"}}, \"title\": {\"x\": 0.05}, \"xaxis\": {\"automargin\": true, \"gridcolor\": \"white\", \"linecolor\": \"white\", \"ticks\": \"\", \"title\": {\"standoff\": 15}, \"zerolinecolor\": \"white\", \"zerolinewidth\": 2}, \"yaxis\": {\"automargin\": true, \"gridcolor\": \"white\", \"linecolor\": \"white\", \"ticks\": \"\", \"title\": {\"standoff\": 15}, \"zerolinecolor\": \"white\", \"zerolinewidth\": 2}}}, \"xaxis\": {\"anchor\": \"y\", \"domain\": [0.0, 1.0], \"title\": {\"text\": \"YearsWithCurrManager\"}}, \"xaxis2\": {\"anchor\": \"y2\", \"domain\": [0.0, 1.0], \"matches\": \"x\", \"showgrid\": true, \"showticklabels\": false}, \"yaxis\": {\"anchor\": \"x\", \"domain\": [0.0, 0.7326], \"title\": {\"text\": \"count\"}}, \"yaxis2\": {\"anchor\": \"x2\", \"domain\": [0.7426, 1.0], \"matches\": \"y2\", \"showgrid\": false, \"showline\": false, \"showticklabels\": false, \"ticks\": \"\"}},\n",
              "                        {\"responsive\": true}\n",
              "                    ).then(function(){\n",
              "                            \n",
              "var gd = document.getElementById('b0de98a5-48bd-43e4-998c-62a219d9574b');\n",
              "var x = new MutationObserver(function (mutations, observer) {{\n",
              "        var display = window.getComputedStyle(gd).display;\n",
              "        if (!display || display === 'none') {{\n",
              "            console.log([gd, 'removed!']);\n",
              "            Plotly.purge(gd);\n",
              "            observer.disconnect();\n",
              "        }}\n",
              "}});\n",
              "\n",
              "// Listen for the removal of the full notebook cells\n",
              "var notebookContainer = gd.closest('#notebook-container');\n",
              "if (notebookContainer) {{\n",
              "    x.observe(notebookContainer, {childList: true});\n",
              "}}\n",
              "\n",
              "// Listen for the clearing of the current output cell\n",
              "var outputEl = gd.closest('.output');\n",
              "if (outputEl) {{\n",
              "    x.observe(outputEl, {childList: true});\n",
              "}}\n",
              "\n",
              "                        })\n",
              "                };\n",
              "                \n",
              "            </script>\n",
              "        </div>\n",
              "</body>\n",
              "</html>"
            ]
          },
          "metadata": {
            "tags": []
          }
        }
      ]
    },
    {
      "cell_type": "markdown",
      "metadata": {
        "id": "0uK8TpmV3vV1"
      },
      "source": [
        "\n",
        "It is not important for the employee only the material factor (salary), but the moral factor is very important, the following diagram shows the relationship between them\n"
      ]
    },
    {
      "cell_type": "code",
      "metadata": {
        "colab": {
          "base_uri": "https://localhost:8080/",
          "height": 542
        },
        "id": "8_VU3E-82pEm",
        "outputId": "3f660d5f-f2bb-4206-9bc6-37ec2ad34b52"
      },
      "source": [
        "figuer = px.box(HrData, x = 'Attrition', y = 'MonthlyIncome', color = 'Attrition')\n",
        "figuer.show()"
      ],
      "execution_count": 19,
      "outputs": [
        {
          "output_type": "display_data",
          "data": {
            "text/html": [
              "<html>\n",
              "<head><meta charset=\"utf-8\" /></head>\n",
              "<body>\n",
              "    <div>\n",
              "            <script src=\"https://cdnjs.cloudflare.com/ajax/libs/mathjax/2.7.5/MathJax.js?config=TeX-AMS-MML_SVG\"></script><script type=\"text/javascript\">if (window.MathJax) {MathJax.Hub.Config({SVG: {font: \"STIX-Web\"}});}</script>\n",
              "                <script type=\"text/javascript\">window.PlotlyConfig = {MathJaxConfig: 'local'};</script>\n",
              "        <script src=\"https://cdn.plot.ly/plotly-latest.min.js\"></script>    \n",
              "            <div id=\"8279bf43-e2ee-460a-b36d-35dba6225747\" class=\"plotly-graph-div\" style=\"height:525px; width:100%;\"></div>\n",
              "            <script type=\"text/javascript\">\n",
              "                \n",
              "                    window.PLOTLYENV=window.PLOTLYENV || {};\n",
              "                    \n",
              "                if (document.getElementById(\"8279bf43-e2ee-460a-b36d-35dba6225747\")) {\n",
              "                    Plotly.newPlot(\n",
              "                        '8279bf43-e2ee-460a-b36d-35dba6225747',\n",
              "                        [{\"alignmentgroup\": \"True\", \"hoverlabel\": {\"namelength\": 0}, \"hovertemplate\": \"Attrition=%{x}<br>MonthlyIncome=%{y}\", \"legendgroup\": \"Attrition=1\", \"marker\": {\"color\": \"#636efa\"}, \"name\": \"Attrition=1\", \"notched\": false, \"offsetgroup\": \"Attrition=1\", \"orientation\": \"v\", \"showlegend\": true, \"type\": \"box\", \"x\": [1, 1, 1, 1, 1, 1, 1, 1, 1, 1, 1, 1, 1, 1, 1, 1, 1, 1, 1, 1, 1, 1, 1, 1, 1, 1, 1, 1, 1, 1, 1, 1, 1, 1, 1, 1, 1, 1, 1, 1, 1, 1, 1, 1, 1, 1, 1, 1, 1, 1, 1, 1, 1, 1, 1, 1, 1, 1, 1, 1, 1, 1, 1, 1, 1, 1, 1, 1, 1, 1, 1, 1, 1, 1, 1, 1, 1, 1, 1, 1, 1, 1, 1, 1, 1, 1, 1, 1, 1, 1, 1, 1, 1, 1, 1, 1, 1, 1, 1, 1, 1, 1, 1, 1, 1, 1, 1, 1, 1, 1, 1, 1, 1, 1, 1, 1, 1, 1, 1, 1, 1, 1, 1, 1, 1, 1, 1, 1, 1, 1, 1, 1, 1, 1, 1, 1, 1, 1, 1, 1, 1, 1, 1, 1, 1, 1, 1, 1, 1, 1, 1, 1, 1, 1, 1, 1, 1, 1, 1, 1, 1, 1, 1, 1, 1, 1, 1, 1, 1, 1, 1, 1, 1, 1, 1, 1, 1, 1, 1, 1, 1, 1, 1, 1, 1, 1, 1, 1, 1, 1, 1, 1, 1, 1, 1, 1, 1, 1, 1, 1, 1, 1, 1, 1, 1, 1, 1, 1, 1, 1, 1, 1, 1, 1, 1, 1, 1, 1, 1, 1, 1, 1, 1, 1, 1, 1, 1, 1, 1, 1, 1, 1, 1, 1, 1, 1, 1], \"x0\": \" \", \"xaxis\": \"x\", \"y\": [5993, 2090, 2028, 3407, 2960, 3919, 2086, 2293, 2683, 2293, 19545, 5381, 3441, 3388, 9619, 2073, 2926, 5744, 6074, 4963, 6172, 10312, 1675, 4559, 10650, 4200, 2325, 1102, 3140, 5916, 6673, 7639, 10400, 2657, 6696, 2058, 2389, 2436, 2707, 3730, 10048, 3479, 3485, 11849, 3161, 2373, 5828, 1420, 4941, 3464, 5238, 2119, 2174, 2851, 9355, 6380, 2716, 5304, 3102, 2285, 4031, 3202, 2351, 2546, 2564, 13610, 3408, 9824, 9950, 3894, 2741, 1878, 2340, 4707, 2886, 2033, 4233, 3041, 4286, 1009, 3348, 4577, 6796, 2216, 2759, 2686, 6397, 19859, 5326, 1601, 2319, 5324, 19246, 4382, 7654, 5160, 2366, 2022, 2800, 2795, 2380, 2044, 2693, 4171, 2778, 2404, 2413, 2121, 2973, 10325, 10609, 2479, 13194, 2321, 2404, 2132, 3743, 2600, 2422, 4777, 4969, 19845, 2743, 4834, 2042, 2323, 1416, 2461, 8722, 10482, 9582, 4508, 3691, 2377, 2313, 2596, 4728, 12169, 1904, 8224, 2610, 7336, 13758, 2515, 5346, 2936, 2853, 2107, 2210, 1859, 1118, 18824, 2625, 7978, 3339, 4883, 3904, 9094, 8446, 2302, 2362, 10008, 13695, 2785, 4614, 6179, 2394, 4284, 7553, 1359, 1261, 4400, 10096, 3646, 7446, 3722, 2742, 2909, 5765, 4599, 3172, 2561, 2362, 2018, 4084, 9714, 2074, 10169, 4855, 2408, 1569, 10306, 5440, 2166, 4581, 3989, 2655, 1393, 2275, 1555, 12936, 6134, 6735, 2180, 2760, 8564, 8161, 2437, 2679, 2398, 2342, 5813, 5346, 4213, 2148, 8926, 2956, 2335, 9907, 2439, 7314, 1081, 2472, 2307, 2587, 1091, 9854, 2432, 2863, 2367, 5617, 10448, 1790, 4787, 2339, 6728, 10854], \"y0\": \" \", \"yaxis\": \"y\"}, {\"alignmentgroup\": \"True\", \"hoverlabel\": {\"namelength\": 0}, \"hovertemplate\": \"Attrition=%{x}<br>MonthlyIncome=%{y}\", \"legendgroup\": \"Attrition=0\", \"marker\": {\"color\": \"#EF553B\"}, \"name\": \"Attrition=0\", \"notched\": false, \"offsetgroup\": \"Attrition=0\", \"orientation\": \"v\", \"showlegend\": true, \"type\": \"box\", \"x\": [0, 0, 0, 0, 0, 0, 0, 0, 0, 0, 0, 0, 0, 0, 0, 0, 0, 0, 0, 0, 0, 0, 0, 0, 0, 0, 0, 0, 0, 0, 0, 0, 0, 0, 0, 0, 0, 0, 0, 0, 0, 0, 0, 0, 0, 0, 0, 0, 0, 0, 0, 0, 0, 0, 0, 0, 0, 0, 0, 0, 0, 0, 0, 0, 0, 0, 0, 0, 0, 0, 0, 0, 0, 0, 0, 0, 0, 0, 0, 0, 0, 0, 0, 0, 0, 0, 0, 0, 0, 0, 0, 0, 0, 0, 0, 0, 0, 0, 0, 0, 0, 0, 0, 0, 0, 0, 0, 0, 0, 0, 0, 0, 0, 0, 0, 0, 0, 0, 0, 0, 0, 0, 0, 0, 0, 0, 0, 0, 0, 0, 0, 0, 0, 0, 0, 0, 0, 0, 0, 0, 0, 0, 0, 0, 0, 0, 0, 0, 0, 0, 0, 0, 0, 0, 0, 0, 0, 0, 0, 0, 0, 0, 0, 0, 0, 0, 0, 0, 0, 0, 0, 0, 0, 0, 0, 0, 0, 0, 0, 0, 0, 0, 0, 0, 0, 0, 0, 0, 0, 0, 0, 0, 0, 0, 0, 0, 0, 0, 0, 0, 0, 0, 0, 0, 0, 0, 0, 0, 0, 0, 0, 0, 0, 0, 0, 0, 0, 0, 0, 0, 0, 0, 0, 0, 0, 0, 0, 0, 0, 0, 0, 0, 0, 0, 0, 0, 0, 0, 0, 0, 0, 0, 0, 0, 0, 0, 0, 0, 0, 0, 0, 0, 0, 0, 0, 0, 0, 0, 0, 0, 0, 0, 0, 0, 0, 0, 0, 0, 0, 0, 0, 0, 0, 0, 0, 0, 0, 0, 0, 0, 0, 0, 0, 0, 0, 0, 0, 0, 0, 0, 0, 0, 0, 0, 0, 0, 0, 0, 0, 0, 0, 0, 0, 0, 0, 0, 0, 0, 0, 0, 0, 0, 0, 0, 0, 0, 0, 0, 0, 0, 0, 0, 0, 0, 0, 0, 0, 0, 0, 0, 0, 0, 0, 0, 0, 0, 0, 0, 0, 0, 0, 0, 0, 0, 0, 0, 0, 0, 0, 0, 0, 0, 0, 0, 0, 0, 0, 0, 0, 0, 0, 0, 0, 0, 0, 0, 0, 0, 0, 0, 0, 0, 0, 0, 0, 0, 0, 0, 0, 0, 0, 0, 0, 0, 0, 0, 0, 0, 0, 0, 0, 0, 0, 0, 0, 0, 0, 0, 0, 0, 0, 0, 0, 0, 0, 0, 0, 0, 0, 0, 0, 0, 0, 0, 0, 0, 0, 0, 0, 0, 0, 0, 0, 0, 0, 0, 0, 0, 0, 0, 0, 0, 0, 0, 0, 0, 0, 0, 0, 0, 0, 0, 0, 0, 0, 0, 0, 0, 0, 0, 0, 0, 0, 0, 0, 0, 0, 0, 0, 0, 0, 0, 0, 0, 0, 0, 0, 0, 0, 0, 0, 0, 0, 0, 0, 0, 0, 0, 0, 0, 0, 0, 0, 0, 0, 0, 0, 0, 0, 0, 0, 0, 0, 0, 0, 0, 0, 0, 0, 0, 0, 0, 0, 0, 0, 0, 0, 0, 0, 0, 0, 0, 0, 0, 0, 0, 0, 0, 0, 0, 0, 0, 0, 0, 0, 0, 0, 0, 0, 0, 0, 0, 0, 0, 0, 0, 0, 0, 0, 0, 0, 0, 0, 0, 0, 0, 0, 0, 0, 0, 0, 0, 0, 0, 0, 0, 0, 0, 0, 0, 0, 0, 0, 0, 0, 0, 0, 0, 0, 0, 0, 0, 0, 0, 0, 0, 0, 0, 0, 0, 0, 0, 0, 0, 0, 0, 0, 0, 0, 0, 0, 0, 0, 0, 0, 0, 0, 0, 0, 0, 0, 0, 0, 0, 0, 0, 0, 0, 0, 0, 0, 0, 0, 0, 0, 0, 0, 0, 0, 0, 0, 0, 0, 0, 0, 0, 0, 0, 0, 0, 0, 0, 0, 0, 0, 0, 0, 0, 0, 0, 0, 0, 0, 0, 0, 0, 0, 0, 0, 0, 0, 0, 0, 0, 0, 0, 0, 0, 0, 0, 0, 0, 0, 0, 0, 0, 0, 0, 0, 0, 0, 0, 0, 0, 0, 0, 0, 0, 0, 0, 0, 0, 0, 0, 0, 0, 0, 0, 0, 0, 0, 0, 0, 0, 0, 0, 0, 0, 0, 0, 0, 0, 0, 0, 0, 0, 0, 0, 0, 0, 0, 0, 0, 0, 0, 0, 0, 0, 0, 0, 0, 0, 0, 0, 0, 0, 0, 0, 0, 0, 0, 0, 0, 0, 0, 0, 0, 0, 0, 0, 0, 0, 0, 0, 0, 0, 0, 0, 0, 0, 0, 0, 0, 0, 0, 0, 0, 0, 0, 0, 0, 0, 0, 0, 0, 0, 0, 0, 0, 0, 0, 0, 0, 0, 0, 0, 0, 0, 0, 0, 0, 0, 0, 0, 0, 0, 0, 0, 0, 0, 0, 0, 0, 0, 0, 0, 0, 0, 0, 0, 0, 0, 0, 0, 0, 0, 0, 0, 0, 0, 0, 0, 0, 0, 0, 0, 0, 0, 0, 0, 0, 0, 0, 0, 0, 0, 0, 0, 0, 0, 0, 0, 0, 0, 0, 0, 0, 0, 0, 0, 0, 0, 0, 0, 0, 0, 0, 0, 0, 0, 0, 0, 0, 0, 0, 0, 0, 0, 0, 0, 0, 0, 0, 0, 0, 0, 0, 0, 0, 0, 0, 0, 0, 0, 0, 0, 0, 0, 0, 0, 0, 0, 0, 0, 0, 0, 0, 0, 0, 0, 0, 0, 0, 0, 0, 0, 0, 0, 0, 0, 0, 0, 0, 0, 0, 0, 0, 0, 0, 0, 0, 0, 0, 0, 0, 0, 0, 0, 0, 0, 0, 0, 0, 0, 0, 0, 0, 0, 0, 0, 0, 0, 0, 0, 0, 0, 0, 0, 0, 0, 0, 0, 0, 0, 0, 0, 0, 0, 0, 0, 0, 0, 0, 0, 0, 0, 0, 0, 0, 0, 0, 0, 0, 0, 0, 0, 0, 0, 0, 0, 0, 0, 0, 0, 0, 0, 0, 0, 0, 0, 0, 0, 0, 0, 0, 0, 0, 0, 0, 0, 0, 0, 0, 0, 0, 0, 0, 0, 0, 0, 0, 0, 0, 0, 0, 0, 0, 0, 0, 0, 0, 0, 0, 0, 0, 0, 0, 0, 0, 0, 0, 0, 0, 0, 0, 0, 0, 0, 0, 0, 0, 0, 0, 0, 0, 0, 0, 0, 0, 0, 0, 0, 0, 0, 0, 0, 0, 0, 0, 0, 0, 0, 0, 0, 0, 0, 0, 0, 0, 0, 0, 0, 0, 0, 0, 0, 0, 0, 0, 0, 0, 0, 0, 0, 0, 0, 0, 0, 0, 0, 0, 0, 0, 0, 0, 0, 0, 0, 0, 0, 0, 0, 0, 0, 0, 0, 0, 0, 0, 0, 0, 0, 0, 0, 0, 0, 0, 0, 0, 0, 0, 0, 0, 0, 0, 0, 0, 0, 0, 0, 0, 0, 0, 0, 0, 0, 0, 0, 0, 0, 0, 0, 0, 0, 0, 0, 0, 0, 0, 0, 0, 0, 0, 0, 0, 0, 0, 0, 0, 0, 0, 0, 0, 0, 0, 0, 0, 0, 0, 0, 0, 0, 0, 0, 0, 0, 0, 0, 0, 0, 0, 0, 0, 0, 0, 0, 0, 0, 0, 0, 0, 0, 0, 0, 0, 0, 0, 0, 0, 0, 0, 0, 0, 0, 0, 0, 0, 0, 0, 0, 0, 0, 0, 0, 0, 0, 0, 0, 0, 0, 0, 0, 0, 0, 0, 0, 0, 0, 0, 0, 0, 0, 0, 0, 0, 0, 0, 0, 0, 0, 0, 0, 0], \"x0\": \" \", \"xaxis\": \"x\", \"y\": [5130, 2909, 3468, 3068, 2670, 2693, 9526, 5237, 2426, 4193, 2911, 2661, 9980, 3298, 2935, 15427, 3944, 4011, 11994, 1232, 19094, 6825, 10248, 18947, 2496, 6465, 2206, 2645, 2014, 3419, 5376, 1951, 2341, 8726, 4011, 4568, 3022, 5772, 2269, 5454, 9884, 4157, 13458, 9069, 4014, 5915, 5993, 6162, 2406, 18740, 7637, 10096, 14756, 6499, 9724, 2194, 5473, 2703, 2501, 6220, 3038, 4424, 4312, 13245, 13664, 5021, 5126, 2859, 10239, 5329, 4325, 7260, 2322, 2075, 4152, 13503, 5441, 5209, 10673, 5010, 13549, 4999, 4221, 13872, 2042, 2956, 4809, 5163, 18844, 18172, 2889, 2871, 7484, 17328, 2774, 4505, 7428, 11631, 9738, 2835, 16959, 2613, 6146, 19537, 2368, 2523, 6567, 4739, 9208, 8189, 2942, 4941, 5902, 8639, 6347, 3452, 4317, 2632, 4668, 3204, 2720, 17181, 2238, 1483, 5605, 7295, 2306, 2348, 8998, 4319, 6132, 3346, 10855, 2231, 2323, 2024, 2713, 9439, 2566, 19926, 2451, 9419, 8686, 3038, 3058, 2088, 3072, 5006, 4257, 2500, 10453, 2288, 3929, 2311, 3690, 4450, 2756, 19033, 18722, 9547, 13734, 19999, 2279, 2089, 16792, 3564, 4425, 5265, 6553, 6261, 4298, 6804, 3815, 2741, 2328, 2153, 4876, 9396, 8474, 9981, 12490, 13591, 8865, 5940, 5914, 2622, 12185, 10609, 4345, 2177, 2793, 7918, 8789, 3212, 19232, 2267, 19517, 16064, 19068, 3931, 2232, 4465, 3072, 3319, 19202, 13675, 2911, 5957, 3920, 6434, 10938, 2340, 6545, 6931, 4898, 2593, 19436, 2723, 2794, 5249, 2176, 16872, 6644, 5582, 4000, 13496, 3210, 19045, 2070, 6502, 3230, 13603, 11996, 5605, 6397, 19144, 17584, 4907, 4554, 5415, 4741, 2115, 5745, 3310, 18665, 4485, 2789, 2326, 13525, 8020, 3688, 5482, 16015, 1200, 5661, 6929, 9613, 5674, 5484, 12061, 5660, 4821, 6410, 5210, 2695, 11878, 17068, 2455, 13964, 2478, 5228, 4478, 7547, 5055, 5775, 8943, 19272, 4682, 18300, 5257, 6349, 4869, 9985, 3697, 7457, 3983, 6118, 6214, 6347, 11510, 7143, 8268, 8095, 2904, 6032, 2976, 15992, 4649, 2696, 2370, 12504, 5974, 4736, 5296, 6781, 6653, 9699, 6755, 2213, 2610, 3452, 5258, 10496, 2657, 2201, 6540, 3816, 5253, 10965, 4936, 2543, 16659, 4260, 2476, 2244, 7596, 3034, 5715, 2576, 4197, 14336, 3448, 19406, 6538, 4306, 2258, 4522, 4487, 4449, 2218, 19197, 13212, 6577, 8392, 4558, 7969, 2654, 16555, 4556, 6091, 19566, 4810, 4523, 1702, 18041, 2886, 2097, 11935, 8412, 14118, 17046, 2564, 10266, 5070, 17861, 4230, 3780, 2768, 9071, 10648, 2983, 7632, 2093, 9980, 4051, 16835, 6230, 4717, 13237, 3755, 6582, 7406, 4805, 4262, 16184, 11557, 10932, 6811, 4306, 4859, 5337, 7491, 10527, 16595, 8834, 5577, 2400, 9824, 6447, 19502, 2725, 6272, 2127, 18200, 2096, 3622, 3681, 5460, 2187, 9602, 2836, 4089, 16627, 2619, 5679, 15402, 5985, 2579, 3447, 19513, 2773, 7104, 6322, 2083, 8381, 2691, 2659, 9434, 5561, 6646, 7725, 10725, 8847, 2045, 1281, 2819, 4851, 4028, 2720, 8120, 4647, 4680, 3221, 8621, 4553, 5396, 7625, 7412, 11159, 4960, 10475, 14814, 19141, 5405, 8793, 19189, 3875, 11713, 7861, 3708, 13770, 5304, 2642, 6804, 6142, 2500, 6389, 11103, 2342, 6811, 2297, 2450, 5093, 5309, 3057, 5121, 16856, 6180, 6632, 3505, 6274, 7587, 4258, 4364, 4335, 3280, 5485, 4342, 2782, 5980, 4381, 2572, 3833, 4244, 6500, 18430, 2694, 3149, 17639, 11691, 16752, 5228, 2700, 2506, 6062, 2143, 6162, 5094, 6877, 2274, 4434, 6288, 2553, 17159, 12808, 10221, 4779, 3737, 1706, 16307, 5933, 3424, 4037, 2559, 6201, 4403, 3761, 10934, 10761, 5175, 13826, 6334, 4936, 4775, 2818, 2515, 2342, 4194, 10685, 2314, 4256, 3580, 3162, 6524, 2899, 5231, 2356, 11836, 10903, 2973, 14275, 5562, 4537, 7642, 17924, 5204, 2277, 2532, 2559, 4908, 4765, 6586, 3294, 2377, 2318, 2008, 6244, 2799, 10552, 2329, 4014, 7403, 2259, 6932, 4678, 13582, 2332, 9705, 4294, 4721, 2519, 5855, 3617, 6725, 6949, 4447, 2157, 4601, 17099, 14852, 7264, 5666, 7823, 7880, 5067, 5079, 17444, 3452, 2270, 17399, 5488, 19419, 2811, 3633, 4163, 13973, 2684, 10845, 4377, 4148, 1051, 10739, 10388, 11416, 5472, 2451, 4240, 10999, 5003, 12742, 4227, 3917, 18303, 2380, 13726, 6385, 19973, 6861, 13320, 6347, 10880, 2342, 17650, 4025, 9725, 11904, 2177, 7525, 2220, 1052, 2821, 19237, 4107, 8396, 2007, 19627, 10686, 2942, 8858, 16756, 10798, 4615, 3955, 9957, 3376, 8823, 10322, 4621, 10976, 3660, 7119, 2207, 7756, 6694, 17665, 4302, 2979, 16885, 5593, 10445, 8740, 2514, 7655, 17465, 7351, 10820, 19626, 2070, 6782, 7779, 2791, 3201, 4968, 13120, 4033, 3291, 4272, 5056, 2844, 2703, 4766, 5731, 2539, 5714, 4323, 13499, 5155, 2258, 3597, 4420, 6578, 4422, 10274, 5343, 2376, 2827, 19943, 3131, 2552, 4477, 6474, 3033, 18606, 2168, 17048, 2290, 3600, 4115, 4327, 17856, 3196, 19081, 8966, 4539, 2741, 3491, 4541, 2678, 7379, 6272, 5220, 2743, 4998, 10252, 2781, 6852, 4950, 3579, 13191, 10377, 2235, 10502, 2011, 3760, 17779, 6833, 6812, 5171, 19740, 18711, 3692, 2559, 2517, 6623, 18265, 16124, 2585, 18213, 8380, 2994, 1223, 2875, 13577, 18789, 4538, 19847, 10512, 4444, 2154, 19190, 4490, 3506, 2372, 10231, 5410, 3867, 2838, 4695, 2080, 2096, 6209, 18061, 17123, 2372, 4627, 7094, 3423, 6674, 16880, 11916, 4534, 9852, 6151, 17861, 19187, 19717, 3544, 8500, 4661, 4103, 4249, 14026, 6893, 6125, 3669, 2387, 4639, 7898, 2534, 13142, 1611, 5363, 5071, 13402, 2029, 6377, 5429, 2610, 6687, 4724, 6120, 10596, 5467, 2996, 9998, 4078, 10920, 6232, 13247, 4081, 5769, 3904, 16799, 2950, 3629, 9362, 3229, 3578, 7988, 17328, 19701, 14732, 9278, 4779, 16422, 2996, 2099, 5810, 5647, 3420, 3500, 2066, 17169, 4162, 9204, 3294, 2127, 3975, 10793, 10851, 2109, 9380, 5486, 13757, 8463, 3162, 16598, 6651, 2345, 3420, 4373, 4759, 5301, 3673, 4768, 1274, 4900, 10466, 17007, 2404, 2033, 10209, 8620, 2064, 4035, 3838, 4591, 1563, 4898, 4789, 3180, 6549, 6388, 11244, 16032, 16328, 8376, 16606, 8606, 2272, 7083, 14411, 2308, 4841, 4285, 9715, 4320, 2132, 10124, 5473, 5207, 16437, 2296, 4069, 7441, 2430, 5878, 2644, 6439, 2451, 6392, 6077, 2450, 9250, 4087, 2367, 2972, 19586, 5484, 2061, 9924, 4198, 6815, 4723, 6142, 8237, 8853, 19331, 2073, 5562, 19613, 3407, 5063, 4639, 4876, 2690, 17567, 2814, 11245, 3312, 19049, 2141, 5769, 4385, 5332, 4663, 4724, 3211, 5377, 4066, 5208, 4877, 3117, 19658, 3069, 10435, 4148, 5768, 5042, 5770, 7756, 3936, 7945, 5743, 15202, 3760, 3517, 2580, 5869, 8008, 5206, 5295, 16413, 13269, 2783, 5433, 2013, 13966, 4374, 6842, 17426, 17603, 4735, 4187, 5505, 5470, 5476, 2587, 2440, 15972, 15379, 7082, 2728, 5368, 5347, 3195, 3306, 7005, 2570, 3537, 3986, 10883, 2028, 9525, 2929, 7879, 4930, 7847, 4401, 9241, 2974, 4502, 10748, 2305, 16704, 3433, 3477, 6430, 6516, 3907, 5562, 6883, 2862, 4978, 10368, 3295, 5238, 6472, 9610, 19833, 9756, 4968, 2145, 8346, 3445, 6294, 7140, 2932, 5147, 4507, 2468, 2109, 5294, 2718, 5811, 2766, 19038, 3055, 2289, 4001, 12965, 3539, 6029, 3702, 5468, 13116, 4189, 19328, 8321, 4071, 3143, 2044, 13464, 7991, 3377, 5538, 5762, 2592, 4127, 2438, 6870, 10447, 9667, 6513, 6799, 16291, 2705, 10333, 4448, 6854, 9637, 3591, 5405, 4684, 15787, 1514, 5154, 6962, 5675, 2379, 3812, 4648, 2936, 2105, 8578, 2706, 6384, 3968, 13225, 3540, 2804, 19392, 19665, 4774, 3902, 2662, 2856, 5673, 4197, 9713, 2062, 4284, 4788, 5906, 3886, 16823, 2933, 6500, 17174, 5033, 5507, 4393, 13348, 6583, 8103, 3978, 2544, 5399, 5487, 6834, 5736, 2226, 5747, 5467, 5380, 5151, 2133, 17875, 4771, 19161, 5087, 5561, 2144, 3065, 2810, 9888, 8628, 2867, 5373, 6667, 5003, 2858, 5204, 4105, 9679, 2897, 5968, 7510, 2991, 19636, 1129, 13341, 4332, 11031, 4440, 4617, 2647, 6323, 5677, 2187, 3748, 3977, 8633, 2008, 4440, 3067, 5321, 5410, 2782, 11957, 2660, 3375, 5098, 4878, 2837, 2406, 2269, 4108, 13206, 10422, 13744, 4907, 3482, 2436, 2380, 19431, 7644, 5131, 6306, 18880, 13570, 6712, 5406, 8938, 2439, 8837, 5343, 6652, 4850, 2809, 5689, 2001, 2977, 4025, 3785, 12031, 9936, 2966, 2571, 9991, 6142, 5390, 4404], \"y0\": \" \", \"yaxis\": \"y\"}],\n",
              "                        {\"boxmode\": \"group\", \"legend\": {\"tracegroupgap\": 0}, \"margin\": {\"t\": 60}, \"template\": {\"data\": {\"bar\": [{\"error_x\": {\"color\": \"#2a3f5f\"}, \"error_y\": {\"color\": \"#2a3f5f\"}, \"marker\": {\"line\": {\"color\": \"#E5ECF6\", \"width\": 0.5}}, \"type\": \"bar\"}], \"barpolar\": [{\"marker\": {\"line\": {\"color\": \"#E5ECF6\", \"width\": 0.5}}, \"type\": \"barpolar\"}], \"carpet\": [{\"aaxis\": {\"endlinecolor\": \"#2a3f5f\", \"gridcolor\": \"white\", \"linecolor\": \"white\", \"minorgridcolor\": \"white\", \"startlinecolor\": \"#2a3f5f\"}, \"baxis\": {\"endlinecolor\": \"#2a3f5f\", \"gridcolor\": \"white\", \"linecolor\": \"white\", \"minorgridcolor\": \"white\", \"startlinecolor\": \"#2a3f5f\"}, \"type\": \"carpet\"}], \"choropleth\": [{\"colorbar\": {\"outlinewidth\": 0, \"ticks\": \"\"}, \"type\": \"choropleth\"}], \"contour\": [{\"colorbar\": {\"outlinewidth\": 0, \"ticks\": \"\"}, \"colorscale\": [[0.0, \"#0d0887\"], [0.1111111111111111, \"#46039f\"], [0.2222222222222222, \"#7201a8\"], [0.3333333333333333, \"#9c179e\"], [0.4444444444444444, \"#bd3786\"], [0.5555555555555556, \"#d8576b\"], [0.6666666666666666, \"#ed7953\"], [0.7777777777777778, \"#fb9f3a\"], [0.8888888888888888, \"#fdca26\"], [1.0, \"#f0f921\"]], \"type\": \"contour\"}], \"contourcarpet\": [{\"colorbar\": {\"outlinewidth\": 0, \"ticks\": \"\"}, \"type\": \"contourcarpet\"}], \"heatmap\": [{\"colorbar\": {\"outlinewidth\": 0, \"ticks\": \"\"}, \"colorscale\": [[0.0, \"#0d0887\"], [0.1111111111111111, \"#46039f\"], [0.2222222222222222, \"#7201a8\"], [0.3333333333333333, \"#9c179e\"], [0.4444444444444444, \"#bd3786\"], [0.5555555555555556, \"#d8576b\"], [0.6666666666666666, \"#ed7953\"], [0.7777777777777778, \"#fb9f3a\"], [0.8888888888888888, \"#fdca26\"], [1.0, \"#f0f921\"]], \"type\": \"heatmap\"}], \"heatmapgl\": [{\"colorbar\": {\"outlinewidth\": 0, \"ticks\": \"\"}, \"colorscale\": [[0.0, \"#0d0887\"], [0.1111111111111111, \"#46039f\"], [0.2222222222222222, \"#7201a8\"], [0.3333333333333333, \"#9c179e\"], [0.4444444444444444, \"#bd3786\"], [0.5555555555555556, \"#d8576b\"], [0.6666666666666666, \"#ed7953\"], [0.7777777777777778, \"#fb9f3a\"], [0.8888888888888888, \"#fdca26\"], [1.0, \"#f0f921\"]], \"type\": \"heatmapgl\"}], \"histogram\": [{\"marker\": {\"colorbar\": {\"outlinewidth\": 0, \"ticks\": \"\"}}, \"type\": \"histogram\"}], \"histogram2d\": [{\"colorbar\": {\"outlinewidth\": 0, \"ticks\": \"\"}, \"colorscale\": [[0.0, \"#0d0887\"], [0.1111111111111111, \"#46039f\"], [0.2222222222222222, \"#7201a8\"], [0.3333333333333333, \"#9c179e\"], [0.4444444444444444, \"#bd3786\"], [0.5555555555555556, \"#d8576b\"], [0.6666666666666666, \"#ed7953\"], [0.7777777777777778, \"#fb9f3a\"], [0.8888888888888888, \"#fdca26\"], [1.0, \"#f0f921\"]], \"type\": \"histogram2d\"}], \"histogram2dcontour\": [{\"colorbar\": {\"outlinewidth\": 0, \"ticks\": \"\"}, \"colorscale\": [[0.0, \"#0d0887\"], [0.1111111111111111, \"#46039f\"], [0.2222222222222222, \"#7201a8\"], [0.3333333333333333, \"#9c179e\"], [0.4444444444444444, \"#bd3786\"], [0.5555555555555556, \"#d8576b\"], [0.6666666666666666, \"#ed7953\"], [0.7777777777777778, \"#fb9f3a\"], [0.8888888888888888, \"#fdca26\"], [1.0, \"#f0f921\"]], \"type\": \"histogram2dcontour\"}], \"mesh3d\": [{\"colorbar\": {\"outlinewidth\": 0, \"ticks\": \"\"}, \"type\": \"mesh3d\"}], \"parcoords\": [{\"line\": {\"colorbar\": {\"outlinewidth\": 0, \"ticks\": \"\"}}, \"type\": \"parcoords\"}], \"pie\": [{\"automargin\": true, \"type\": \"pie\"}], \"scatter\": [{\"marker\": {\"colorbar\": {\"outlinewidth\": 0, \"ticks\": \"\"}}, \"type\": \"scatter\"}], \"scatter3d\": [{\"line\": {\"colorbar\": {\"outlinewidth\": 0, \"ticks\": \"\"}}, \"marker\": {\"colorbar\": {\"outlinewidth\": 0, \"ticks\": \"\"}}, \"type\": \"scatter3d\"}], \"scattercarpet\": [{\"marker\": {\"colorbar\": {\"outlinewidth\": 0, \"ticks\": \"\"}}, \"type\": \"scattercarpet\"}], \"scattergeo\": [{\"marker\": {\"colorbar\": {\"outlinewidth\": 0, \"ticks\": \"\"}}, \"type\": \"scattergeo\"}], \"scattergl\": [{\"marker\": {\"colorbar\": {\"outlinewidth\": 0, \"ticks\": \"\"}}, \"type\": \"scattergl\"}], \"scattermapbox\": [{\"marker\": {\"colorbar\": {\"outlinewidth\": 0, \"ticks\": \"\"}}, \"type\": \"scattermapbox\"}], \"scatterpolar\": [{\"marker\": {\"colorbar\": {\"outlinewidth\": 0, \"ticks\": \"\"}}, \"type\": \"scatterpolar\"}], \"scatterpolargl\": [{\"marker\": {\"colorbar\": {\"outlinewidth\": 0, \"ticks\": \"\"}}, \"type\": \"scatterpolargl\"}], \"scatterternary\": [{\"marker\": {\"colorbar\": {\"outlinewidth\": 0, \"ticks\": \"\"}}, \"type\": \"scatterternary\"}], \"surface\": [{\"colorbar\": {\"outlinewidth\": 0, \"ticks\": \"\"}, \"colorscale\": [[0.0, \"#0d0887\"], [0.1111111111111111, \"#46039f\"], [0.2222222222222222, \"#7201a8\"], [0.3333333333333333, \"#9c179e\"], [0.4444444444444444, \"#bd3786\"], [0.5555555555555556, \"#d8576b\"], [0.6666666666666666, \"#ed7953\"], [0.7777777777777778, \"#fb9f3a\"], [0.8888888888888888, \"#fdca26\"], [1.0, \"#f0f921\"]], \"type\": \"surface\"}], \"table\": [{\"cells\": {\"fill\": {\"color\": \"#EBF0F8\"}, \"line\": {\"color\": \"white\"}}, \"header\": {\"fill\": {\"color\": \"#C8D4E3\"}, \"line\": {\"color\": \"white\"}}, \"type\": \"table\"}]}, \"layout\": {\"annotationdefaults\": {\"arrowcolor\": \"#2a3f5f\", \"arrowhead\": 0, \"arrowwidth\": 1}, \"coloraxis\": {\"colorbar\": {\"outlinewidth\": 0, \"ticks\": \"\"}}, \"colorscale\": {\"diverging\": [[0, \"#8e0152\"], [0.1, \"#c51b7d\"], [0.2, \"#de77ae\"], [0.3, \"#f1b6da\"], [0.4, \"#fde0ef\"], [0.5, \"#f7f7f7\"], [0.6, \"#e6f5d0\"], [0.7, \"#b8e186\"], [0.8, \"#7fbc41\"], [0.9, \"#4d9221\"], [1, \"#276419\"]], \"sequential\": [[0.0, \"#0d0887\"], [0.1111111111111111, \"#46039f\"], [0.2222222222222222, \"#7201a8\"], [0.3333333333333333, \"#9c179e\"], [0.4444444444444444, \"#bd3786\"], [0.5555555555555556, \"#d8576b\"], [0.6666666666666666, \"#ed7953\"], [0.7777777777777778, \"#fb9f3a\"], [0.8888888888888888, \"#fdca26\"], [1.0, \"#f0f921\"]], \"sequentialminus\": [[0.0, \"#0d0887\"], [0.1111111111111111, \"#46039f\"], [0.2222222222222222, \"#7201a8\"], [0.3333333333333333, \"#9c179e\"], [0.4444444444444444, \"#bd3786\"], [0.5555555555555556, \"#d8576b\"], [0.6666666666666666, \"#ed7953\"], [0.7777777777777778, \"#fb9f3a\"], [0.8888888888888888, \"#fdca26\"], [1.0, \"#f0f921\"]]}, \"colorway\": [\"#636efa\", \"#EF553B\", \"#00cc96\", \"#ab63fa\", \"#FFA15A\", \"#19d3f3\", \"#FF6692\", \"#B6E880\", \"#FF97FF\", \"#FECB52\"], \"font\": {\"color\": \"#2a3f5f\"}, \"geo\": {\"bgcolor\": \"white\", \"lakecolor\": \"white\", \"landcolor\": \"#E5ECF6\", \"showlakes\": true, \"showland\": true, \"subunitcolor\": \"white\"}, \"hoverlabel\": {\"align\": \"left\"}, \"hovermode\": \"closest\", \"mapbox\": {\"style\": \"light\"}, \"paper_bgcolor\": \"white\", \"plot_bgcolor\": \"#E5ECF6\", \"polar\": {\"angularaxis\": {\"gridcolor\": \"white\", \"linecolor\": \"white\", \"ticks\": \"\"}, \"bgcolor\": \"#E5ECF6\", \"radialaxis\": {\"gridcolor\": \"white\", \"linecolor\": \"white\", \"ticks\": \"\"}}, \"scene\": {\"xaxis\": {\"backgroundcolor\": \"#E5ECF6\", \"gridcolor\": \"white\", \"gridwidth\": 2, \"linecolor\": \"white\", \"showbackground\": true, \"ticks\": \"\", \"zerolinecolor\": \"white\"}, \"yaxis\": {\"backgroundcolor\": \"#E5ECF6\", \"gridcolor\": \"white\", \"gridwidth\": 2, \"linecolor\": \"white\", \"showbackground\": true, \"ticks\": \"\", \"zerolinecolor\": \"white\"}, \"zaxis\": {\"backgroundcolor\": \"#E5ECF6\", \"gridcolor\": \"white\", \"gridwidth\": 2, \"linecolor\": \"white\", \"showbackground\": true, \"ticks\": \"\", \"zerolinecolor\": \"white\"}}, \"shapedefaults\": {\"line\": {\"color\": \"#2a3f5f\"}}, \"ternary\": {\"aaxis\": {\"gridcolor\": \"white\", \"linecolor\": \"white\", \"ticks\": \"\"}, \"baxis\": {\"gridcolor\": \"white\", \"linecolor\": \"white\", \"ticks\": \"\"}, \"bgcolor\": \"#E5ECF6\", \"caxis\": {\"gridcolor\": \"white\", \"linecolor\": \"white\", \"ticks\": \"\"}}, \"title\": {\"x\": 0.05}, \"xaxis\": {\"automargin\": true, \"gridcolor\": \"white\", \"linecolor\": \"white\", \"ticks\": \"\", \"title\": {\"standoff\": 15}, \"zerolinecolor\": \"white\", \"zerolinewidth\": 2}, \"yaxis\": {\"automargin\": true, \"gridcolor\": \"white\", \"linecolor\": \"white\", \"ticks\": \"\", \"title\": {\"standoff\": 15}, \"zerolinecolor\": \"white\", \"zerolinewidth\": 2}}}, \"xaxis\": {\"anchor\": \"y\", \"categoryarray\": [1, 0], \"categoryorder\": \"array\", \"domain\": [0.0, 1.0], \"title\": {\"text\": \"Attrition\"}}, \"yaxis\": {\"anchor\": \"x\", \"domain\": [0.0, 1.0], \"title\": {\"text\": \"MonthlyIncome\"}}},\n",
              "                        {\"responsive\": true}\n",
              "                    ).then(function(){\n",
              "                            \n",
              "var gd = document.getElementById('8279bf43-e2ee-460a-b36d-35dba6225747');\n",
              "var x = new MutationObserver(function (mutations, observer) {{\n",
              "        var display = window.getComputedStyle(gd).display;\n",
              "        if (!display || display === 'none') {{\n",
              "            console.log([gd, 'removed!']);\n",
              "            Plotly.purge(gd);\n",
              "            observer.disconnect();\n",
              "        }}\n",
              "}});\n",
              "\n",
              "// Listen for the removal of the full notebook cells\n",
              "var notebookContainer = gd.closest('#notebook-container');\n",
              "if (notebookContainer) {{\n",
              "    x.observe(notebookContainer, {childList: true});\n",
              "}}\n",
              "\n",
              "// Listen for the clearing of the current output cell\n",
              "var outputEl = gd.closest('.output');\n",
              "if (outputEl) {{\n",
              "    x.observe(outputEl, {childList: true});\n",
              "}}\n",
              "\n",
              "                        })\n",
              "                };\n",
              "                \n",
              "            </script>\n",
              "        </div>\n",
              "</body>\n",
              "</html>"
            ]
          },
          "metadata": {
            "tags": []
          }
        }
      ]
    },
    {
      "cell_type": "markdown",
      "metadata": {
        "id": "Pco-yM3y4OdT"
      },
      "source": [
        "The relationship of co-workers with employees"
      ]
    },
    {
      "cell_type": "code",
      "metadata": {
        "colab": {
          "base_uri": "https://localhost:8080/",
          "height": 542
        },
        "id": "n95WkpyP2q5j",
        "outputId": "27dac678-bd90-4ff1-8ffb-4e035993715d"
      },
      "source": [
        "figuer = px.box(HrData, x = 'Attrition', y = 'JobSatisfaction', color = 'Attrition')\n",
        "figuer.show()"
      ],
      "execution_count": 20,
      "outputs": [
        {
          "output_type": "display_data",
          "data": {
            "text/html": [
              "<html>\n",
              "<head><meta charset=\"utf-8\" /></head>\n",
              "<body>\n",
              "    <div>\n",
              "            <script src=\"https://cdnjs.cloudflare.com/ajax/libs/mathjax/2.7.5/MathJax.js?config=TeX-AMS-MML_SVG\"></script><script type=\"text/javascript\">if (window.MathJax) {MathJax.Hub.Config({SVG: {font: \"STIX-Web\"}});}</script>\n",
              "                <script type=\"text/javascript\">window.PlotlyConfig = {MathJaxConfig: 'local'};</script>\n",
              "        <script src=\"https://cdn.plot.ly/plotly-latest.min.js\"></script>    \n",
              "            <div id=\"d3959990-5b26-4a83-bb7d-df506b8aeaa7\" class=\"plotly-graph-div\" style=\"height:525px; width:100%;\"></div>\n",
              "            <script type=\"text/javascript\">\n",
              "                \n",
              "                    window.PLOTLYENV=window.PLOTLYENV || {};\n",
              "                    \n",
              "                if (document.getElementById(\"d3959990-5b26-4a83-bb7d-df506b8aeaa7\")) {\n",
              "                    Plotly.newPlot(\n",
              "                        'd3959990-5b26-4a83-bb7d-df506b8aeaa7',\n",
              "                        [{\"alignmentgroup\": \"True\", \"hoverlabel\": {\"namelength\": 0}, \"hovertemplate\": \"Attrition=%{x}<br>JobSatisfaction=%{y}\", \"legendgroup\": \"Attrition=1\", \"marker\": {\"color\": \"#636efa\"}, \"name\": \"Attrition=1\", \"notched\": false, \"offsetgroup\": \"Attrition=1\", \"orientation\": \"v\", \"showlegend\": true, \"type\": \"box\", \"x\": [1, 1, 1, 1, 1, 1, 1, 1, 1, 1, 1, 1, 1, 1, 1, 1, 1, 1, 1, 1, 1, 1, 1, 1, 1, 1, 1, 1, 1, 1, 1, 1, 1, 1, 1, 1, 1, 1, 1, 1, 1, 1, 1, 1, 1, 1, 1, 1, 1, 1, 1, 1, 1, 1, 1, 1, 1, 1, 1, 1, 1, 1, 1, 1, 1, 1, 1, 1, 1, 1, 1, 1, 1, 1, 1, 1, 1, 1, 1, 1, 1, 1, 1, 1, 1, 1, 1, 1, 1, 1, 1, 1, 1, 1, 1, 1, 1, 1, 1, 1, 1, 1, 1, 1, 1, 1, 1, 1, 1, 1, 1, 1, 1, 1, 1, 1, 1, 1, 1, 1, 1, 1, 1, 1, 1, 1, 1, 1, 1, 1, 1, 1, 1, 1, 1, 1, 1, 1, 1, 1, 1, 1, 1, 1, 1, 1, 1, 1, 1, 1, 1, 1, 1, 1, 1, 1, 1, 1, 1, 1, 1, 1, 1, 1, 1, 1, 1, 1, 1, 1, 1, 1, 1, 1, 1, 1, 1, 1, 1, 1, 1, 1, 1, 1, 1, 1, 1, 1, 1, 1, 1, 1, 1, 1, 1, 1, 1, 1, 1, 1, 1, 1, 1, 1, 1, 1, 1, 1, 1, 1, 1, 1, 1, 1, 1, 1, 1, 1, 1, 1, 1, 1, 1, 1, 1, 1, 1, 1, 1, 1, 1, 1, 1, 1, 1, 1, 1], \"x0\": \" \", \"xaxis\": \"x\", \"y\": [4, 3, 3, 1, 1, 1, 4, 4, 3, 3, 3, 3, 3, 3, 4, 1, 4, 3, 3, 2, 3, 4, 3, 3, 4, 1, 1, 4, 2, 3, 1, 4, 4, 1, 1, 3, 4, 4, 1, 3, 3, 2, 3, 2, 3, 2, 4, 3, 2, 4, 3, 1, 2, 3, 2, 3, 2, 4, 1, 4, 1, 2, 3, 2, 4, 3, 4, 3, 1, 3, 3, 2, 4, 3, 3, 1, 1, 1, 1, 3, 1, 3, 3, 2, 3, 4, 3, 1, 1, 1, 1, 1, 2, 3, 4, 4, 3, 2, 3, 4, 4, 3, 4, 3, 4, 1, 2, 2, 1, 4, 3, 3, 2, 1, 1, 3, 2, 1, 2, 2, 1, 4, 1, 3, 1, 4, 1, 3, 1, 1, 1, 3, 4, 3, 2, 2, 3, 4, 3, 1, 3, 1, 1, 4, 3, 3, 4, 1, 2, 2, 4, 2, 3, 4, 3, 3, 1, 2, 2, 2, 1, 1, 3, 4, 3, 3, 3, 1, 4, 3, 2, 1, 4, 1, 2, 4, 3, 3, 2, 2, 1, 1, 1, 1, 3, 1, 1, 4, 2, 2, 4, 1, 4, 1, 4, 3, 3, 2, 4, 3, 3, 1, 2, 4, 2, 1, 3, 3, 2, 1, 2, 4, 1, 1, 2, 2, 1, 1, 2, 4, 2, 4, 2, 1, 4, 1, 3, 3, 2, 4, 4, 1, 1, 4, 3, 3, 1], \"y0\": \" \", \"yaxis\": \"y\"}, {\"alignmentgroup\": \"True\", \"hoverlabel\": {\"namelength\": 0}, \"hovertemplate\": \"Attrition=%{x}<br>JobSatisfaction=%{y}\", \"legendgroup\": \"Attrition=0\", \"marker\": {\"color\": \"#EF553B\"}, \"name\": \"Attrition=0\", \"notched\": false, \"offsetgroup\": \"Attrition=0\", \"orientation\": \"v\", \"showlegend\": true, \"type\": \"box\", \"x\": [0, 0, 0, 0, 0, 0, 0, 0, 0, 0, 0, 0, 0, 0, 0, 0, 0, 0, 0, 0, 0, 0, 0, 0, 0, 0, 0, 0, 0, 0, 0, 0, 0, 0, 0, 0, 0, 0, 0, 0, 0, 0, 0, 0, 0, 0, 0, 0, 0, 0, 0, 0, 0, 0, 0, 0, 0, 0, 0, 0, 0, 0, 0, 0, 0, 0, 0, 0, 0, 0, 0, 0, 0, 0, 0, 0, 0, 0, 0, 0, 0, 0, 0, 0, 0, 0, 0, 0, 0, 0, 0, 0, 0, 0, 0, 0, 0, 0, 0, 0, 0, 0, 0, 0, 0, 0, 0, 0, 0, 0, 0, 0, 0, 0, 0, 0, 0, 0, 0, 0, 0, 0, 0, 0, 0, 0, 0, 0, 0, 0, 0, 0, 0, 0, 0, 0, 0, 0, 0, 0, 0, 0, 0, 0, 0, 0, 0, 0, 0, 0, 0, 0, 0, 0, 0, 0, 0, 0, 0, 0, 0, 0, 0, 0, 0, 0, 0, 0, 0, 0, 0, 0, 0, 0, 0, 0, 0, 0, 0, 0, 0, 0, 0, 0, 0, 0, 0, 0, 0, 0, 0, 0, 0, 0, 0, 0, 0, 0, 0, 0, 0, 0, 0, 0, 0, 0, 0, 0, 0, 0, 0, 0, 0, 0, 0, 0, 0, 0, 0, 0, 0, 0, 0, 0, 0, 0, 0, 0, 0, 0, 0, 0, 0, 0, 0, 0, 0, 0, 0, 0, 0, 0, 0, 0, 0, 0, 0, 0, 0, 0, 0, 0, 0, 0, 0, 0, 0, 0, 0, 0, 0, 0, 0, 0, 0, 0, 0, 0, 0, 0, 0, 0, 0, 0, 0, 0, 0, 0, 0, 0, 0, 0, 0, 0, 0, 0, 0, 0, 0, 0, 0, 0, 0, 0, 0, 0, 0, 0, 0, 0, 0, 0, 0, 0, 0, 0, 0, 0, 0, 0, 0, 0, 0, 0, 0, 0, 0, 0, 0, 0, 0, 0, 0, 0, 0, 0, 0, 0, 0, 0, 0, 0, 0, 0, 0, 0, 0, 0, 0, 0, 0, 0, 0, 0, 0, 0, 0, 0, 0, 0, 0, 0, 0, 0, 0, 0, 0, 0, 0, 0, 0, 0, 0, 0, 0, 0, 0, 0, 0, 0, 0, 0, 0, 0, 0, 0, 0, 0, 0, 0, 0, 0, 0, 0, 0, 0, 0, 0, 0, 0, 0, 0, 0, 0, 0, 0, 0, 0, 0, 0, 0, 0, 0, 0, 0, 0, 0, 0, 0, 0, 0, 0, 0, 0, 0, 0, 0, 0, 0, 0, 0, 0, 0, 0, 0, 0, 0, 0, 0, 0, 0, 0, 0, 0, 0, 0, 0, 0, 0, 0, 0, 0, 0, 0, 0, 0, 0, 0, 0, 0, 0, 0, 0, 0, 0, 0, 0, 0, 0, 0, 0, 0, 0, 0, 0, 0, 0, 0, 0, 0, 0, 0, 0, 0, 0, 0, 0, 0, 0, 0, 0, 0, 0, 0, 0, 0, 0, 0, 0, 0, 0, 0, 0, 0, 0, 0, 0, 0, 0, 0, 0, 0, 0, 0, 0, 0, 0, 0, 0, 0, 0, 0, 0, 0, 0, 0, 0, 0, 0, 0, 0, 0, 0, 0, 0, 0, 0, 0, 0, 0, 0, 0, 0, 0, 0, 0, 0, 0, 0, 0, 0, 0, 0, 0, 0, 0, 0, 0, 0, 0, 0, 0, 0, 0, 0, 0, 0, 0, 0, 0, 0, 0, 0, 0, 0, 0, 0, 0, 0, 0, 0, 0, 0, 0, 0, 0, 0, 0, 0, 0, 0, 0, 0, 0, 0, 0, 0, 0, 0, 0, 0, 0, 0, 0, 0, 0, 0, 0, 0, 0, 0, 0, 0, 0, 0, 0, 0, 0, 0, 0, 0, 0, 0, 0, 0, 0, 0, 0, 0, 0, 0, 0, 0, 0, 0, 0, 0, 0, 0, 0, 0, 0, 0, 0, 0, 0, 0, 0, 0, 0, 0, 0, 0, 0, 0, 0, 0, 0, 0, 0, 0, 0, 0, 0, 0, 0, 0, 0, 0, 0, 0, 0, 0, 0, 0, 0, 0, 0, 0, 0, 0, 0, 0, 0, 0, 0, 0, 0, 0, 0, 0, 0, 0, 0, 0, 0, 0, 0, 0, 0, 0, 0, 0, 0, 0, 0, 0, 0, 0, 0, 0, 0, 0, 0, 0, 0, 0, 0, 0, 0, 0, 0, 0, 0, 0, 0, 0, 0, 0, 0, 0, 0, 0, 0, 0, 0, 0, 0, 0, 0, 0, 0, 0, 0, 0, 0, 0, 0, 0, 0, 0, 0, 0, 0, 0, 0, 0, 0, 0, 0, 0, 0, 0, 0, 0, 0, 0, 0, 0, 0, 0, 0, 0, 0, 0, 0, 0, 0, 0, 0, 0, 0, 0, 0, 0, 0, 0, 0, 0, 0, 0, 0, 0, 0, 0, 0, 0, 0, 0, 0, 0, 0, 0, 0, 0, 0, 0, 0, 0, 0, 0, 0, 0, 0, 0, 0, 0, 0, 0, 0, 0, 0, 0, 0, 0, 0, 0, 0, 0, 0, 0, 0, 0, 0, 0, 0, 0, 0, 0, 0, 0, 0, 0, 0, 0, 0, 0, 0, 0, 0, 0, 0, 0, 0, 0, 0, 0, 0, 0, 0, 0, 0, 0, 0, 0, 0, 0, 0, 0, 0, 0, 0, 0, 0, 0, 0, 0, 0, 0, 0, 0, 0, 0, 0, 0, 0, 0, 0, 0, 0, 0, 0, 0, 0, 0, 0, 0, 0, 0, 0, 0, 0, 0, 0, 0, 0, 0, 0, 0, 0, 0, 0, 0, 0, 0, 0, 0, 0, 0, 0, 0, 0, 0, 0, 0, 0, 0, 0, 0, 0, 0, 0, 0, 0, 0, 0, 0, 0, 0, 0, 0, 0, 0, 0, 0, 0, 0, 0, 0, 0, 0, 0, 0, 0, 0, 0, 0, 0, 0, 0, 0, 0, 0, 0, 0, 0, 0, 0, 0, 0, 0, 0, 0, 0, 0, 0, 0, 0, 0, 0, 0, 0, 0, 0, 0, 0, 0, 0, 0, 0, 0, 0, 0, 0, 0, 0, 0, 0, 0, 0, 0, 0, 0, 0, 0, 0, 0, 0, 0, 0, 0, 0, 0, 0, 0, 0, 0, 0, 0, 0, 0, 0, 0, 0, 0, 0, 0, 0, 0, 0, 0, 0, 0, 0, 0, 0, 0, 0, 0, 0, 0, 0, 0, 0, 0, 0, 0, 0, 0, 0, 0, 0, 0, 0, 0, 0, 0, 0, 0, 0, 0, 0, 0, 0, 0, 0, 0, 0, 0, 0, 0, 0, 0, 0, 0, 0, 0, 0, 0, 0, 0, 0, 0, 0, 0, 0, 0, 0, 0, 0, 0, 0, 0, 0, 0, 0, 0, 0, 0, 0, 0, 0, 0, 0, 0, 0, 0, 0, 0, 0, 0, 0, 0, 0, 0, 0, 0, 0, 0, 0, 0, 0, 0, 0, 0, 0, 0, 0, 0, 0, 0, 0, 0, 0, 0, 0, 0, 0, 0, 0, 0, 0, 0, 0, 0, 0, 0, 0, 0, 0, 0, 0, 0, 0, 0, 0, 0, 0, 0, 0, 0, 0, 0, 0, 0, 0, 0, 0, 0, 0, 0, 0, 0, 0, 0, 0, 0, 0, 0, 0, 0, 0, 0, 0, 0, 0, 0, 0, 0, 0, 0, 0, 0, 0, 0, 0, 0, 0, 0, 0, 0, 0, 0, 0, 0, 0, 0, 0, 0, 0, 0, 0, 0, 0, 0, 0, 0, 0, 0, 0, 0, 0, 0, 0, 0, 0, 0, 0, 0, 0, 0, 0, 0, 0, 0, 0, 0, 0, 0, 0, 0, 0, 0], \"x0\": \" \", \"xaxis\": \"x\", \"y\": [2, 3, 2, 4, 1, 3, 3, 3, 2, 3, 3, 4, 1, 2, 4, 4, 4, 3, 2, 4, 3, 2, 4, 1, 4, 4, 3, 3, 4, 1, 1, 4, 1, 3, 4, 3, 2, 4, 4, 1, 1, 4, 4, 1, 1, 4, 3, 4, 4, 3, 1, 3, 3, 2, 1, 1, 3, 2, 2, 2, 4, 4, 1, 1, 3, 2, 4, 3, 4, 4, 2, 4, 1, 4, 4, 2, 4, 2, 1, 3, 3, 3, 3, 3, 2, 1, 3, 4, 4, 2, 4, 4, 1, 4, 3, 2, 4, 1, 4, 4, 4, 3, 2, 3, 2, 4, 1, 3, 4, 3, 3, 2, 3, 3, 4, 4, 3, 3, 4, 1, 4, 1, 1, 2, 2, 2, 3, 2, 4, 3, 3, 2, 4, 3, 4, 2, 4, 4, 3, 2, 3, 4, 4, 3, 2, 2, 1, 1, 1, 4, 1, 4, 4, 2, 3, 1, 2, 3, 2, 3, 2, 3, 2, 4, 4, 1, 2, 3, 3, 4, 1, 4, 3, 4, 2, 4, 4, 1, 3, 3, 2, 4, 4, 1, 2, 2, 4, 3, 3, 4, 4, 4, 3, 4, 4, 3, 4, 4, 3, 2, 3, 4, 1, 4, 4, 3, 4, 1, 1, 3, 3, 4, 1, 4, 3, 1, 3, 4, 2, 4, 1, 2, 2, 4, 1, 4, 4, 1, 4, 4, 3, 4, 2, 1, 2, 2, 3, 3, 4, 4, 1, 4, 4, 4, 1, 2, 2, 4, 2, 2, 4, 2, 2, 3, 1, 4, 4, 2, 3, 2, 3, 4, 1, 1, 4, 2, 1, 4, 3, 2, 2, 3, 4, 4, 4, 3, 4, 4, 3, 3, 2, 3, 1, 4, 4, 4, 3, 2, 4, 4, 4, 2, 2, 4, 2, 3, 4, 3, 3, 2, 3, 1, 3, 3, 4, 4, 4, 3, 3, 4, 1, 3, 4, 2, 4, 2, 2, 4, 3, 4, 3, 4, 3, 2, 2, 3, 1, 2, 1, 2, 2, 3, 1, 3, 1, 4, 3, 4, 3, 1, 3, 1, 3, 1, 1, 3, 4, 4, 3, 4, 1, 3, 4, 4, 3, 4, 4, 3, 1, 4, 3, 4, 1, 4, 3, 3, 3, 3, 4, 2, 2, 3, 3, 4, 4, 2, 4, 3, 3, 3, 4, 1, 2, 4, 3, 4, 1, 3, 3, 3, 4, 4, 3, 1, 2, 1, 4, 3, 2, 3, 4, 2, 2, 2, 3, 4, 4, 4, 3, 3, 2, 4, 4, 1, 3, 1, 3, 3, 3, 4, 3, 3, 4, 3, 1, 4, 4, 3, 3, 4, 4, 2, 2, 4, 3, 1, 2, 4, 4, 2, 4, 4, 3, 2, 3, 4, 4, 1, 4, 1, 1, 3, 4, 1, 1, 3, 2, 1, 3, 3, 3, 4, 3, 4, 3, 1, 2, 4, 4, 1, 2, 4, 1, 4, 3, 1, 1, 4, 3, 3, 4, 1, 4, 4, 3, 4, 1, 4, 1, 1, 1, 4, 3, 2, 1, 4, 2, 3, 3, 3, 4, 2, 3, 3, 4, 2, 3, 3, 4, 3, 2, 1, 4, 1, 4, 3, 2, 4, 4, 3, 2, 1, 1, 1, 4, 4, 4, 4, 1, 3, 4, 3, 4, 4, 4, 4, 1, 1, 3, 4, 1, 1, 4, 2, 2, 4, 4, 4, 2, 4, 4, 4, 4, 2, 1, 4, 2, 4, 1, 4, 2, 4, 4, 3, 3, 2, 3, 1, 2, 3, 4, 2, 3, 3, 4, 1, 2, 2, 1, 1, 3, 4, 2, 1, 4, 2, 4, 3, 4, 3, 3, 4, 4, 3, 3, 4, 3, 4, 4, 4, 2, 3, 2, 1, 4, 3, 3, 3, 3, 1, 4, 3, 3, 1, 4, 1, 3, 3, 3, 4, 4, 4, 3, 4, 4, 2, 3, 4, 4, 3, 1, 4, 4, 3, 4, 4, 2, 2, 3, 2, 3, 3, 2, 1, 3, 4, 3, 3, 4, 1, 4, 1, 1, 1, 3, 3, 4, 3, 2, 3, 4, 3, 4, 4, 1, 2, 4, 4, 3, 2, 3, 4, 2, 3, 2, 1, 3, 2, 2, 4, 4, 2, 4, 2, 3, 2, 4, 4, 3, 3, 4, 4, 3, 3, 3, 3, 1, 3, 2, 4, 3, 4, 2, 1, 4, 1, 1, 4, 1, 3, 4, 3, 3, 4, 1, 3, 3, 1, 2, 1, 1, 2, 1, 3, 3, 3, 4, 4, 4, 1, 4, 2, 3, 1, 4, 2, 4, 2, 1, 4, 1, 3, 4, 4, 4, 1, 1, 4, 4, 3, 2, 2, 3, 4, 4, 4, 3, 2, 3, 4, 3, 4, 2, 2, 1, 2, 4, 2, 3, 1, 2, 3, 2, 4, 2, 4, 3, 3, 1, 2, 4, 2, 2, 3, 4, 3, 1, 4, 1, 1, 3, 3, 2, 3, 3, 2, 3, 4, 4, 1, 3, 2, 1, 1, 4, 2, 1, 4, 4, 2, 4, 4, 4, 2, 3, 3, 3, 3, 4, 1, 4, 2, 4, 3, 4, 2, 3, 3, 3, 3, 4, 4, 1, 1, 3, 4, 4, 1, 1, 4, 1, 4, 2, 1, 2, 1, 1, 4, 1, 4, 3, 1, 3, 3, 4, 2, 3, 3, 4, 1, 2, 4, 1, 2, 1, 3, 2, 3, 3, 2, 1, 1, 3, 4, 3, 3, 3, 2, 1, 3, 2, 3, 3, 3, 3, 2, 3, 3, 1, 1, 2, 2, 3, 4, 4, 1, 2, 2, 2, 3, 3, 4, 3, 2, 4, 1, 2, 4, 4, 1, 3, 4, 1, 4, 2, 3, 2, 4, 3, 3, 1, 3, 1, 2, 1, 1, 4, 4, 4, 4, 2, 2, 3, 1, 3, 3, 4, 3, 3, 1, 4, 3, 3, 1, 2, 4, 1, 3, 3, 4, 4, 2, 1, 1, 1, 3, 4, 1, 1, 1, 1, 1, 4, 3, 3, 3, 3, 3, 3, 4, 3, 2, 4, 4, 4, 4, 3, 4, 3, 1, 3, 2, 2, 1, 3, 2, 2, 3, 3, 1, 3, 3, 4, 2, 4, 2, 4, 1, 2, 2, 3, 3, 1, 4, 3, 4, 3, 4, 4, 2, 4, 4, 2, 4, 4, 4, 4, 4, 3, 3, 3, 4, 3, 3, 2, 3, 3, 2, 1, 1, 2, 3, 4, 2, 4, 2, 4, 4, 3, 2, 3, 1, 4, 3, 4, 3, 1, 4, 2, 4, 2, 1, 3, 2, 4, 2, 1, 2, 1, 3, 3, 4, 4, 3, 4, 3, 2, 4, 1, 2, 1, 4, 3, 2, 1, 1, 4, 2, 4, 3, 2, 3, 3, 4, 3, 2, 3, 2, 1, 4, 1, 1, 4, 4, 3, 3, 3, 2, 4, 4, 4, 4, 3, 3, 4, 4, 3, 3, 1, 3, 2, 3, 2, 1, 4, 4, 2, 3, 3, 4, 1, 1, 2, 4, 4, 1, 3, 3, 4, 1, 2, 2, 1, 4, 4, 3, 4, 3, 3, 4, 3, 2, 4, 2, 1, 1, 2, 4, 4, 4, 4, 1, 3, 1, 2, 4, 3, 1, 1, 4, 1, 1, 4, 4, 4, 3, 3, 3, 2, 2, 4, 1, 3, 3, 1, 3, 4, 3, 2, 2, 2, 3, 3, 3, 2, 3, 3, 1, 4, 2, 3, 3, 3, 4, 2, 4, 2, 4, 3, 4, 4, 3, 4, 4, 1, 4, 4, 2, 3, 3, 2, 3, 4, 2, 1, 4, 4, 4, 3, 3, 3, 3, 4, 2, 1, 4, 1, 3, 4, 1, 2, 2, 3], \"y0\": \" \", \"yaxis\": \"y\"}],\n",
              "                        {\"boxmode\": \"group\", \"legend\": {\"tracegroupgap\": 0}, \"margin\": {\"t\": 60}, \"template\": {\"data\": {\"bar\": [{\"error_x\": {\"color\": \"#2a3f5f\"}, \"error_y\": {\"color\": \"#2a3f5f\"}, \"marker\": {\"line\": {\"color\": \"#E5ECF6\", \"width\": 0.5}}, \"type\": \"bar\"}], \"barpolar\": [{\"marker\": {\"line\": {\"color\": \"#E5ECF6\", \"width\": 0.5}}, \"type\": \"barpolar\"}], \"carpet\": [{\"aaxis\": {\"endlinecolor\": \"#2a3f5f\", \"gridcolor\": \"white\", \"linecolor\": \"white\", \"minorgridcolor\": \"white\", \"startlinecolor\": \"#2a3f5f\"}, \"baxis\": {\"endlinecolor\": \"#2a3f5f\", \"gridcolor\": \"white\", \"linecolor\": \"white\", \"minorgridcolor\": \"white\", \"startlinecolor\": \"#2a3f5f\"}, \"type\": \"carpet\"}], \"choropleth\": [{\"colorbar\": {\"outlinewidth\": 0, \"ticks\": \"\"}, \"type\": \"choropleth\"}], \"contour\": [{\"colorbar\": {\"outlinewidth\": 0, \"ticks\": \"\"}, \"colorscale\": [[0.0, \"#0d0887\"], [0.1111111111111111, \"#46039f\"], [0.2222222222222222, \"#7201a8\"], [0.3333333333333333, \"#9c179e\"], [0.4444444444444444, \"#bd3786\"], [0.5555555555555556, \"#d8576b\"], [0.6666666666666666, \"#ed7953\"], [0.7777777777777778, \"#fb9f3a\"], [0.8888888888888888, \"#fdca26\"], [1.0, \"#f0f921\"]], \"type\": \"contour\"}], \"contourcarpet\": [{\"colorbar\": {\"outlinewidth\": 0, \"ticks\": \"\"}, \"type\": \"contourcarpet\"}], \"heatmap\": [{\"colorbar\": {\"outlinewidth\": 0, \"ticks\": \"\"}, \"colorscale\": [[0.0, \"#0d0887\"], [0.1111111111111111, \"#46039f\"], [0.2222222222222222, \"#7201a8\"], [0.3333333333333333, \"#9c179e\"], [0.4444444444444444, \"#bd3786\"], [0.5555555555555556, \"#d8576b\"], [0.6666666666666666, \"#ed7953\"], [0.7777777777777778, \"#fb9f3a\"], [0.8888888888888888, \"#fdca26\"], [1.0, \"#f0f921\"]], \"type\": \"heatmap\"}], \"heatmapgl\": [{\"colorbar\": {\"outlinewidth\": 0, \"ticks\": \"\"}, \"colorscale\": [[0.0, \"#0d0887\"], [0.1111111111111111, \"#46039f\"], [0.2222222222222222, \"#7201a8\"], [0.3333333333333333, \"#9c179e\"], [0.4444444444444444, \"#bd3786\"], [0.5555555555555556, \"#d8576b\"], [0.6666666666666666, \"#ed7953\"], [0.7777777777777778, \"#fb9f3a\"], [0.8888888888888888, \"#fdca26\"], [1.0, \"#f0f921\"]], \"type\": \"heatmapgl\"}], \"histogram\": [{\"marker\": {\"colorbar\": {\"outlinewidth\": 0, \"ticks\": \"\"}}, \"type\": \"histogram\"}], \"histogram2d\": [{\"colorbar\": {\"outlinewidth\": 0, \"ticks\": \"\"}, \"colorscale\": [[0.0, \"#0d0887\"], [0.1111111111111111, \"#46039f\"], [0.2222222222222222, \"#7201a8\"], [0.3333333333333333, \"#9c179e\"], [0.4444444444444444, \"#bd3786\"], [0.5555555555555556, \"#d8576b\"], [0.6666666666666666, \"#ed7953\"], [0.7777777777777778, \"#fb9f3a\"], [0.8888888888888888, \"#fdca26\"], [1.0, \"#f0f921\"]], \"type\": \"histogram2d\"}], \"histogram2dcontour\": [{\"colorbar\": {\"outlinewidth\": 0, \"ticks\": \"\"}, \"colorscale\": [[0.0, \"#0d0887\"], [0.1111111111111111, \"#46039f\"], [0.2222222222222222, \"#7201a8\"], [0.3333333333333333, \"#9c179e\"], [0.4444444444444444, \"#bd3786\"], [0.5555555555555556, \"#d8576b\"], [0.6666666666666666, \"#ed7953\"], [0.7777777777777778, \"#fb9f3a\"], [0.8888888888888888, \"#fdca26\"], [1.0, \"#f0f921\"]], \"type\": \"histogram2dcontour\"}], \"mesh3d\": [{\"colorbar\": {\"outlinewidth\": 0, \"ticks\": \"\"}, \"type\": \"mesh3d\"}], \"parcoords\": [{\"line\": {\"colorbar\": {\"outlinewidth\": 0, \"ticks\": \"\"}}, \"type\": \"parcoords\"}], \"pie\": [{\"automargin\": true, \"type\": \"pie\"}], \"scatter\": [{\"marker\": {\"colorbar\": {\"outlinewidth\": 0, \"ticks\": \"\"}}, \"type\": \"scatter\"}], \"scatter3d\": [{\"line\": {\"colorbar\": {\"outlinewidth\": 0, \"ticks\": \"\"}}, \"marker\": {\"colorbar\": {\"outlinewidth\": 0, \"ticks\": \"\"}}, \"type\": \"scatter3d\"}], \"scattercarpet\": [{\"marker\": {\"colorbar\": {\"outlinewidth\": 0, \"ticks\": \"\"}}, \"type\": \"scattercarpet\"}], \"scattergeo\": [{\"marker\": {\"colorbar\": {\"outlinewidth\": 0, \"ticks\": \"\"}}, \"type\": \"scattergeo\"}], \"scattergl\": [{\"marker\": {\"colorbar\": {\"outlinewidth\": 0, \"ticks\": \"\"}}, \"type\": \"scattergl\"}], \"scattermapbox\": [{\"marker\": {\"colorbar\": {\"outlinewidth\": 0, \"ticks\": \"\"}}, \"type\": \"scattermapbox\"}], \"scatterpolar\": [{\"marker\": {\"colorbar\": {\"outlinewidth\": 0, \"ticks\": \"\"}}, \"type\": \"scatterpolar\"}], \"scatterpolargl\": [{\"marker\": {\"colorbar\": {\"outlinewidth\": 0, \"ticks\": \"\"}}, \"type\": \"scatterpolargl\"}], \"scatterternary\": [{\"marker\": {\"colorbar\": {\"outlinewidth\": 0, \"ticks\": \"\"}}, \"type\": \"scatterternary\"}], \"surface\": [{\"colorbar\": {\"outlinewidth\": 0, \"ticks\": \"\"}, \"colorscale\": [[0.0, \"#0d0887\"], [0.1111111111111111, \"#46039f\"], [0.2222222222222222, \"#7201a8\"], [0.3333333333333333, \"#9c179e\"], [0.4444444444444444, \"#bd3786\"], [0.5555555555555556, \"#d8576b\"], [0.6666666666666666, \"#ed7953\"], [0.7777777777777778, \"#fb9f3a\"], [0.8888888888888888, \"#fdca26\"], [1.0, \"#f0f921\"]], \"type\": \"surface\"}], \"table\": [{\"cells\": {\"fill\": {\"color\": \"#EBF0F8\"}, \"line\": {\"color\": \"white\"}}, \"header\": {\"fill\": {\"color\": \"#C8D4E3\"}, \"line\": {\"color\": \"white\"}}, \"type\": \"table\"}]}, \"layout\": {\"annotationdefaults\": {\"arrowcolor\": \"#2a3f5f\", \"arrowhead\": 0, \"arrowwidth\": 1}, \"coloraxis\": {\"colorbar\": {\"outlinewidth\": 0, \"ticks\": \"\"}}, \"colorscale\": {\"diverging\": [[0, \"#8e0152\"], [0.1, \"#c51b7d\"], [0.2, \"#de77ae\"], [0.3, \"#f1b6da\"], [0.4, \"#fde0ef\"], [0.5, \"#f7f7f7\"], [0.6, \"#e6f5d0\"], [0.7, \"#b8e186\"], [0.8, \"#7fbc41\"], [0.9, \"#4d9221\"], [1, \"#276419\"]], \"sequential\": [[0.0, \"#0d0887\"], [0.1111111111111111, \"#46039f\"], [0.2222222222222222, \"#7201a8\"], [0.3333333333333333, \"#9c179e\"], [0.4444444444444444, \"#bd3786\"], [0.5555555555555556, \"#d8576b\"], [0.6666666666666666, \"#ed7953\"], [0.7777777777777778, \"#fb9f3a\"], [0.8888888888888888, \"#fdca26\"], [1.0, \"#f0f921\"]], \"sequentialminus\": [[0.0, \"#0d0887\"], [0.1111111111111111, \"#46039f\"], [0.2222222222222222, \"#7201a8\"], [0.3333333333333333, \"#9c179e\"], [0.4444444444444444, \"#bd3786\"], [0.5555555555555556, \"#d8576b\"], [0.6666666666666666, \"#ed7953\"], [0.7777777777777778, \"#fb9f3a\"], [0.8888888888888888, \"#fdca26\"], [1.0, \"#f0f921\"]]}, \"colorway\": [\"#636efa\", \"#EF553B\", \"#00cc96\", \"#ab63fa\", \"#FFA15A\", \"#19d3f3\", \"#FF6692\", \"#B6E880\", \"#FF97FF\", \"#FECB52\"], \"font\": {\"color\": \"#2a3f5f\"}, \"geo\": {\"bgcolor\": \"white\", \"lakecolor\": \"white\", \"landcolor\": \"#E5ECF6\", \"showlakes\": true, \"showland\": true, \"subunitcolor\": \"white\"}, \"hoverlabel\": {\"align\": \"left\"}, \"hovermode\": \"closest\", \"mapbox\": {\"style\": \"light\"}, \"paper_bgcolor\": \"white\", \"plot_bgcolor\": \"#E5ECF6\", \"polar\": {\"angularaxis\": {\"gridcolor\": \"white\", \"linecolor\": \"white\", \"ticks\": \"\"}, \"bgcolor\": \"#E5ECF6\", \"radialaxis\": {\"gridcolor\": \"white\", \"linecolor\": \"white\", \"ticks\": \"\"}}, \"scene\": {\"xaxis\": {\"backgroundcolor\": \"#E5ECF6\", \"gridcolor\": \"white\", \"gridwidth\": 2, \"linecolor\": \"white\", \"showbackground\": true, \"ticks\": \"\", \"zerolinecolor\": \"white\"}, \"yaxis\": {\"backgroundcolor\": \"#E5ECF6\", \"gridcolor\": \"white\", \"gridwidth\": 2, \"linecolor\": \"white\", \"showbackground\": true, \"ticks\": \"\", \"zerolinecolor\": \"white\"}, \"zaxis\": {\"backgroundcolor\": \"#E5ECF6\", \"gridcolor\": \"white\", \"gridwidth\": 2, \"linecolor\": \"white\", \"showbackground\": true, \"ticks\": \"\", \"zerolinecolor\": \"white\"}}, \"shapedefaults\": {\"line\": {\"color\": \"#2a3f5f\"}}, \"ternary\": {\"aaxis\": {\"gridcolor\": \"white\", \"linecolor\": \"white\", \"ticks\": \"\"}, \"baxis\": {\"gridcolor\": \"white\", \"linecolor\": \"white\", \"ticks\": \"\"}, \"bgcolor\": \"#E5ECF6\", \"caxis\": {\"gridcolor\": \"white\", \"linecolor\": \"white\", \"ticks\": \"\"}}, \"title\": {\"x\": 0.05}, \"xaxis\": {\"automargin\": true, \"gridcolor\": \"white\", \"linecolor\": \"white\", \"ticks\": \"\", \"title\": {\"standoff\": 15}, \"zerolinecolor\": \"white\", \"zerolinewidth\": 2}, \"yaxis\": {\"automargin\": true, \"gridcolor\": \"white\", \"linecolor\": \"white\", \"ticks\": \"\", \"title\": {\"standoff\": 15}, \"zerolinecolor\": \"white\", \"zerolinewidth\": 2}}}, \"xaxis\": {\"anchor\": \"y\", \"categoryarray\": [1, 0], \"categoryorder\": \"array\", \"domain\": [0.0, 1.0], \"title\": {\"text\": \"Attrition\"}}, \"yaxis\": {\"anchor\": \"x\", \"domain\": [0.0, 1.0], \"title\": {\"text\": \"JobSatisfaction\"}}},\n",
              "                        {\"responsive\": true}\n",
              "                    ).then(function(){\n",
              "                            \n",
              "var gd = document.getElementById('d3959990-5b26-4a83-bb7d-df506b8aeaa7');\n",
              "var x = new MutationObserver(function (mutations, observer) {{\n",
              "        var display = window.getComputedStyle(gd).display;\n",
              "        if (!display || display === 'none') {{\n",
              "            console.log([gd, 'removed!']);\n",
              "            Plotly.purge(gd);\n",
              "            observer.disconnect();\n",
              "        }}\n",
              "}});\n",
              "\n",
              "// Listen for the removal of the full notebook cells\n",
              "var notebookContainer = gd.closest('#notebook-container');\n",
              "if (notebookContainer) {{\n",
              "    x.observe(notebookContainer, {childList: true});\n",
              "}}\n",
              "\n",
              "// Listen for the clearing of the current output cell\n",
              "var outputEl = gd.closest('.output');\n",
              "if (outputEl) {{\n",
              "    x.observe(outputEl, {childList: true});\n",
              "}}\n",
              "\n",
              "                        })\n",
              "                };\n",
              "                \n",
              "            </script>\n",
              "        </div>\n",
              "</body>\n",
              "</html>"
            ]
          },
          "metadata": {
            "tags": []
          }
        }
      ]
    },
    {
      "cell_type": "markdown",
      "metadata": {
        "id": "cPn5tS9b446f"
      },
      "source": [
        "There are several columns that have the same values and have no role or importance, so they will be deleted and dispensed with"
      ]
    },
    {
      "cell_type": "code",
      "metadata": {
        "colab": {
          "base_uri": "https://localhost:8080/"
        },
        "id": "hEEbWtGO4eQx",
        "outputId": "b9f1c348-68a1-4ac3-f3f2-c9f2a5c8c797"
      },
      "source": [
        "HrData.drop(columns = [\"EmployeeCount\", \"Over18\", \"StandardHours\", \"EmployeeNumber\", \"MonthlyRate\", \"DailyRate\", \"HourlyRate\"], inplace = True)\n",
        "HrData.shape"
      ],
      "execution_count": 21,
      "outputs": [
        {
          "output_type": "execute_result",
          "data": {
            "text/plain": [
              "(1470, 28)"
            ]
          },
          "metadata": {
            "tags": []
          },
          "execution_count": 21
        }
      ]
    },
    {
      "cell_type": "code",
      "metadata": {
        "colab": {
          "base_uri": "https://localhost:8080/",
          "height": 309
        },
        "id": "CEZ5hYh75AJ6",
        "outputId": "e49d5424-9b47-4a24-96c3-a4b94b9525c1"
      },
      "source": [
        "HrData.head()"
      ],
      "execution_count": 22,
      "outputs": [
        {
          "output_type": "execute_result",
          "data": {
            "text/html": [
              "<div>\n",
              "<style scoped>\n",
              "    .dataframe tbody tr th:only-of-type {\n",
              "        vertical-align: middle;\n",
              "    }\n",
              "\n",
              "    .dataframe tbody tr th {\n",
              "        vertical-align: top;\n",
              "    }\n",
              "\n",
              "    .dataframe thead th {\n",
              "        text-align: right;\n",
              "    }\n",
              "</style>\n",
              "<table border=\"1\" class=\"dataframe\">\n",
              "  <thead>\n",
              "    <tr style=\"text-align: right;\">\n",
              "      <th></th>\n",
              "      <th>Age</th>\n",
              "      <th>Attrition</th>\n",
              "      <th>BusinessTravel</th>\n",
              "      <th>Department</th>\n",
              "      <th>DistanceFromHome</th>\n",
              "      <th>Education</th>\n",
              "      <th>EducationField</th>\n",
              "      <th>EnvironmentSatisfaction</th>\n",
              "      <th>Gender</th>\n",
              "      <th>JobInvolvement</th>\n",
              "      <th>JobLevel</th>\n",
              "      <th>JobRole</th>\n",
              "      <th>JobSatisfaction</th>\n",
              "      <th>MaritalStatus</th>\n",
              "      <th>MonthlyIncome</th>\n",
              "      <th>NumCompaniesWorked</th>\n",
              "      <th>OverTime</th>\n",
              "      <th>PercentSalaryHike</th>\n",
              "      <th>PerformanceRating</th>\n",
              "      <th>RelationshipSatisfaction</th>\n",
              "      <th>StockOptionLevel</th>\n",
              "      <th>TotalWorkingYears</th>\n",
              "      <th>TrainingTimesLastYear</th>\n",
              "      <th>WorkLifeBalance</th>\n",
              "      <th>YearsAtCompany</th>\n",
              "      <th>YearsInCurrentRole</th>\n",
              "      <th>YearsSinceLastPromotion</th>\n",
              "      <th>YearsWithCurrManager</th>\n",
              "    </tr>\n",
              "  </thead>\n",
              "  <tbody>\n",
              "    <tr>\n",
              "      <th>0</th>\n",
              "      <td>41</td>\n",
              "      <td>1</td>\n",
              "      <td>Travel_Rarely</td>\n",
              "      <td>Sales</td>\n",
              "      <td>1</td>\n",
              "      <td>2</td>\n",
              "      <td>Life Sciences</td>\n",
              "      <td>2</td>\n",
              "      <td>0</td>\n",
              "      <td>3</td>\n",
              "      <td>2</td>\n",
              "      <td>Sales Executive</td>\n",
              "      <td>4</td>\n",
              "      <td>Single</td>\n",
              "      <td>5993</td>\n",
              "      <td>8</td>\n",
              "      <td>1</td>\n",
              "      <td>11</td>\n",
              "      <td>3</td>\n",
              "      <td>1</td>\n",
              "      <td>0</td>\n",
              "      <td>8</td>\n",
              "      <td>0</td>\n",
              "      <td>1</td>\n",
              "      <td>6</td>\n",
              "      <td>4</td>\n",
              "      <td>0</td>\n",
              "      <td>5</td>\n",
              "    </tr>\n",
              "    <tr>\n",
              "      <th>1</th>\n",
              "      <td>49</td>\n",
              "      <td>0</td>\n",
              "      <td>Travel_Frequently</td>\n",
              "      <td>Research &amp; Development</td>\n",
              "      <td>8</td>\n",
              "      <td>1</td>\n",
              "      <td>Life Sciences</td>\n",
              "      <td>3</td>\n",
              "      <td>1</td>\n",
              "      <td>2</td>\n",
              "      <td>2</td>\n",
              "      <td>Research Scientist</td>\n",
              "      <td>2</td>\n",
              "      <td>Married</td>\n",
              "      <td>5130</td>\n",
              "      <td>1</td>\n",
              "      <td>0</td>\n",
              "      <td>23</td>\n",
              "      <td>4</td>\n",
              "      <td>4</td>\n",
              "      <td>1</td>\n",
              "      <td>10</td>\n",
              "      <td>3</td>\n",
              "      <td>3</td>\n",
              "      <td>10</td>\n",
              "      <td>7</td>\n",
              "      <td>1</td>\n",
              "      <td>7</td>\n",
              "    </tr>\n",
              "    <tr>\n",
              "      <th>2</th>\n",
              "      <td>37</td>\n",
              "      <td>1</td>\n",
              "      <td>Travel_Rarely</td>\n",
              "      <td>Research &amp; Development</td>\n",
              "      <td>2</td>\n",
              "      <td>2</td>\n",
              "      <td>Other</td>\n",
              "      <td>4</td>\n",
              "      <td>1</td>\n",
              "      <td>2</td>\n",
              "      <td>1</td>\n",
              "      <td>Laboratory Technician</td>\n",
              "      <td>3</td>\n",
              "      <td>Single</td>\n",
              "      <td>2090</td>\n",
              "      <td>6</td>\n",
              "      <td>1</td>\n",
              "      <td>15</td>\n",
              "      <td>3</td>\n",
              "      <td>2</td>\n",
              "      <td>0</td>\n",
              "      <td>7</td>\n",
              "      <td>3</td>\n",
              "      <td>3</td>\n",
              "      <td>0</td>\n",
              "      <td>0</td>\n",
              "      <td>0</td>\n",
              "      <td>0</td>\n",
              "    </tr>\n",
              "    <tr>\n",
              "      <th>3</th>\n",
              "      <td>33</td>\n",
              "      <td>0</td>\n",
              "      <td>Travel_Frequently</td>\n",
              "      <td>Research &amp; Development</td>\n",
              "      <td>3</td>\n",
              "      <td>4</td>\n",
              "      <td>Life Sciences</td>\n",
              "      <td>4</td>\n",
              "      <td>0</td>\n",
              "      <td>3</td>\n",
              "      <td>1</td>\n",
              "      <td>Research Scientist</td>\n",
              "      <td>3</td>\n",
              "      <td>Married</td>\n",
              "      <td>2909</td>\n",
              "      <td>1</td>\n",
              "      <td>1</td>\n",
              "      <td>11</td>\n",
              "      <td>3</td>\n",
              "      <td>3</td>\n",
              "      <td>0</td>\n",
              "      <td>8</td>\n",
              "      <td>3</td>\n",
              "      <td>3</td>\n",
              "      <td>8</td>\n",
              "      <td>7</td>\n",
              "      <td>3</td>\n",
              "      <td>0</td>\n",
              "    </tr>\n",
              "    <tr>\n",
              "      <th>4</th>\n",
              "      <td>27</td>\n",
              "      <td>0</td>\n",
              "      <td>Travel_Rarely</td>\n",
              "      <td>Research &amp; Development</td>\n",
              "      <td>2</td>\n",
              "      <td>1</td>\n",
              "      <td>Medical</td>\n",
              "      <td>1</td>\n",
              "      <td>1</td>\n",
              "      <td>3</td>\n",
              "      <td>1</td>\n",
              "      <td>Laboratory Technician</td>\n",
              "      <td>2</td>\n",
              "      <td>Married</td>\n",
              "      <td>3468</td>\n",
              "      <td>9</td>\n",
              "      <td>0</td>\n",
              "      <td>12</td>\n",
              "      <td>3</td>\n",
              "      <td>4</td>\n",
              "      <td>1</td>\n",
              "      <td>6</td>\n",
              "      <td>3</td>\n",
              "      <td>3</td>\n",
              "      <td>2</td>\n",
              "      <td>2</td>\n",
              "      <td>2</td>\n",
              "      <td>2</td>\n",
              "    </tr>\n",
              "  </tbody>\n",
              "</table>\n",
              "</div>"
            ],
            "text/plain": [
              "   Age  Attrition  ... YearsSinceLastPromotion YearsWithCurrManager\n",
              "0   41          1  ...                       0                    5\n",
              "1   49          0  ...                       1                    7\n",
              "2   37          1  ...                       0                    0\n",
              "3   33          0  ...                       3                    0\n",
              "4   27          0  ...                       2                    2\n",
              "\n",
              "[5 rows x 28 columns]"
            ]
          },
          "metadata": {
            "tags": []
          },
          "execution_count": 22
        }
      ]
    },
    {
      "cell_type": "markdown",
      "metadata": {
        "id": "HSATGwiU5RCG"
      },
      "source": [
        "\n",
        "**Modeling**\n",
        "\n",
        "---\n",
        "\n"
      ]
    },
    {
      "cell_type": "markdown",
      "metadata": {
        "id": "y5s5afz35SiD"
      },
      "source": [
        "\n",
        "First, split the data into training and testing"
      ]
    },
    {
      "cell_type": "code",
      "metadata": {
        "id": "0TD6LURA5WST"
      },
      "source": [
        "X = HrData.iloc[:, [0,2,3,4,5,6,7,8,9,10,11,12,13,14,15,16,17,18,19,20,21,22,23,24,25,26,27]].values\n"
      ],
      "execution_count": 23,
      "outputs": []
    },
    {
      "cell_type": "code",
      "metadata": {
        "id": "Htu9RWq25ZPv"
      },
      "source": [
        "y = HrData.iloc[:, 1].values"
      ],
      "execution_count": 24,
      "outputs": []
    },
    {
      "cell_type": "code",
      "metadata": {
        "id": "V395Dbyk5bDd"
      },
      "source": [
        "#split the data\n",
        "X_train, X_test, y_train, y_test = train_test_split(X, y, test_size=0.25, random_state = 0)"
      ],
      "execution_count": 32,
      "outputs": []
    },
    {
      "cell_type": "code",
      "metadata": {
        "id": "J7htbwC45dRb"
      },
      "source": [
        "H = MinMaxScaler()\n",
        "dummies = pd.get_dummies(HrData[HrData.columns.difference([\"Attrition\"])])\n",
        "X = H.fit_transform(dummies)\n",
        "y = HrData[[\"Attrition\"]].values.ravel()\n"
      ],
      "execution_count": 27,
      "outputs": []
    },
    {
      "cell_type": "markdown",
      "metadata": {
        "id": "x-5XhrFw5i5t"
      },
      "source": [
        "Now use a random forest model"
      ]
    },
    {
      "cell_type": "code",
      "metadata": {
        "colab": {
          "base_uri": "https://localhost:8080/"
        },
        "id": "w2zx9o7n5wjV",
        "outputId": "078a5b3c-5206-40e1-b46f-076e1c770b90"
      },
      "source": [
        "random_forest_model = RandomForestClassifier(random_state = 0)\n",
        "random_forest_model.fit(X_train, y_train)"
      ],
      "execution_count": 33,
      "outputs": [
        {
          "output_type": "execute_result",
          "data": {
            "text/plain": [
              "RandomForestClassifier(bootstrap=True, ccp_alpha=0.0, class_weight=None,\n",
              "                       criterion='gini', max_depth=None, max_features='auto',\n",
              "                       max_leaf_nodes=None, max_samples=None,\n",
              "                       min_impurity_decrease=0.0, min_impurity_split=None,\n",
              "                       min_samples_leaf=1, min_samples_split=2,\n",
              "                       min_weight_fraction_leaf=0.0, n_estimators=100,\n",
              "                       n_jobs=None, oob_score=False, random_state=0, verbose=0,\n",
              "                       warm_start=False)"
            ]
          },
          "metadata": {
            "tags": []
          },
          "execution_count": 33
        }
      ]
    },
    {
      "cell_type": "code",
      "metadata": {
        "colab": {
          "base_uri": "https://localhost:8080/"
        },
        "id": "7VK7lo4750da",
        "outputId": "7c21baef-ea98-4b05-8c64-ff7684d8c361"
      },
      "source": [
        "y_pred = random_forest_model.predict(X_test)\n",
        "print(\"Model accruracy score: {}\".format(accuracy_score(y_test, y_pred)))"
      ],
      "execution_count": 34,
      "outputs": [
        {
          "output_type": "stream",
          "text": [
            "Model accruracy score: 0.8668478260869565\n"
          ],
          "name": "stdout"
        }
      ]
    },
    {
      "cell_type": "code",
      "metadata": {
        "colab": {
          "base_uri": "https://localhost:8080/"
        },
        "id": "fmd5MceV6B_D",
        "outputId": "aad62bfe-6ea7-4e46-c4d1-402eeda1e2e5"
      },
      "source": [
        "print(classification_report(y_test, y_pred))"
      ],
      "execution_count": 35,
      "outputs": [
        {
          "output_type": "stream",
          "text": [
            "              precision    recall  f1-score   support\n",
            "\n",
            "           0       0.87      1.00      0.93       310\n",
            "           1       0.91      0.17      0.29        58\n",
            "\n",
            "    accuracy                           0.87       368\n",
            "   macro avg       0.89      0.58      0.61       368\n",
            "weighted avg       0.87      0.87      0.83       368\n",
            "\n"
          ],
          "name": "stdout"
        }
      ]
    },
    {
      "cell_type": "markdown",
      "metadata": {
        "id": "4QtYCK_z665O"
      },
      "source": [
        "\n",
        "**Evaluation/Visualize**\n",
        "\n",
        "---\n",
        "\n"
      ]
    },
    {
      "cell_type": "markdown",
      "metadata": {
        "id": "NIHTAODc7MXE"
      },
      "source": [
        "As it shows us from Moodle we can say :\n",
        "the model predicts quite well the \"none quite employees\" (92% accuracy) but it have a poor prediction of \"quite employees\" (29% accuracy)."
      ]
    },
    {
      "cell_type": "markdown",
      "metadata": {
        "id": "3-zevSdg7334"
      },
      "source": [
        "**Questions and answers**"
      ]
    },
    {
      "cell_type": "markdown",
      "metadata": {
        "id": "kx5uzIed77U1"
      },
      "source": [
        "1. Is it possible that the director of the organization is uncooperative and understanding, causing an organization to lose staff?\n",
        "\n",
        "\n",
        "\n",
        "> The failure of some managers to deal with employees properly, because it is necessary for managers and leaders to have a set of features that help them to deal with employees in a way that always lifts their morale and motivates them to work, so the owners of companies and organizations must train new managers to deal with employees, and lead them properly.\n",
        "\n",
        "\n",
        "\n",
        "\n",
        "\n",
        "\n"
      ]
    },
    {
      "cell_type": "markdown",
      "metadata": {
        "id": "0NDQWvL7x6i-"
      },
      "source": [
        "![‏لقطة الشاشة ٢٠٢٠-١٢-٢٨ في ٢٣.٣٥.٥٤.png](data:image/png;base64,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)"
      ]
    },
    {
      "cell_type": "markdown",
      "metadata": {
        "id": "tJMbvQUZyyrE"
      },
      "source": [
        "We can noobserve te that employees who resign have less time with their manager than employees who are still on the job. "
      ]
    },
    {
      "cell_type": "markdown",
      "metadata": {
        "id": "abdB21MSxZ58"
      },
      "source": [
        "\n",
        "2.  Is it only the salary that attracts the employee in the work environment?\n",
        "\n",
        "\n",
        "> Failure to give workers their full material rights and of course the worker's main objective of his work is financial gain, and in case of continuing to default the worker has no choice but to leave work.\n",
        "\n",
        "\n"
      ]
    },
    {
      "cell_type": "markdown",
      "metadata": {
        "id": "ZfkGPtW7x7OV"
      },
      "source": [
        "![‏لقطة الشاشة ٢٠٢٠-١٢-٢٨ في ٢٣.٣٦.٠١.png](data:image/png;base64,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)"
      ]
    },
    {
      "cell_type": "markdown",
      "metadata": {
        "id": "mqkg5tktxaFW"
      },
      "source": [
        "3. Is it possible to have motivating factors for an employee to stay in the organization?\n",
        "\n",
        "\n",
        "> The existence of problems among employees whether the causes of these problems hatred, hatred or jealousy or lack of understanding between them and the failure to find an appropriate way to communicate and dialogue in a proper way other causes and these problems cause the misery of some employees, and this is what drives them to leave work.\n",
        "\n",
        "\n"
      ]
    },
    {
      "cell_type": "markdown",
      "metadata": {
        "id": "waT2BYYRx7qu"
      },
      "source": [
        "![‏لقطة الشاشة ٢٠٢٠-١٢-٢٨ في ٢٣.٣٦.١٤.png](data:image/png;base64,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)"
      ]
    },
    {
      "cell_type": "markdown",
      "metadata": {
        "id": "q04R776PyM5X"
      },
      "source": [
        "The graph shows that employees between q1 and 2 correspond to a lower satisfaction rate with coworkers."
      ]
    },
    {
      "cell_type": "markdown",
      "metadata": {
        "id": "6jHd-swo8FFK"
      },
      "source": [
        "**Conclusions**\n",
        "\n",
        "---\n",
        "\n"
      ]
    },
    {
      "cell_type": "markdown",
      "metadata": {
        "id": "E_dDb7BR8jFH"
      },
      "source": [
        "While a non-competitive salary, poor work environment, or poor relationship with the boss may be reasons for terminating a worker, there can be many factors that cause an employee to leave his job other than those mentioned."
      ]
    }
  ]
}